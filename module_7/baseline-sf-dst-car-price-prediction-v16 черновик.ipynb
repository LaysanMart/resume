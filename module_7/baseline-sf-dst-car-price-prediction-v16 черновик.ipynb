{
 "cells": [
  {
   "cell_type": "markdown",
   "metadata": {
    "papermill": {
     "duration": 0.029718,
     "end_time": "2020-10-26T12:46:41.276296",
     "exception": false,
     "start_time": "2020-10-26T12:46:41.246578",
     "status": "completed"
    },
    "tags": []
   },
   "source": [
    "<img src=\"https://whatcar.vn/media/2018/09/car-lot-940x470.jpg\"/>\n",
    "\n",
    "## Прогнозирование стоимости автомобиля по характеристикам\n",
    "*Этот Ноутбук является Примером/Шаблоном (Baseline) к этому соревнованию и не служит готовым решением!*   \n",
    "Вы можете использовать его как основу для построения своего решения.\n",
    "\n",
    "\n",
    "> **baseline** создается больше как шаблон, где можно посмотреть как происходит обращение с входящими данными и что нужно получить на выходе. При этом МЛ начинка может быть достаточно простой. Это помогает быстрее приступить к самому МЛ, а не тратить ценное время на чисто инженерные задачи. \n",
    "Также baseline является хорошей опорной точкой по метрике. Если твое решение хуже baseline - ты явно делаешь что-то не то и стоит попробовать другой путь) "
   ]
  },
  {
   "cell_type": "markdown",
   "metadata": {
    "papermill": {
     "duration": 0.028027,
     "end_time": "2020-10-26T12:46:41.334278",
     "exception": false,
     "start_time": "2020-10-26T12:46:41.306251",
     "status": "completed"
    },
    "tags": []
   },
   "source": [
    "Помним, что по условию соревнования, нам нужно самостоятельно собрать обучающий датасет. В этом ноутбуке мы не будем рассматривать сбор данных. Предположим, что мы уже все собрали и просто подключили свой датасет через \"Add Data\", чтобы приступить к самому ML."
   ]
  },
  {
   "cell_type": "code",
   "execution_count": null,
   "metadata": {},
   "outputs": [],
   "source": [
    "#!pip install catboost"
   ]
  },
  {
   "cell_type": "code",
   "execution_count": 1,
   "metadata": {
    "_cell_guid": "b1076dfc-b9ad-4769-8c92-a6c4dae69d19",
    "_uuid": "8f2839f25d086af736a60e9eeb907d3b93b6e0e5",
    "papermill": {
     "duration": 1.219772,
     "end_time": "2020-10-26T12:46:42.581597",
     "exception": false,
     "start_time": "2020-10-26T12:46:41.361825",
     "status": "completed"
    },
    "tags": []
   },
   "outputs": [],
   "source": [
    "import numpy as np # linear algebra\n",
    "import pandas as pd # data processing, CSV file I/O (e.g. pd.read_csv)\n",
    "import sys\n",
    "import re\n",
    "from sklearn.model_selection import train_test_split\n",
    "from sklearn.model_selection import KFold\n",
    "from tqdm.notebook import tqdm\n",
    "from catboost import CatBoostRegressor\n",
    "from sklearn.preprocessing import LabelEncoder\n",
    "from pandas_profiling import ProfileReport\n",
    "from sklearn.ensemble import ExtraTreesRegressor\n",
    "import matplotlib.pyplot as plt\n",
    "import seaborn as sns \n",
    "from sklearn.feature_selection import f_classif, mutual_info_classif\n",
    "from pandas import Series\n",
    "from sklearn.ensemble import RandomForestRegressor"
   ]
  },
  {
   "cell_type": "code",
   "execution_count": 2,
   "metadata": {},
   "outputs": [
    {
     "name": "stderr",
     "output_type": "stream",
     "text": [
      "C:\\Users\\cloud\\anaconda3\\lib\\site-packages\\sklearn\\utils\\deprecation.py:143: FutureWarning: The sklearn.utils.testing module is  deprecated in version 0.22 and will be removed in version 0.24. The corresponding classes / functions should instead be imported from sklearn.utils. Anything that cannot be imported from sklearn.utils is now part of the private API.\n",
      "  warnings.warn(message, FutureWarning)\n"
     ]
    }
   ],
   "source": [
    "from lazypredict.Supervised import LazyRegressor"
   ]
  },
  {
   "cell_type": "code",
   "execution_count": 3,
   "metadata": {
    "_kg_hide-input": true,
    "papermill": {
     "duration": 0.040034,
     "end_time": "2020-10-26T12:46:42.650603",
     "exception": false,
     "start_time": "2020-10-26T12:46:42.610569",
     "status": "completed"
    },
    "tags": []
   },
   "outputs": [
    {
     "name": "stdout",
     "output_type": "stream",
     "text": [
      "Python       : 3.8.5 (default, Sep  3 2020, 21:29:08) [MSC v.1916 64 bit (AMD64)]\n",
      "Numpy        : 1.19.1\n"
     ]
    }
   ],
   "source": [
    "print('Python       :', sys.version.split('\\n')[0])\n",
    "print('Numpy        :', np.__version__)"
   ]
  },
  {
   "cell_type": "code",
   "execution_count": 4,
   "metadata": {
    "_kg_hide-input": true,
    "papermill": {
     "duration": 5.172536,
     "end_time": "2020-10-26T12:46:47.852593",
     "exception": false,
     "start_time": "2020-10-26T12:46:42.680057",
     "status": "completed"
    },
    "tags": []
   },
   "outputs": [],
   "source": [
    "# зафиксируем версию пакетов, чтобы эксперименты были воспроизводимы:\n",
    "!pip freeze > requirements.txt"
   ]
  },
  {
   "cell_type": "code",
   "execution_count": 5,
   "metadata": {
    "papermill": {
     "duration": 0.039842,
     "end_time": "2020-10-26T12:46:47.922434",
     "exception": false,
     "start_time": "2020-10-26T12:46:47.882592",
     "status": "completed"
    },
    "tags": []
   },
   "outputs": [],
   "source": [
    "# всегда фиксируйте RANDOM_SEED, чтобы ваши эксперименты были воспроизводимы!\n",
    "RANDOM_SEED = 42"
   ]
  },
  {
   "cell_type": "code",
   "execution_count": 6,
   "metadata": {
    "_kg_hide-input": true
   },
   "outputs": [],
   "source": [
    "def mape(y_true, y_pred):\n",
    "    return np.mean(np.abs((y_pred-y_true)/y_true))"
   ]
  },
  {
   "cell_type": "markdown",
   "metadata": {
    "papermill": {
     "duration": 0.028837,
     "end_time": "2020-10-26T12:46:47.981435",
     "exception": false,
     "start_time": "2020-10-26T12:46:47.952598",
     "status": "completed"
    },
    "tags": []
   },
   "source": [
    "# Setup"
   ]
  },
  {
   "cell_type": "code",
   "execution_count": 7,
   "metadata": {
    "papermill": {
     "duration": 0.039969,
     "end_time": "2020-10-26T12:46:48.052728",
     "exception": false,
     "start_time": "2020-10-26T12:46:48.012759",
     "status": "completed"
    },
    "tags": []
   },
   "outputs": [],
   "source": [
    "VERSION    = 16\n",
    "DIR_TRAIN  = '../input/parsing-all-moscow-auto-ru-09-09-2020/' # подключил к ноутбуку внешний датасет\n",
    "DIR_TEST   = '../input/sf-dst-car-price-prediction/'\n",
    "VAL_SIZE   = 0.20   # 20%"
   ]
  },
  {
   "cell_type": "markdown",
   "metadata": {
    "papermill": {
     "duration": 0.030254,
     "end_time": "2020-10-26T12:46:48.112586",
     "exception": false,
     "start_time": "2020-10-26T12:46:48.082332",
     "status": "completed"
    },
    "tags": []
   },
   "source": [
    "# Data"
   ]
  },
  {
   "cell_type": "code",
   "execution_count": 8,
   "metadata": {
    "papermill": {
     "duration": 0.783211,
     "end_time": "2020-10-26T12:46:48.925418",
     "exception": false,
     "start_time": "2020-10-26T12:46:48.142207",
     "status": "completed"
    },
    "tags": []
   },
   "outputs": [
    {
     "name": "stderr",
     "output_type": "stream",
     "text": [
      "\"ls\" ­Ґ пў«пҐвбп ў­гваҐ­­Ґ© Ё«Ё ў­Ґи­Ґ©\n",
      "Є®¬ ­¤®©, ЁбЇ®«­пҐ¬®© Їа®Ја ¬¬®© Ё«Ё Ї ЄҐв­л¬ д ©«®¬.\n"
     ]
    }
   ],
   "source": [
    "!ls '../input'"
   ]
  },
  {
   "cell_type": "code",
   "execution_count": 9,
   "metadata": {
    "_cell_guid": "79c7e3d0-c299-4dcb-8224-4455121ee9b0",
    "_uuid": "d629ff2d2480ee46fbb7e2d37f6b5fab8052498a",
    "papermill": {
     "duration": 13.16556,
     "end_time": "2020-10-26T12:47:02.12133",
     "exception": false,
     "start_time": "2020-10-26T12:46:48.95577",
     "status": "completed"
    },
    "tags": []
   },
   "outputs": [],
   "source": [
    "train = pd.read_csv('df_train_cars.csv') # датасет для обучения модели\n",
    "test = pd.read_csv('test.csv')\n",
    "sample_submission = pd.read_csv('sample_submission.csv')"
   ]
  },
  {
   "cell_type": "code",
   "execution_count": 10,
   "metadata": {
    "papermill": {
     "duration": 0.09378,
     "end_time": "2020-10-26T12:47:02.246755",
     "exception": false,
     "start_time": "2020-10-26T12:47:02.152975",
     "status": "completed"
    },
    "tags": []
   },
   "outputs": [
    {
     "data": {
      "text/html": [
       "<div>\n",
       "<style scoped>\n",
       "    .dataframe tbody tr th:only-of-type {\n",
       "        vertical-align: middle;\n",
       "    }\n",
       "\n",
       "    .dataframe tbody tr th {\n",
       "        vertical-align: top;\n",
       "    }\n",
       "\n",
       "    .dataframe thead th {\n",
       "        text-align: right;\n",
       "    }\n",
       "</style>\n",
       "<table border=\"1\" class=\"dataframe\">\n",
       "  <thead>\n",
       "    <tr style=\"text-align: right;\">\n",
       "      <th></th>\n",
       "      <th>car_url</th>\n",
       "      <th>brand</th>\n",
       "      <th>bodyType</th>\n",
       "      <th>color</th>\n",
       "      <th>description</th>\n",
       "      <th>engineDisplacement</th>\n",
       "      <th>enginePower</th>\n",
       "      <th>equipment_dict</th>\n",
       "      <th>fuelType</th>\n",
       "      <th>mileage</th>\n",
       "      <th>...</th>\n",
       "      <th>vehicleTransmission</th>\n",
       "      <th>vendor</th>\n",
       "      <th>Владельцы</th>\n",
       "      <th>ПТС</th>\n",
       "      <th>Привод</th>\n",
       "      <th>Руль</th>\n",
       "      <th>Состояние</th>\n",
       "      <th>Таможня</th>\n",
       "      <th>price</th>\n",
       "      <th>city</th>\n",
       "    </tr>\n",
       "  </thead>\n",
       "  <tbody>\n",
       "    <tr>\n",
       "      <th>0</th>\n",
       "      <td>https://auto.ru/cars/used/sale/skoda/octavia/1...</td>\n",
       "      <td>SKODA</td>\n",
       "      <td>лифтбек</td>\n",
       "      <td>золотистый</td>\n",
       "      <td>Все автомобили, представленные в продаже, прох...</td>\n",
       "      <td>1.8 LTR</td>\n",
       "      <td>152.00</td>\n",
       "      <td>{'cruise-control': True, 'esp': True, 'airbag-...</td>\n",
       "      <td>Бензин</td>\n",
       "      <td>177000.00</td>\n",
       "      <td>...</td>\n",
       "      <td>автоматическая</td>\n",
       "      <td>EUROPEAN</td>\n",
       "      <td>4.00</td>\n",
       "      <td>Оригинал</td>\n",
       "      <td>передний</td>\n",
       "      <td>Левый</td>\n",
       "      <td>Не требует ремонта</td>\n",
       "      <td>Растаможен</td>\n",
       "      <td>540000.00</td>\n",
       "      <td>Москва</td>\n",
       "    </tr>\n",
       "    <tr>\n",
       "      <th>1</th>\n",
       "      <td>https://auto.ru/cars/used/sale/skoda/rapid/110...</td>\n",
       "      <td>SKODA</td>\n",
       "      <td>лифтбек</td>\n",
       "      <td>серый</td>\n",
       "      <td>НЕ ТАКСИ ! НЕ БИТАЯ И НЕ КРАШЕНАЯ ! Хорошая ко...</td>\n",
       "      <td>1.6 LTR</td>\n",
       "      <td>110.00</td>\n",
       "      <td>{'cruise-control': True, 'esp': True, 'usb': T...</td>\n",
       "      <td>Бензин</td>\n",
       "      <td>23000.00</td>\n",
       "      <td>...</td>\n",
       "      <td>автоматическая</td>\n",
       "      <td>EUROPEAN</td>\n",
       "      <td>1.00</td>\n",
       "      <td>Оригинал</td>\n",
       "      <td>передний</td>\n",
       "      <td>Левый</td>\n",
       "      <td>Не требует ремонта</td>\n",
       "      <td>Растаможен</td>\n",
       "      <td>1610000.00</td>\n",
       "      <td>Москва</td>\n",
       "    </tr>\n",
       "    <tr>\n",
       "      <th>2</th>\n",
       "      <td>https://auto.ru/cars/used/sale/skoda/octavia_r...</td>\n",
       "      <td>SKODA</td>\n",
       "      <td>лифтбек</td>\n",
       "      <td>серый</td>\n",
       "      <td>2 Владелец \\nДокументы Оригинал \\nКомплект Клю...</td>\n",
       "      <td>2.0 LTR</td>\n",
       "      <td>200.00</td>\n",
       "      <td>{'cruise-control': True, 'esp': True, 'airbag-...</td>\n",
       "      <td>Бензин</td>\n",
       "      <td>221000.00</td>\n",
       "      <td>...</td>\n",
       "      <td>роботизированная</td>\n",
       "      <td>EUROPEAN</td>\n",
       "      <td>2.00</td>\n",
       "      <td>Оригинал</td>\n",
       "      <td>передний</td>\n",
       "      <td>Левый</td>\n",
       "      <td>Не требует ремонта</td>\n",
       "      <td>Растаможен</td>\n",
       "      <td>960000.00</td>\n",
       "      <td>Москва</td>\n",
       "    </tr>\n",
       "    <tr>\n",
       "      <th>3</th>\n",
       "      <td>https://auto.ru/cars/used/sale/skoda/octavia_r...</td>\n",
       "      <td>SKODA</td>\n",
       "      <td>лифтбек</td>\n",
       "      <td>зелёный</td>\n",
       "      <td>Продам Skoda Octavia RS (200 л.с) 2012 года вы...</td>\n",
       "      <td>2.0 LTR</td>\n",
       "      <td>200.00</td>\n",
       "      <td>{'cruise-control': True, 'asr': True, 'tinted-...</td>\n",
       "      <td>Бензин</td>\n",
       "      <td>240000.00</td>\n",
       "      <td>...</td>\n",
       "      <td>роботизированная</td>\n",
       "      <td>EUROPEAN</td>\n",
       "      <td>4.00</td>\n",
       "      <td>Дубликат</td>\n",
       "      <td>передний</td>\n",
       "      <td>Левый</td>\n",
       "      <td>Не требует ремонта</td>\n",
       "      <td>Растаможен</td>\n",
       "      <td>1190000.00</td>\n",
       "      <td>Москва</td>\n",
       "    </tr>\n",
       "    <tr>\n",
       "      <th>4</th>\n",
       "      <td>https://auto.ru/cars/used/sale/skoda/octavia/1...</td>\n",
       "      <td>SKODA</td>\n",
       "      <td>лифтбек</td>\n",
       "      <td>чёрный</td>\n",
       "      <td>Авто в хорошем состоянии,что было сделано по д...</td>\n",
       "      <td>2.0 LTR</td>\n",
       "      <td>140.00</td>\n",
       "      <td>{'cruise-control': True, 'tinted-glass': True,...</td>\n",
       "      <td>Дизель</td>\n",
       "      <td>275000.00</td>\n",
       "      <td>...</td>\n",
       "      <td>роботизированная</td>\n",
       "      <td>EUROPEAN</td>\n",
       "      <td>3.00</td>\n",
       "      <td>Дубликат</td>\n",
       "      <td>передний</td>\n",
       "      <td>Левый</td>\n",
       "      <td>Не требует ремонта</td>\n",
       "      <td>Растаможен</td>\n",
       "      <td>660000.00</td>\n",
       "      <td>Москва</td>\n",
       "    </tr>\n",
       "  </tbody>\n",
       "</table>\n",
       "<p>5 rows × 27 columns</p>\n",
       "</div>"
      ],
      "text/plain": [
       "                                             car_url  brand bodyType  \\\n",
       "0  https://auto.ru/cars/used/sale/skoda/octavia/1...  SKODA  лифтбек   \n",
       "1  https://auto.ru/cars/used/sale/skoda/rapid/110...  SKODA  лифтбек   \n",
       "2  https://auto.ru/cars/used/sale/skoda/octavia_r...  SKODA  лифтбек   \n",
       "3  https://auto.ru/cars/used/sale/skoda/octavia_r...  SKODA  лифтбек   \n",
       "4  https://auto.ru/cars/used/sale/skoda/octavia/1...  SKODA  лифтбек   \n",
       "\n",
       "        color                                        description  \\\n",
       "0  золотистый  Все автомобили, представленные в продаже, прох...   \n",
       "1       серый  НЕ ТАКСИ ! НЕ БИТАЯ И НЕ КРАШЕНАЯ ! Хорошая ко...   \n",
       "2       серый  2 Владелец \\nДокументы Оригинал \\nКомплект Клю...   \n",
       "3     зелёный  Продам Skoda Octavia RS (200 л.с) 2012 года вы...   \n",
       "4      чёрный  Авто в хорошем состоянии,что было сделано по д...   \n",
       "\n",
       "  engineDisplacement  enginePower  \\\n",
       "0            1.8 LTR       152.00   \n",
       "1            1.6 LTR       110.00   \n",
       "2            2.0 LTR       200.00   \n",
       "3            2.0 LTR       200.00   \n",
       "4            2.0 LTR       140.00   \n",
       "\n",
       "                                      equipment_dict fuelType   mileage  ...  \\\n",
       "0  {'cruise-control': True, 'esp': True, 'airbag-...   Бензин 177000.00  ...   \n",
       "1  {'cruise-control': True, 'esp': True, 'usb': T...   Бензин  23000.00  ...   \n",
       "2  {'cruise-control': True, 'esp': True, 'airbag-...   Бензин 221000.00  ...   \n",
       "3  {'cruise-control': True, 'asr': True, 'tinted-...   Бензин 240000.00  ...   \n",
       "4  {'cruise-control': True, 'tinted-glass': True,...   Дизель 275000.00  ...   \n",
       "\n",
       "   vehicleTransmission    vendor  Владельцы       ПТС    Привод   Руль  \\\n",
       "0       автоматическая  EUROPEAN       4.00  Оригинал  передний  Левый   \n",
       "1       автоматическая  EUROPEAN       1.00  Оригинал  передний  Левый   \n",
       "2     роботизированная  EUROPEAN       2.00  Оригинал  передний  Левый   \n",
       "3     роботизированная  EUROPEAN       4.00  Дубликат  передний  Левый   \n",
       "4     роботизированная  EUROPEAN       3.00  Дубликат  передний  Левый   \n",
       "\n",
       "            Состояние     Таможня      price    city  \n",
       "0  Не требует ремонта  Растаможен  540000.00  Москва  \n",
       "1  Не требует ремонта  Растаможен 1610000.00  Москва  \n",
       "2  Не требует ремонта  Растаможен  960000.00  Москва  \n",
       "3  Не требует ремонта  Растаможен 1190000.00  Москва  \n",
       "4  Не требует ремонта  Растаможен  660000.00  Москва  \n",
       "\n",
       "[5 rows x 27 columns]"
      ]
     },
     "execution_count": 10,
     "metadata": {},
     "output_type": "execute_result"
    }
   ],
   "source": [
    "train.head(5)"
   ]
  },
  {
   "cell_type": "code",
   "execution_count": 11,
   "metadata": {
    "papermill": {
     "duration": 0.22352,
     "end_time": "2020-10-26T12:47:02.502166",
     "exception": false,
     "start_time": "2020-10-26T12:47:02.278646",
     "status": "completed"
    },
    "tags": []
   },
   "outputs": [
    {
     "name": "stdout",
     "output_type": "stream",
     "text": [
      "<class 'pandas.core.frame.DataFrame'>\n",
      "RangeIndex: 48383 entries, 0 to 48382\n",
      "Data columns (total 27 columns):\n",
      " #   Column               Non-Null Count  Dtype  \n",
      "---  ------               --------------  -----  \n",
      " 0   car_url              48383 non-null  object \n",
      " 1   brand                48383 non-null  object \n",
      " 2   bodyType             48383 non-null  object \n",
      " 3   color                48383 non-null  object \n",
      " 4   description          48383 non-null  object \n",
      " 5   engineDisplacement   48383 non-null  object \n",
      " 6   enginePower          47799 non-null  float64\n",
      " 7   equipment_dict       48383 non-null  object \n",
      " 8   fuelType             47968 non-null  object \n",
      " 9   mileage              47968 non-null  float64\n",
      " 10  modelDate            48383 non-null  float64\n",
      " 11  model_name           48383 non-null  object \n",
      " 12  numberOfDoors        48383 non-null  float64\n",
      " 13  parsing_unixtime     48383 non-null  float64\n",
      " 14  priceCurrency        48383 non-null  object \n",
      " 15  productionDate       48383 non-null  float64\n",
      " 16  super_gen            48383 non-null  object \n",
      " 17  vehicleTransmission  47968 non-null  object \n",
      " 18  vendor               48383 non-null  object \n",
      " 19  Владельцы            47967 non-null  float64\n",
      " 20  ПТС                  47967 non-null  object \n",
      " 21  Привод               47968 non-null  object \n",
      " 22  Руль                 47968 non-null  object \n",
      " 23  Состояние            47968 non-null  object \n",
      " 24  Таможня              47968 non-null  object \n",
      " 25  price                48383 non-null  float64\n",
      " 26  city                 48383 non-null  object \n",
      "dtypes: float64(8), object(19)\n",
      "memory usage: 10.0+ MB\n"
     ]
    }
   ],
   "source": [
    "train.info()"
   ]
  },
  {
   "cell_type": "code",
   "execution_count": 12,
   "metadata": {
    "papermill": {
     "duration": 0.069985,
     "end_time": "2020-10-26T12:47:02.604497",
     "exception": false,
     "start_time": "2020-10-26T12:47:02.534512",
     "status": "completed"
    },
    "tags": []
   },
   "outputs": [
    {
     "data": {
      "text/html": [
       "<div>\n",
       "<style scoped>\n",
       "    .dataframe tbody tr th:only-of-type {\n",
       "        vertical-align: middle;\n",
       "    }\n",
       "\n",
       "    .dataframe tbody tr th {\n",
       "        vertical-align: top;\n",
       "    }\n",
       "\n",
       "    .dataframe thead th {\n",
       "        text-align: right;\n",
       "    }\n",
       "</style>\n",
       "<table border=\"1\" class=\"dataframe\">\n",
       "  <thead>\n",
       "    <tr style=\"text-align: right;\">\n",
       "      <th></th>\n",
       "      <th>bodyType</th>\n",
       "      <th>brand</th>\n",
       "      <th>car_url</th>\n",
       "      <th>color</th>\n",
       "      <th>complectation_dict</th>\n",
       "      <th>description</th>\n",
       "      <th>engineDisplacement</th>\n",
       "      <th>enginePower</th>\n",
       "      <th>equipment_dict</th>\n",
       "      <th>fuelType</th>\n",
       "      <th>...</th>\n",
       "      <th>vehicleConfiguration</th>\n",
       "      <th>vehicleTransmission</th>\n",
       "      <th>vendor</th>\n",
       "      <th>Владельцы</th>\n",
       "      <th>Владение</th>\n",
       "      <th>ПТС</th>\n",
       "      <th>Привод</th>\n",
       "      <th>Руль</th>\n",
       "      <th>Состояние</th>\n",
       "      <th>Таможня</th>\n",
       "    </tr>\n",
       "  </thead>\n",
       "  <tbody>\n",
       "    <tr>\n",
       "      <th>0</th>\n",
       "      <td>лифтбек</td>\n",
       "      <td>SKODA</td>\n",
       "      <td>https://auto.ru/cars/used/sale/skoda/octavia/1...</td>\n",
       "      <td>синий</td>\n",
       "      <td>NaN</td>\n",
       "      <td>Все автомобили, представленные в продаже, прох...</td>\n",
       "      <td>1.2 LTR</td>\n",
       "      <td>105 N12</td>\n",
       "      <td>{\"engine-proof\":true,\"tinted-glass\":true,\"airb...</td>\n",
       "      <td>бензин</td>\n",
       "      <td>...</td>\n",
       "      <td>LIFTBACK ROBOT 1.2</td>\n",
       "      <td>роботизированная</td>\n",
       "      <td>EUROPEAN</td>\n",
       "      <td>3 или более</td>\n",
       "      <td>NaN</td>\n",
       "      <td>Оригинал</td>\n",
       "      <td>передний</td>\n",
       "      <td>Левый</td>\n",
       "      <td>Не требует ремонта</td>\n",
       "      <td>Растаможен</td>\n",
       "    </tr>\n",
       "    <tr>\n",
       "      <th>1</th>\n",
       "      <td>лифтбек</td>\n",
       "      <td>SKODA</td>\n",
       "      <td>https://auto.ru/cars/used/sale/skoda/octavia/1...</td>\n",
       "      <td>чёрный</td>\n",
       "      <td>NaN</td>\n",
       "      <td>ЛОТ: 01217195\\nАвтопрага Север\\nДанный автомоб...</td>\n",
       "      <td>1.6 LTR</td>\n",
       "      <td>110 N12</td>\n",
       "      <td>{\"cruise-control\":true,\"asr\":true,\"esp\":true,\"...</td>\n",
       "      <td>бензин</td>\n",
       "      <td>...</td>\n",
       "      <td>LIFTBACK MECHANICAL 1.6</td>\n",
       "      <td>механическая</td>\n",
       "      <td>EUROPEAN</td>\n",
       "      <td>1 владелец</td>\n",
       "      <td>NaN</td>\n",
       "      <td>Оригинал</td>\n",
       "      <td>передний</td>\n",
       "      <td>Левый</td>\n",
       "      <td>Не требует ремонта</td>\n",
       "      <td>Растаможен</td>\n",
       "    </tr>\n",
       "    <tr>\n",
       "      <th>2</th>\n",
       "      <td>лифтбек</td>\n",
       "      <td>SKODA</td>\n",
       "      <td>https://auto.ru/cars/used/sale/skoda/superb/11...</td>\n",
       "      <td>серый</td>\n",
       "      <td>{\"id\":\"20026336\",\"name\":\"Ambition\",\"available_...</td>\n",
       "      <td>Все автомобили, представленные в продаже, прох...</td>\n",
       "      <td>1.8 LTR</td>\n",
       "      <td>152 N12</td>\n",
       "      <td>{\"cruise-control\":true,\"tinted-glass\":true,\"es...</td>\n",
       "      <td>бензин</td>\n",
       "      <td>...</td>\n",
       "      <td>LIFTBACK ROBOT 1.8</td>\n",
       "      <td>роботизированная</td>\n",
       "      <td>EUROPEAN</td>\n",
       "      <td>1 владелец</td>\n",
       "      <td>NaN</td>\n",
       "      <td>Оригинал</td>\n",
       "      <td>передний</td>\n",
       "      <td>Левый</td>\n",
       "      <td>Не требует ремонта</td>\n",
       "      <td>Растаможен</td>\n",
       "    </tr>\n",
       "    <tr>\n",
       "      <th>3</th>\n",
       "      <td>лифтбек</td>\n",
       "      <td>SKODA</td>\n",
       "      <td>https://auto.ru/cars/used/sale/skoda/octavia/1...</td>\n",
       "      <td>коричневый</td>\n",
       "      <td>{\"id\":\"20803582\",\"name\":\"Ambition\",\"available_...</td>\n",
       "      <td>КОМПЛЕКТ ЗИМНЕЙ (ЛЕТНЕЙ) РЕЗИНЫ ПО СЕЗОНУ В ПО...</td>\n",
       "      <td>1.6 LTR</td>\n",
       "      <td>110 N12</td>\n",
       "      <td>{\"cruise-control\":true,\"roller-blind-for-rear-...</td>\n",
       "      <td>бензин</td>\n",
       "      <td>...</td>\n",
       "      <td>LIFTBACK AUTOMATIC 1.6</td>\n",
       "      <td>автоматическая</td>\n",
       "      <td>EUROPEAN</td>\n",
       "      <td>1 владелец</td>\n",
       "      <td>NaN</td>\n",
       "      <td>Оригинал</td>\n",
       "      <td>передний</td>\n",
       "      <td>Левый</td>\n",
       "      <td>Не требует ремонта</td>\n",
       "      <td>Растаможен</td>\n",
       "    </tr>\n",
       "    <tr>\n",
       "      <th>4</th>\n",
       "      <td>лифтбек</td>\n",
       "      <td>SKODA</td>\n",
       "      <td>https://auto.ru/cars/used/sale/skoda/octavia/1...</td>\n",
       "      <td>белый</td>\n",
       "      <td>NaN</td>\n",
       "      <td>ЛОТ: 01220889\\nАвтопрага Север\\n\\nВы можете по...</td>\n",
       "      <td>1.8 LTR</td>\n",
       "      <td>152 N12</td>\n",
       "      <td>{\"cruise-control\":true,\"asr\":true,\"esp\":true,\"...</td>\n",
       "      <td>бензин</td>\n",
       "      <td>...</td>\n",
       "      <td>LIFTBACK AUTOMATIC 1.8</td>\n",
       "      <td>автоматическая</td>\n",
       "      <td>EUROPEAN</td>\n",
       "      <td>1 владелец</td>\n",
       "      <td>NaN</td>\n",
       "      <td>Оригинал</td>\n",
       "      <td>передний</td>\n",
       "      <td>Левый</td>\n",
       "      <td>Не требует ремонта</td>\n",
       "      <td>Растаможен</td>\n",
       "    </tr>\n",
       "  </tbody>\n",
       "</table>\n",
       "<p>5 rows × 32 columns</p>\n",
       "</div>"
      ],
      "text/plain": [
       "  bodyType  brand                                            car_url  \\\n",
       "0  лифтбек  SKODA  https://auto.ru/cars/used/sale/skoda/octavia/1...   \n",
       "1  лифтбек  SKODA  https://auto.ru/cars/used/sale/skoda/octavia/1...   \n",
       "2  лифтбек  SKODA  https://auto.ru/cars/used/sale/skoda/superb/11...   \n",
       "3  лифтбек  SKODA  https://auto.ru/cars/used/sale/skoda/octavia/1...   \n",
       "4  лифтбек  SKODA  https://auto.ru/cars/used/sale/skoda/octavia/1...   \n",
       "\n",
       "        color                                 complectation_dict  \\\n",
       "0       синий                                                NaN   \n",
       "1      чёрный                                                NaN   \n",
       "2       серый  {\"id\":\"20026336\",\"name\":\"Ambition\",\"available_...   \n",
       "3  коричневый  {\"id\":\"20803582\",\"name\":\"Ambition\",\"available_...   \n",
       "4       белый                                                NaN   \n",
       "\n",
       "                                         description engineDisplacement  \\\n",
       "0  Все автомобили, представленные в продаже, прох...            1.2 LTR   \n",
       "1  ЛОТ: 01217195\\nАвтопрага Север\\nДанный автомоб...            1.6 LTR   \n",
       "2  Все автомобили, представленные в продаже, прох...            1.8 LTR   \n",
       "3  КОМПЛЕКТ ЗИМНЕЙ (ЛЕТНЕЙ) РЕЗИНЫ ПО СЕЗОНУ В ПО...            1.6 LTR   \n",
       "4  ЛОТ: 01220889\\nАвтопрага Север\\n\\nВы можете по...            1.8 LTR   \n",
       "\n",
       "  enginePower                                     equipment_dict fuelType  \\\n",
       "0     105 N12  {\"engine-proof\":true,\"tinted-glass\":true,\"airb...   бензин   \n",
       "1     110 N12  {\"cruise-control\":true,\"asr\":true,\"esp\":true,\"...   бензин   \n",
       "2     152 N12  {\"cruise-control\":true,\"tinted-glass\":true,\"es...   бензин   \n",
       "3     110 N12  {\"cruise-control\":true,\"roller-blind-for-rear-...   бензин   \n",
       "4     152 N12  {\"cruise-control\":true,\"asr\":true,\"esp\":true,\"...   бензин   \n",
       "\n",
       "   ...     vehicleConfiguration  vehicleTransmission    vendor    Владельцы  \\\n",
       "0  ...       LIFTBACK ROBOT 1.2     роботизированная  EUROPEAN  3 или более   \n",
       "1  ...  LIFTBACK MECHANICAL 1.6         механическая  EUROPEAN   1 владелец   \n",
       "2  ...       LIFTBACK ROBOT 1.8     роботизированная  EUROPEAN   1 владелец   \n",
       "3  ...   LIFTBACK AUTOMATIC 1.6       автоматическая  EUROPEAN   1 владелец   \n",
       "4  ...   LIFTBACK AUTOMATIC 1.8       автоматическая  EUROPEAN   1 владелец   \n",
       "\n",
       "  Владение       ПТС    Привод   Руль           Состояние     Таможня  \n",
       "0      NaN  Оригинал  передний  Левый  Не требует ремонта  Растаможен  \n",
       "1      NaN  Оригинал  передний  Левый  Не требует ремонта  Растаможен  \n",
       "2      NaN  Оригинал  передний  Левый  Не требует ремонта  Растаможен  \n",
       "3      NaN  Оригинал  передний  Левый  Не требует ремонта  Растаможен  \n",
       "4      NaN  Оригинал  передний  Левый  Не требует ремонта  Растаможен  \n",
       "\n",
       "[5 rows x 32 columns]"
      ]
     },
     "execution_count": 12,
     "metadata": {},
     "output_type": "execute_result"
    }
   ],
   "source": [
    "test.head(5)"
   ]
  },
  {
   "cell_type": "code",
   "execution_count": 13,
   "metadata": {
    "papermill": {
     "duration": 0.160401,
     "end_time": "2020-10-26T12:47:02.798587",
     "exception": false,
     "start_time": "2020-10-26T12:47:02.638186",
     "status": "completed"
    },
    "tags": []
   },
   "outputs": [
    {
     "name": "stdout",
     "output_type": "stream",
     "text": [
      "<class 'pandas.core.frame.DataFrame'>\n",
      "RangeIndex: 34686 entries, 0 to 34685\n",
      "Data columns (total 32 columns):\n",
      " #   Column                Non-Null Count  Dtype \n",
      "---  ------                --------------  ----- \n",
      " 0   bodyType              34686 non-null  object\n",
      " 1   brand                 34686 non-null  object\n",
      " 2   car_url               34686 non-null  object\n",
      " 3   color                 34686 non-null  object\n",
      " 4   complectation_dict    6418 non-null   object\n",
      " 5   description           34686 non-null  object\n",
      " 6   engineDisplacement    34686 non-null  object\n",
      " 7   enginePower           34686 non-null  object\n",
      " 8   equipment_dict        24690 non-null  object\n",
      " 9   fuelType              34686 non-null  object\n",
      " 10  image                 34686 non-null  object\n",
      " 11  mileage               34686 non-null  int64 \n",
      " 12  modelDate             34686 non-null  int64 \n",
      " 13  model_info            34686 non-null  object\n",
      " 14  model_name            34686 non-null  object\n",
      " 15  name                  34686 non-null  object\n",
      " 16  numberOfDoors         34686 non-null  int64 \n",
      " 17  parsing_unixtime      34686 non-null  int64 \n",
      " 18  priceCurrency         34686 non-null  object\n",
      " 19  productionDate        34686 non-null  int64 \n",
      " 20  sell_id               34686 non-null  int64 \n",
      " 21  super_gen             34686 non-null  object\n",
      " 22  vehicleConfiguration  34686 non-null  object\n",
      " 23  vehicleTransmission   34686 non-null  object\n",
      " 24  vendor                34686 non-null  object\n",
      " 25  Владельцы             34686 non-null  object\n",
      " 26  Владение              11995 non-null  object\n",
      " 27  ПТС                   34685 non-null  object\n",
      " 28  Привод                34686 non-null  object\n",
      " 29  Руль                  34686 non-null  object\n",
      " 30  Состояние             34686 non-null  object\n",
      " 31  Таможня               34686 non-null  object\n",
      "dtypes: int64(6), object(26)\n",
      "memory usage: 8.5+ MB\n"
     ]
    }
   ],
   "source": [
    "test.info()"
   ]
  },
  {
   "cell_type": "code",
   "execution_count": 14,
   "metadata": {},
   "outputs": [],
   "source": [
    "#profile = ProfileReport(train, title='Pandas Profiling Report',)"
   ]
  },
  {
   "cell_type": "code",
   "execution_count": 15,
   "metadata": {},
   "outputs": [],
   "source": [
    "#profile.to_notebook_iframe()"
   ]
  },
  {
   "cell_type": "code",
   "execution_count": 16,
   "metadata": {},
   "outputs": [],
   "source": [
    "#profile.to_file(\"pandas_report_1.html\")"
   ]
  },
  {
   "cell_type": "markdown",
   "metadata": {},
   "source": [
    "## EDA"
   ]
  },
  {
   "cell_type": "code",
   "execution_count": 17,
   "metadata": {},
   "outputs": [],
   "source": [
    "train['sample'] = 1 # помечаем где у нас трейн\n",
    "test['sample'] = 0 # помечаем где у нас тест"
   ]
  },
  {
   "cell_type": "code",
   "execution_count": 18,
   "metadata": {},
   "outputs": [],
   "source": [
    "train['sell_id'] = 0"
   ]
  },
  {
   "cell_type": "code",
   "execution_count": 19,
   "metadata": {},
   "outputs": [],
   "source": [
    "columns = train.columns.to_list()"
   ]
  },
  {
   "cell_type": "code",
   "execution_count": 20,
   "metadata": {},
   "outputs": [],
   "source": [
    "test['city'] = 'Москва'\n",
    "test['price'] = 0"
   ]
  },
  {
   "cell_type": "code",
   "execution_count": 21,
   "metadata": {},
   "outputs": [],
   "source": [
    "test_df = test[columns]"
   ]
  },
  {
   "cell_type": "code",
   "execution_count": 22,
   "metadata": {},
   "outputs": [],
   "source": [
    "data = test_df.append(train, sort=False).reset_index(drop=True) # объединяем"
   ]
  },
  {
   "cell_type": "code",
   "execution_count": 23,
   "metadata": {},
   "outputs": [],
   "source": [
    "cat_cols = []\n",
    "num_cols = []\n",
    "bin_cols = []\n",
    "final_cols = []"
   ]
  },
  {
   "cell_type": "code",
   "execution_count": 24,
   "metadata": {},
   "outputs": [],
   "source": [
    "unknown_cols = list()"
   ]
  },
  {
   "cell_type": "markdown",
   "metadata": {},
   "source": [
    "#### bodyType"
   ]
  },
  {
   "cell_type": "code",
   "execution_count": 25,
   "metadata": {},
   "outputs": [
    {
     "data": {
      "text/plain": [
       "внедорожник 5 дв.                     31699\n",
       "седан                                 28264\n",
       "лифтбек                                5212\n",
       "хэтчбек 5 дв.                          4786\n",
       "универсал 5 дв.                        2725\n",
       "                                      ...  \n",
       "фастбек                                   1\n",
       "пикап одинарная кабина regular cab        1\n",
       "внедорожник 5 дв. rs                      1\n",
       "универсал 5 дв. california                1\n",
       "компактвэн cross                          1\n",
       "Name: bodyType, Length: 104, dtype: int64"
      ]
     },
     "execution_count": 25,
     "metadata": {},
     "output_type": "execute_result"
    }
   ],
   "source": [
    "data.bodyType.value_counts()"
   ]
  },
  {
   "cell_type": "code",
   "execution_count": 26,
   "metadata": {},
   "outputs": [
    {
     "data": {
      "text/plain": [
       "['внедорожник 5 дв.',\n",
       " 'седан',\n",
       " 'лифтбек',\n",
       " 'хэтчбек 5 дв.',\n",
       " 'универсал 5 дв.',\n",
       " 'минивэн',\n",
       " 'купе',\n",
       " 'компактвэн',\n",
       " 'хэтчбек 3 дв.',\n",
       " 'седан long',\n",
       " 'пикап двойная кабина']"
      ]
     },
     "execution_count": 26,
     "metadata": {},
     "output_type": "execute_result"
    }
   ],
   "source": [
    "common_bodyType = (data['bodyType'].value_counts(\n",
    ")[data['bodyType'].value_counts(normalize=True) > 0.005]).to_dict() # словарь с наиболее часто встречающимися типами кузова\n",
    "list_bodyType = list(common_bodyType.keys()) \n",
    "list_bodyType"
   ]
  },
  {
   "cell_type": "code",
   "execution_count": 27,
   "metadata": {},
   "outputs": [],
   "source": [
    "# редкие заменим на 'other'\n",
    "data.bodyType = data.bodyType.apply(lambda x: x if x in list_bodyType else 'other') "
   ]
  },
  {
   "cell_type": "code",
   "execution_count": 28,
   "metadata": {},
   "outputs": [
    {
     "data": {
      "text/plain": [
       "внедорожник 5 дв.       31699\n",
       "седан                   28264\n",
       "лифтбек                  5212\n",
       "хэтчбек 5 дв.            4786\n",
       "other                    2952\n",
       "универсал 5 дв.          2725\n",
       "минивэн                  1926\n",
       "купе                     1880\n",
       "компактвэн               1103\n",
       "хэтчбек 3 дв.            1073\n",
       "седан long                872\n",
       "пикап двойная кабина      577\n",
       "Name: bodyType, dtype: int64"
      ]
     },
     "execution_count": 28,
     "metadata": {},
     "output_type": "execute_result"
    }
   ],
   "source": [
    "data.bodyType.value_counts() "
   ]
  },
  {
   "cell_type": "code",
   "execution_count": 29,
   "metadata": {},
   "outputs": [],
   "source": [
    "cat_cols.append('bodyType') #добавим в финальный список"
   ]
  },
  {
   "cell_type": "markdown",
   "metadata": {},
   "source": [
    "#### brand"
   ]
  },
  {
   "cell_type": "code",
   "execution_count": 30,
   "metadata": {},
   "outputs": [],
   "source": [
    "%matplotlib inline"
   ]
  },
  {
   "cell_type": "code",
   "execution_count": 31,
   "metadata": {},
   "outputs": [
    {
     "data": {
      "text/plain": [
       "<AxesSubplot:>"
      ]
     },
     "execution_count": 31,
     "metadata": {},
     "output_type": "execute_result"
    },
    {
     "data": {
      "image/png": "[encoded data removed]",
      "text/plain": [
       "<Figure size 432x288 with 1 Axes>"
      ]
     },
     "metadata": {
      "needs_background": "light"
     },
     "output_type": "display_data"
    }
   ],
   "source": [
    "data.brand.value_counts().plot.barh()"
   ]
  },
  {
   "cell_type": "code",
   "execution_count": 32,
   "metadata": {},
   "outputs": [],
   "source": [
    "cat_cols.append('brand')"
   ]
  },
  {
   "cell_type": "markdown",
   "metadata": {},
   "source": [
    "## color"
   ]
  },
  {
   "cell_type": "code",
   "execution_count": 33,
   "metadata": {},
   "outputs": [
    {
     "data": {
      "text/plain": [
       "чёрный        0.31\n",
       "белый         0.20\n",
       "серый         0.13\n",
       "серебристый   0.11\n",
       "синий         0.09\n",
       "красный       0.04\n",
       "коричневый    0.04\n",
       "зелёный       0.02\n",
       "бежевый       0.02\n",
       "голубой       0.01\n",
       "пурпурный     0.01\n",
       "золотистый    0.01\n",
       "фиолетовый    0.01\n",
       "жёлтый        0.00\n",
       "оранжевый     0.00\n",
       "розовый       0.00\n",
       "Name: color, dtype: float64"
      ]
     },
     "execution_count": 33,
     "metadata": {},
     "output_type": "execute_result"
    }
   ],
   "source": [
    "data.color.value_counts(normalize=True)"
   ]
  },
  {
   "cell_type": "code",
   "execution_count": 34,
   "metadata": {},
   "outputs": [],
   "source": [
    "cat_cols.append('color')"
   ]
  },
  {
   "cell_type": "code",
   "execution_count": 35,
   "metadata": {},
   "outputs": [
    {
     "data": {
      "text/plain": [
       "['bodyType', 'brand', 'color']"
      ]
     },
     "execution_count": 35,
     "metadata": {},
     "output_type": "execute_result"
    }
   ],
   "source": [
    "cat_cols"
   ]
  },
  {
   "cell_type": "markdown",
   "metadata": {},
   "source": [
    "## description"
   ]
  },
  {
   "cell_type": "code",
   "execution_count": 36,
   "metadata": {},
   "outputs": [
    {
     "data": {
      "text/plain": [
       "0        Все автомобили, представленные в продаже, прох...\n",
       "1        ЛОТ: 01217195\\nАвтопрага Север\\nДанный автомоб...\n",
       "2        Все автомобили, представленные в продаже, прох...\n",
       "3        КОМПЛЕКТ ЗИМНЕЙ (ЛЕТНЕЙ) РЕЗИНЫ ПО СЕЗОНУ В ПО...\n",
       "4        ЛОТ: 01220889\\nАвтопрага Север\\n\\nВы можете по...\n",
       "                               ...                        \n",
       "83064    Продам. В отличном состоянии! С машиной отдам ...\n",
       "83065    Пробег 80 500 км. подтвержденный. \\n\\nЭто макс...\n",
       "83066    Автомобиль полностью исправен, в хорошем состо...\n",
       "83067    Автомобиль в отличном состоянии, как по кузову...\n",
       "83068    Автомобиль отс.крашен бампер. Двигатель отс. М...\n",
       "Name: description, Length: 83069, dtype: object"
      ]
     },
     "execution_count": 36,
     "metadata": {},
     "output_type": "execute_result"
    }
   ],
   "source": [
    "data.description # описание машин, пока оставим"
   ]
  },
  {
   "cell_type": "code",
   "execution_count": 37,
   "metadata": {},
   "outputs": [],
   "source": [
    "unknown_cols.append('description')"
   ]
  },
  {
   "cell_type": "markdown",
   "metadata": {},
   "source": [
    "## engineDisplacement"
   ]
  },
  {
   "cell_type": "code",
   "execution_count": 38,
   "metadata": {},
   "outputs": [
    {
     "data": {
      "text/plain": [
       "2.0 LTR    19966\n",
       "1.6 LTR    10796\n",
       "3.0 LTR    10023\n",
       "1.8 LTR     6073\n",
       "2.5 LTR     5511\n",
       "1.4 LTR     4082\n",
       "3.5 LTR     3706\n",
       "2.4 LTR     3348\n",
       "1.5 LTR     2117\n",
       "4.0 LTR     1246\n",
       "1.2 LTR     1220\n",
       "4.4 LTR     1044\n",
       "2.1 LTR     1035\n",
       "2.2 LTR      949\n",
       "1.3 LTR      909\n",
       "2.8 LTR      873\n",
       "5.5 LTR      860\n",
       "4.7 LTR      800\n",
       "4.5 LTR      795\n",
       "1.9 LTR      704\n",
       "3.2 LTR      683\n",
       "2.7 LTR      656\n",
       "4.2 LTR      531\n",
       "2.3 LTR      454\n",
       "2.9 LTR      449\n",
       "3.6 LTR      399\n",
       "3.7 LTR      379\n",
       "5.6 LTR      346\n",
       "5.7 LTR      336\n",
       "5.0 LTR      333\n",
       "4.6 LTR      317\n",
       "1.0 LTR      277\n",
       "6.0 LTR      174\n",
       "4.8 LTR      161\n",
       "4.1 LTR      152\n",
       "0.7 LTR      140\n",
       "3.3 LTR      137\n",
       "3.4 LTR      133\n",
       "2.6 LTR      120\n",
       "3.8 LTR      119\n",
       "3.1 LTR      116\n",
       "1.7 LTR      114\n",
       "0.0 LTR       92\n",
       "4.3 LTR       72\n",
       "6.2 LTR       56\n",
       "5.4 LTR       55\n",
       " LTR          55\n",
       "5.9 LTR       28\n",
       "4.9 LTR       26\n",
       "6.3 LTR       25\n",
       "5.2 LTR       19\n",
       "6.6 LTR       15\n",
       "1.1 LTR       15\n",
       "5.8 LTR       14\n",
       "3.9 LTR        9\n",
       "9.0 LTR        2\n",
       "0.5 LTR        1\n",
       "5.3 LTR        1\n",
       "7.0 LTR        1\n",
       "Name: engineDisplacement, dtype: int64"
      ]
     },
     "execution_count": 38,
     "metadata": {},
     "output_type": "execute_result"
    }
   ],
   "source": [
    "data.engineDisplacement.value_counts() \n",
    "# сделаем из объема двигателя номинальный признак"
   ]
  },
  {
   "cell_type": "code",
   "execution_count": 39,
   "metadata": {},
   "outputs": [],
   "source": [
    "for i in range(0, len(data.engineDisplacement)):\n",
    "    if len(data.engineDisplacement[i]) < 7:\n",
    "        data.engineDisplacement[i] = data.engineDisplacement.value_counts().keys()[0]"
   ]
  },
  {
   "cell_type": "code",
   "execution_count": 40,
   "metadata": {},
   "outputs": [
    {
     "data": {
      "text/plain": [
       "2.0 LTR    20021\n",
       "1.6 LTR    10796\n",
       "3.0 LTR    10023\n",
       "1.8 LTR     6073\n",
       "2.5 LTR     5511\n",
       "1.4 LTR     4082\n",
       "3.5 LTR     3706\n",
       "2.4 LTR     3348\n",
       "1.5 LTR     2117\n",
       "4.0 LTR     1246\n",
       "1.2 LTR     1220\n",
       "4.4 LTR     1044\n",
       "2.1 LTR     1035\n",
       "2.2 LTR      949\n",
       "1.3 LTR      909\n",
       "2.8 LTR      873\n",
       "5.5 LTR      860\n",
       "4.7 LTR      800\n",
       "4.5 LTR      795\n",
       "1.9 LTR      704\n",
       "3.2 LTR      683\n",
       "2.7 LTR      656\n",
       "4.2 LTR      531\n",
       "2.3 LTR      454\n",
       "2.9 LTR      449\n",
       "3.6 LTR      399\n",
       "3.7 LTR      379\n",
       "5.6 LTR      346\n",
       "5.7 LTR      336\n",
       "5.0 LTR      333\n",
       "4.6 LTR      317\n",
       "1.0 LTR      277\n",
       "6.0 LTR      174\n",
       "4.8 LTR      161\n",
       "4.1 LTR      152\n",
       "0.7 LTR      140\n",
       "3.3 LTR      137\n",
       "3.4 LTR      133\n",
       "2.6 LTR      120\n",
       "3.8 LTR      119\n",
       "3.1 LTR      116\n",
       "1.7 LTR      114\n",
       "0.0 LTR       92\n",
       "4.3 LTR       72\n",
       "6.2 LTR       56\n",
       "5.4 LTR       55\n",
       "5.9 LTR       28\n",
       "4.9 LTR       26\n",
       "6.3 LTR       25\n",
       "5.2 LTR       19\n",
       "6.6 LTR       15\n",
       "1.1 LTR       15\n",
       "5.8 LTR       14\n",
       "3.9 LTR        9\n",
       "9.0 LTR        2\n",
       "0.5 LTR        1\n",
       "5.3 LTR        1\n",
       "7.0 LTR        1\n",
       "Name: engineDisplacement, dtype: int64"
      ]
     },
     "execution_count": 40,
     "metadata": {},
     "output_type": "execute_result"
    }
   ],
   "source": [
    "data.engineDisplacement.value_counts()"
   ]
  },
  {
   "cell_type": "code",
   "execution_count": 41,
   "metadata": {},
   "outputs": [
    {
     "data": {
      "text/plain": [
       "False    83069\n",
       "Name: engineDisplacement, dtype: int64"
      ]
     },
     "execution_count": 41,
     "metadata": {},
     "output_type": "execute_result"
    }
   ],
   "source": [
    "data.engineDisplacement.isna().value_counts()"
   ]
  },
  {
   "cell_type": "code",
   "execution_count": 42,
   "metadata": {},
   "outputs": [],
   "source": [
    "data1=data.copy()"
   ]
  },
  {
   "cell_type": "code",
   "execution_count": 43,
   "metadata": {},
   "outputs": [],
   "source": [
    "cat_cols.append('engineDisplacement')"
   ]
  },
  {
   "cell_type": "markdown",
   "metadata": {},
   "source": [
    "## enginePower"
   ]
  },
  {
   "cell_type": "code",
   "execution_count": 44,
   "metadata": {},
   "outputs": [
    {
     "data": {
      "text/plain": [
       "150.0      3405\n",
       "249.0      2327\n",
       "110.0      1882\n",
       "249 N12    1708\n",
       "150 N12    1699\n",
       "           ... \n",
       "66 N12        1\n",
       "383 N12       1\n",
       "430.0         1\n",
       "417.0         1\n",
       "402 N12       1\n",
       "Name: enginePower, Length: 653, dtype: int64"
      ]
     },
     "execution_count": 44,
     "metadata": {},
     "output_type": "execute_result"
    }
   ],
   "source": [
    "data.enginePower.value_counts()\n",
    "# сделаем из мощности двигателя номинальный признак"
   ]
  },
  {
   "cell_type": "code",
   "execution_count": 45,
   "metadata": {},
   "outputs": [],
   "source": [
    "for i in range(0, len(data.enginePower)):\n",
    "    if type(data.enginePower[i]) is not float:\n",
    "        data.enginePower[i] = float(data.enginePower[i][:3])"
   ]
  },
  {
   "cell_type": "code",
   "execution_count": 46,
   "metadata": {},
   "outputs": [
    {
     "data": {
      "text/plain": [
       "150.00    5104\n",
       "249.00    4035\n",
       "110.00    2921\n",
       "190.00    2190\n",
       "105.00    2126\n",
       "          ... \n",
       "522.00       1\n",
       "524.00       1\n",
       "646.00       1\n",
       "650.00       1\n",
       "30.00        1\n",
       "Name: enginePower, Length: 356, dtype: int64"
      ]
     },
     "execution_count": 46,
     "metadata": {},
     "output_type": "execute_result"
    }
   ],
   "source": [
    "data.enginePower.value_counts()"
   ]
  },
  {
   "cell_type": "code",
   "execution_count": 47,
   "metadata": {},
   "outputs": [
    {
     "data": {
      "text/plain": [
       "False    82485\n",
       "True       584\n",
       "Name: enginePower, dtype: int64"
      ]
     },
     "execution_count": 47,
     "metadata": {},
     "output_type": "execute_result"
    }
   ],
   "source": [
    "data.enginePower.isna().value_counts() "
   ]
  },
  {
   "cell_type": "code",
   "execution_count": 48,
   "metadata": {},
   "outputs": [],
   "source": [
    "data.loc[data['enginePower'].isna(), 'enginePower'] = 150"
   ]
  },
  {
   "cell_type": "code",
   "execution_count": 49,
   "metadata": {},
   "outputs": [],
   "source": [
    "data['enginePower'] = data['enginePower'].apply(pd.to_numeric, errors='coerce')"
   ]
  },
  {
   "cell_type": "code",
   "execution_count": 50,
   "metadata": {},
   "outputs": [],
   "source": [
    "num_cols.append('enginePower')"
   ]
  },
  {
   "cell_type": "markdown",
   "metadata": {},
   "source": [
    "## equipment_dict"
   ]
  },
  {
   "cell_type": "code",
   "execution_count": 51,
   "metadata": {},
   "outputs": [
    {
     "data": {
      "text/plain": [
       "0        {\"engine-proof\":true,\"tinted-glass\":true,\"airb...\n",
       "1        {\"cruise-control\":true,\"asr\":true,\"esp\":true,\"...\n",
       "2        {\"cruise-control\":true,\"tinted-glass\":true,\"es...\n",
       "3        {\"cruise-control\":true,\"roller-blind-for-rear-...\n",
       "4        {\"cruise-control\":true,\"asr\":true,\"esp\":true,\"...\n",
       "                               ...                        \n",
       "83064    {'cruise-control': True, 'engine-proof': True,...\n",
       "83065    {'cruise-control': True, 'tinted-glass': True,...\n",
       "83066    {'cruise-control': True, 'engine-proof': True,...\n",
       "83067    {'engine-proof': True, 'roller-blind-for-rear-...\n",
       "83068                                                   {}\n",
       "Name: equipment_dict, Length: 83069, dtype: object"
      ]
     },
     "execution_count": 51,
     "metadata": {},
     "output_type": "execute_result"
    }
   ],
   "source": [
    "data.equipment_dict\n",
    "# тоже признак с доп. опциями, пока оставим"
   ]
  },
  {
   "cell_type": "code",
   "execution_count": 52,
   "metadata": {},
   "outputs": [],
   "source": [
    "data1=data.copy()"
   ]
  },
  {
   "cell_type": "code",
   "execution_count": 59,
   "metadata": {},
   "outputs": [],
   "source": [
    "data1=data1.explode('equipment_dict')"
   ]
  },
  {
   "cell_type": "code",
   "execution_count": 60,
   "metadata": {},
   "outputs": [
    {
     "data": {
      "text/plain": [
       "\"{'cruise-control': True, 'esp': True, 'airbag-driver': True, 'isofix': True, 'usb': True, 'aux': True, 'electro-window-front': True, 'multi-wheel': True, 'hcc': True, 'spare-wheel': True, 'heated-wash-system': True, 'ashtray-and-cigarette-lighter': True, 'airbag-curtain': True, 'airbag-passenger': True, 'front-centre-armrest': True, 'computer': True, 'seat-transformation': True, 'wheel-power': True, 'alarm': True, 'lock': True, 'fabric-seats': True, 'electro-mirrors': True, 'electro-window-back': True, 'alloy-wheel-disks': True, 'ptf': True, '16-inch-wheels': True, 'rain-sensor': True, 'airbag-side': True, 'mirrors-heat': True, 'voice-recognition': True, 'volume-sensor': True, 'audiosystem-cd': True, 'dark-interior': True, 'cooling-box': True, 'abs': True, 'front-seats-heat': True, 'bluetooth': True, 'wheel-leather': True, 'wheel-configuration2': True, 'wheel-configuration1': True, 'immo': True, 'climate-control-2': True, 'auto-mirrors': True, 'park-assist-r': True, '12v-socket': True}\""
      ]
     },
     "execution_count": 60,
     "metadata": {},
     "output_type": "execute_result"
    }
   ],
   "source": [
    "data.equipment_dict[35000]"
   ]
  },
  {
   "cell_type": "code",
   "execution_count": 57,
   "metadata": {},
   "outputs": [
    {
     "data": {
      "text/plain": [
       "'{\"engine-proof\":true,\"tinted-glass\":true,\"airbag-driver\":true,\"aux\":true,\"isofix\":true,\"electro-window-front\":true,\"ashtray-and-cigarette-lighter\":true,\"airbag-passenger\":true,\"computer\":true,\"high-beam-assist\":true,\"seat-transformation\":true,\"isofix-front\":true,\"wheel-power\":true,\"alarm\":true,\"lock\":true,\"door-sill-panel\":true,\"fabric-seats\":true,\"electro-mirrors\":true,\"airbag-rear-side\":true,\"electro-window-back\":true,\"steel-wheels\":true,\"ptf\":true,\"16-inch-wheels\":true,\"rain-sensor\":true,\"airbag-side\":true,\"audiosystem-cd\":true,\"dark-interior\":true,\"cooling-box\":true,\"condition\":true,\"abs\":true,\"power-child-locks-rear-doors\":true,\"front-seats-heat\":true,\"wheel-configuration2\":true,\"wheel-configuration1\":true,\"12v-socket\":true,\"park-assist-r\":true}'"
      ]
     },
     "execution_count": 57,
     "metadata": {},
     "output_type": "execute_result"
    }
   ],
   "source": [
    "data1.equipment_dict[0]"
   ]
  },
  {
   "cell_type": "code",
   "execution_count": null,
   "metadata": {},
   "outputs": [],
   "source": [
    "unknown_cols.append('equipment_dict')"
   ]
  },
  {
   "cell_type": "markdown",
   "metadata": {},
   "source": [
    "## fuelType"
   ]
  },
  {
   "cell_type": "code",
   "execution_count": 61,
   "metadata": {},
   "outputs": [
    {
     "data": {
      "text/plain": [
       "Бензин          32272\n",
       "бензин          28601\n",
       "Дизель          13691\n",
       "дизель           5800\n",
       "Гибрид           1209\n",
       "оборудование      557\n",
       "гибрид            223\n",
       "Электро           129\n",
       "Газ               110\n",
       "электро            55\n",
       "газ                 7\n",
       "Name: fuelType, dtype: int64"
      ]
     },
     "execution_count": 61,
     "metadata": {},
     "output_type": "execute_result"
    }
   ],
   "source": [
    "data.fuelType.value_counts()"
   ]
  },
  {
   "cell_type": "code",
   "execution_count": 62,
   "metadata": {},
   "outputs": [],
   "source": [
    "data.fuelType = data.fuelType.str.lower()"
   ]
  },
  {
   "cell_type": "code",
   "execution_count": 63,
   "metadata": {},
   "outputs": [
    {
     "data": {
      "text/plain": [
       "False    82654\n",
       "True       415\n",
       "Name: fuelType, dtype: int64"
      ]
     },
     "execution_count": 63,
     "metadata": {},
     "output_type": "execute_result"
    }
   ],
   "source": [
    "data.fuelType.isna().value_counts() "
   ]
  },
  {
   "cell_type": "code",
   "execution_count": 64,
   "metadata": {},
   "outputs": [],
   "source": [
    "data.fuelType = data.fuelType.fillna('бензин') # как самый распространенный тип топлива"
   ]
  },
  {
   "cell_type": "code",
   "execution_count": 65,
   "metadata": {},
   "outputs": [],
   "source": [
    "cat_cols.append('fuelType')"
   ]
  },
  {
   "cell_type": "markdown",
   "metadata": {},
   "source": [
    "## mileage"
   ]
  },
  {
   "cell_type": "markdown",
   "metadata": {},
   "source": [
    "Распределение близко к нмальному, с правым хвостом, возможно, логарифмирование поможет приблизиться к нормальному распределению"
   ]
  },
  {
   "cell_type": "code",
   "execution_count": 66,
   "metadata": {},
   "outputs": [
    {
     "data": {
      "text/plain": [
       "140000.0"
      ]
     },
     "execution_count": 66,
     "metadata": {},
     "output_type": "execute_result"
    }
   ],
   "source": [
    "data.mileage.median()\n"
   ]
  },
  {
   "cell_type": "code",
   "execution_count": 67,
   "metadata": {},
   "outputs": [],
   "source": [
    "data.mileage = data.mileage.fillna(140000.0) \n"
   ]
  },
  {
   "cell_type": "code",
   "execution_count": 68,
   "metadata": {},
   "outputs": [
    {
     "data": {
      "text/plain": [
       "False    83069\n",
       "Name: mileage, dtype: int64"
      ]
     },
     "execution_count": 68,
     "metadata": {},
     "output_type": "execute_result"
    }
   ],
   "source": [
    "data.mileage.isna().value_counts()"
   ]
  },
  {
   "cell_type": "code",
   "execution_count": 69,
   "metadata": {},
   "outputs": [],
   "source": [
    "num_cols.append('mileage')"
   ]
  },
  {
   "cell_type": "code",
   "execution_count": 70,
   "metadata": {},
   "outputs": [],
   "source": [
    "data['mileage_log'] = np.log(data.mileage + 1)"
   ]
  },
  {
   "cell_type": "code",
   "execution_count": 71,
   "metadata": {},
   "outputs": [
    {
     "data": {
      "image/png": "[encoded data removed]",
      "text/plain": [
       "<Figure size 432x288 with 1 Axes>"
      ]
     },
     "metadata": {
      "needs_background": "light"
     },
     "output_type": "display_data"
    }
   ],
   "source": [
    "plt.figure()\n",
    "sns.distplot(data['mileage'], kde = False, rug=False)\n",
    "plt.title('mileage')\n",
    "plt.show()"
   ]
  },
  {
   "cell_type": "code",
   "execution_count": 72,
   "metadata": {},
   "outputs": [
    {
     "data": {
      "image/png": "[encoded data removed]",
      "text/plain": [
       "<Figure size 432x288 with 1 Axes>"
      ]
     },
     "metadata": {
      "needs_background": "light"
     },
     "output_type": "display_data"
    }
   ],
   "source": [
    "plt.figure()\n",
    "sns.distplot(data['mileage_log'], kde = False, rug=False)\n",
    "plt.title('mileage_log')\n",
    "plt.show()"
   ]
  },
  {
   "cell_type": "code",
   "execution_count": 73,
   "metadata": {},
   "outputs": [],
   "source": [
    "num_cols.append('mileage_log')"
   ]
  },
  {
   "cell_type": "markdown",
   "metadata": {},
   "source": [
    "## modelDate"
   ]
  },
  {
   "cell_type": "code",
   "execution_count": 74,
   "metadata": {},
   "outputs": [
    {
     "data": {
      "text/plain": [
       "False    83069\n",
       "Name: modelDate, dtype: int64"
      ]
     },
     "execution_count": 74,
     "metadata": {},
     "output_type": "execute_result"
    }
   ],
   "source": [
    "data.modelDate.isna().value_counts()"
   ]
  },
  {
   "cell_type": "code",
   "execution_count": 75,
   "metadata": {},
   "outputs": [],
   "source": [
    "num_cols.append('modelDate')"
   ]
  },
  {
   "cell_type": "markdown",
   "metadata": {},
   "source": [
    "## productionDate"
   ]
  },
  {
   "cell_type": "code",
   "execution_count": 76,
   "metadata": {},
   "outputs": [
    {
     "data": {
      "text/plain": [
       "2012.00    6219\n",
       "2013.00    5742\n",
       "2014.00    5492\n",
       "2011.00    5343\n",
       "2008.00    5136\n",
       "           ... \n",
       "1939.00       1\n",
       "1970.00       1\n",
       "1971.00       1\n",
       "1936.00       1\n",
       "1904.00       1\n",
       "Name: productionDate, Length: 71, dtype: int64"
      ]
     },
     "execution_count": 76,
     "metadata": {},
     "output_type": "execute_result"
    }
   ],
   "source": [
    "data['productionDate'].value_counts()"
   ]
  },
  {
   "cell_type": "code",
   "execution_count": 77,
   "metadata": {},
   "outputs": [],
   "source": [
    "data.loc[data['productionDate'] < 1960, 'productionDate'] = 1960"
   ]
  },
  {
   "cell_type": "code",
   "execution_count": 78,
   "metadata": {},
   "outputs": [
    {
     "data": {
      "text/plain": [
       "False    83069\n",
       "Name: productionDate, dtype: int64"
      ]
     },
     "execution_count": 78,
     "metadata": {},
     "output_type": "execute_result"
    }
   ],
   "source": [
    "data['productionDate'].isna().value_counts()"
   ]
  },
  {
   "cell_type": "code",
   "execution_count": 79,
   "metadata": {},
   "outputs": [],
   "source": [
    "num_cols.append('productionDate')"
   ]
  },
  {
   "cell_type": "markdown",
   "metadata": {},
   "source": [
    "Распределение почти такое же как у modelDate, возможно, лучше будет оставить только один из признаков"
   ]
  },
  {
   "cell_type": "markdown",
   "metadata": {},
   "source": [
    "По отчету по тренировочным данным у нас есть машины до 1937 года, посмотрим на boxplot"
   ]
  },
  {
   "cell_type": "code",
   "execution_count": 80,
   "metadata": {},
   "outputs": [
    {
     "data": {
      "image/png": "[encoded data removed]",
      "text/plain": [
       "<Figure size 576x288 with 1 Axes>"
      ]
     },
     "metadata": {
      "needs_background": "light"
     },
     "output_type": "display_data"
    }
   ],
   "source": [
    "plt.figure(figsize=(8, 4))\n",
    "sns.boxplot(data=data['productionDate'], orient=\"h\",\n",
    "                 palette=\"Set2\", whis=1.5);"
   ]
  },
  {
   "cell_type": "code",
   "execution_count": 81,
   "metadata": {},
   "outputs": [
    {
     "name": "stdout",
     "output_type": "stream",
     "text": [
      "2007.0 2016.0 1993.5\n"
     ]
    }
   ],
   "source": [
    "perc25 = data.productionDate.quantile(0.25)\n",
    "perc75 = data.productionDate.quantile(0.75)\n",
    "IQR = perc75 - perc25\n",
    "f=perc25 - 1.5*IQR\n",
    "print(perc25, perc75, f)"
   ]
  },
  {
   "cell_type": "code",
   "execution_count": 82,
   "metadata": {},
   "outputs": [
    {
     "data": {
      "text/plain": [
       "1993.5"
      ]
     },
     "execution_count": 82,
     "metadata": {},
     "output_type": "execute_result"
    }
   ],
   "source": [
    "f=perc25 - 1.5*IQR\n",
    "f"
   ]
  },
  {
   "cell_type": "markdown",
   "metadata": {},
   "source": [
    "Добавим новый признак, младше 2016 - new, 2007-20016 - not_new, 1993-2007 old, младше 1993 - very old"
   ]
  },
  {
   "cell_type": "code",
   "execution_count": 83,
   "metadata": {},
   "outputs": [],
   "source": [
    "data['age']=0\n",
    "data.reset_index(inplace=True)"
   ]
  },
  {
   "cell_type": "code",
   "execution_count": 84,
   "metadata": {},
   "outputs": [],
   "source": [
    "for i in range(0, len(data.productionDate)):\n",
    "    if data.productionDate[i] >= 2016:\n",
    "        data['age'][i] = 'new'\n",
    "    elif data.productionDate[i] < 2016 and data.productionDate[i] >= 2007:\n",
    "        data['age'][i] = 'not_new'\n",
    "    elif data.productionDate[i] < 2007 and data.productionDate[i] >= 1993:\n",
    "        data['age'][i] = 'old'\n",
    "    elif data.productionDate[i] < 1993:\n",
    "        data['age'][i] = 'very_old'"
   ]
  },
  {
   "cell_type": "code",
   "execution_count": 85,
   "metadata": {},
   "outputs": [
    {
     "data": {
      "text/plain": [
       "not_new     41622\n",
       "new         22590\n",
       "old         16583\n",
       "very_old     2274\n",
       "Name: age, dtype: int64"
      ]
     },
     "execution_count": 85,
     "metadata": {},
     "output_type": "execute_result"
    }
   ],
   "source": [
    "data['age'].value_counts()"
   ]
  },
  {
   "cell_type": "code",
   "execution_count": 86,
   "metadata": {},
   "outputs": [],
   "source": [
    "cat_cols.append('age')"
   ]
  },
  {
   "cell_type": "markdown",
   "metadata": {},
   "source": [
    "## model_name"
   ]
  },
  {
   "cell_type": "code",
   "execution_count": 87,
   "metadata": {},
   "outputs": [
    {
     "data": {
      "text/plain": [
       "['SKODA',\n",
       " 'AUDI',\n",
       " 'HONDA',\n",
       " 'VOLVO',\n",
       " 'BMW',\n",
       " 'NISSAN',\n",
       " 'INFINITI',\n",
       " 'MERCEDES',\n",
       " 'TOYOTA',\n",
       " 'LEXUS',\n",
       " 'VOLKSWAGEN',\n",
       " 'MITSUBISHI']"
      ]
     },
     "execution_count": 87,
     "metadata": {},
     "output_type": "execute_result"
    }
   ],
   "source": [
    "brand_list = [brand for brand in data.brand.unique()]\n",
    "brand_list"
   ]
  },
  {
   "cell_type": "code",
   "execution_count": 88,
   "metadata": {},
   "outputs": [
    {
     "data": {
      "text/plain": [
       "OCTAVIA       3032\n",
       "RAPID         1118\n",
       "FABIA          556\n",
       "YETI           531\n",
       "SUPERB         489\n",
       "KODIAQ         418\n",
       "KAROQ           88\n",
       "OCTAVIA_RS      69\n",
       "FELICIA         69\n",
       "ROOMSTER        50\n",
       "FABIA_RS         8\n",
       "FAVORIT          2\n",
       "120              2\n",
       "100_SERIES       1\n",
       "POPULAR          1\n",
       "Name: model_name, dtype: int64"
      ]
     },
     "execution_count": 88,
     "metadata": {},
     "output_type": "execute_result"
    }
   ],
   "source": [
    "data[data.brand == 'SKODA']['model_name'].value_counts()"
   ]
  },
  {
   "cell_type": "code",
   "execution_count": 89,
   "metadata": {},
   "outputs": [],
   "source": [
    "# хотела выделить самые распространенные бренды в каждой модели, редкие отделить в отдельный вид, \n",
    "# но что-то пошло не так"
   ]
  },
  {
   "cell_type": "code",
   "execution_count": 90,
   "metadata": {},
   "outputs": [],
   "source": [
    "#brand_dict = dict()\n",
    "#for brand in brand_list:\n",
    "#    brand_dict[brand] = list((data[data['brand'] == brand]['model_name'].value_counts(\n",
    "#    )[data['model_name'].value_counts(normalize=True) > 0.001]).keys())\n",
    "#brand_dict['SKODA'] #словарь с брендами и наиболее популярными моделями"
   ]
  },
  {
   "cell_type": "code",
   "execution_count": 91,
   "metadata": {},
   "outputs": [],
   "source": [
    "#for brand in brand_list:\n",
    "#    if data.brand == brand:\n",
    "#        if data.model_name in brand_dict[brand]:\n",
    "#            "
   ]
  },
  {
   "cell_type": "code",
   "execution_count": 92,
   "metadata": {},
   "outputs": [],
   "source": [
    "cat_cols.append('model_name')"
   ]
  },
  {
   "cell_type": "markdown",
   "metadata": {},
   "source": [
    "## numberOfDoors"
   ]
  },
  {
   "cell_type": "code",
   "execution_count": 93,
   "metadata": {},
   "outputs": [
    {
     "data": {
      "text/plain": [
       "5.00    47260\n",
       "4.00    31650\n",
       "2.00     2690\n",
       "3.00     1468\n",
       "0.00        1\n",
       "Name: numberOfDoors, dtype: int64"
      ]
     },
     "execution_count": 93,
     "metadata": {},
     "output_type": "execute_result"
    }
   ],
   "source": [
    "data['numberOfDoors'].value_counts()"
   ]
  },
  {
   "cell_type": "code",
   "execution_count": 94,
   "metadata": {},
   "outputs": [
    {
     "data": {
      "text/plain": [
       "False    83069\n",
       "Name: numberOfDoors, dtype: int64"
      ]
     },
     "execution_count": 94,
     "metadata": {},
     "output_type": "execute_result"
    }
   ],
   "source": [
    "data['numberOfDoors'].isna().value_counts()"
   ]
  },
  {
   "cell_type": "code",
   "execution_count": 95,
   "metadata": {},
   "outputs": [],
   "source": [
    "num_cols.append('numberOfDoors')"
   ]
  },
  {
   "cell_type": "markdown",
   "metadata": {},
   "source": [
    "## parsing_unixtime"
   ]
  },
  {
   "cell_type": "code",
   "execution_count": 96,
   "metadata": {},
   "outputs": [],
   "source": [
    "# priceCurrency - валюта, везде одинаковая, не нужен"
   ]
  },
  {
   "cell_type": "code",
   "execution_count": 97,
   "metadata": {},
   "outputs": [
    {
     "data": {
      "text/plain": [
       "0.45943830555273124"
      ]
     },
     "execution_count": 97,
     "metadata": {},
     "output_type": "execute_result"
    }
   ],
   "source": [
    "data['parsing_unixtime'].corr(data['price'])"
   ]
  },
  {
   "cell_type": "code",
   "execution_count": 98,
   "metadata": {},
   "outputs": [],
   "source": [
    "num_cols.append('parsing_unixtime')"
   ]
  },
  {
   "cell_type": "markdown",
   "metadata": {},
   "source": [
    "## super_gen"
   ]
  },
  {
   "cell_type": "code",
   "execution_count": 99,
   "metadata": {},
   "outputs": [
    {
     "data": {
      "text/plain": [
       "{\"id\":\"6214876\",\"displacement\":1598,\"engine_type\":\"GASOLINE\",\"gear_type\":\"FORWARD_CONTROL\",\"transmission\":\"MECHANICAL\",\"power\":105,\"power_kvt\":77,\"human_name\":\"1.6 MT (105 л.с.)\",\"acceleration\":10.5,\"clearance_min\":170,\"fuel_rate\":6.5}                     193\n",
       "{\"id\":\"20726520\",\"displacement\":1598,\"engine_type\":\"GASOLINE\",\"gear_type\":\"FORWARD_CONTROL\",\"transmission\":\"AUTOMATIC\",\"power\":110,\"power_kvt\":81,\"human_name\":\"1.6 AT (110 л.с.)\",\"acceleration\":11.7,\"clearance_min\":163,\"fuel_rate\":5.9}                     159\n",
       "{\"id\":\"4561004\",\"displacement\":1798,\"engine_type\":\"GASOLINE\",\"gear_type\":\"FORWARD_CONTROL\",\"transmission\":\"AUTOMATIC\",\"power\":152,\"power_kvt\":112,\"human_name\":\"1.8 AT (152 л.с.)\",\"acceleration\":8.8,\"clearance_min\":164,\"fuel_rate\":7.7}                      148\n",
       "{'gear_type': 'FORWARD_CONTROL', 'engine_type': 'GASOLINE', 'transmission': 'MECHANICAL', 'id': '6214876', 'name': '', 'nameplate': '', 'displacement': 1598, 'power': 105, 'power_kvt': 77, 'human_name': '1.6 MT (105 л.с.)'}                                 146\n",
       "{'gear_type': 'FORWARD_CONTROL', 'engine_type': 'GASOLINE', 'transmission': 'MECHANICAL', 'id': '20088174', 'name': '', 'nameplate': '', 'displacement': 1598, 'power': 85, 'power_kvt': 63, 'human_name': '1.6 MT (85 л.с.)'}                                  145\n",
       "                                                                                                                                                                                                                                                               ... \n",
       "{'gear_type': 'FORWARD_CONTROL', 'engine_type': 'GASOLINE', 'transmission': 'ROBOT', 'id': '7294424', 'displacement': 1390, 'power': 122, 'power_kvt': 90, 'human_name': '1.4 AMT (122 л.с.)', 'acceleration': 10.6, 'clearance_min': 155, 'fuel_rate': 6.4}      1\n",
       "{'gear_type': 'FORWARD_CONTROL', 'engine_type': 'DIESEL', 'transmission': 'AUTOMATIC', 'id': '20399348', 'name': '', 'nameplate': '', 'displacement': 1588, 'power': 70, 'power_kvt': 51, 'human_name': '1.6d AT (70 л.с.)'}                                      1\n",
       "{'gear_type': 'FORWARD_CONTROL', 'engine_type': 'GASOLINE', 'transmission': 'MECHANICAL', 'id': '22429207', 'name': '', 'nameplate': '', 'displacement': 3311, 'power': 228, 'power_kvt': 168, 'human_name': '3.3 MT (228 л.с.)'}                                 1\n",
       "{'gear_type': 'FORWARD_CONTROL', 'engine_type': 'GASOLINE', 'transmission': 'MECHANICAL', 'id': '8302851', 'name': '', 'nameplate': '', 'displacement': 1498, 'power': 94, 'power_kvt': 69, 'human_name': '1.5 MT (94 л.с.)'}                                     1\n",
       "{'gear_type': 'ALL_WHEEL_DRIVE', 'engine_type': 'GASOLINE', 'transmission': 'MECHANICAL', 'id': '20694625', 'name': '', 'nameplate': '', 'displacement': 2694, 'power': 164, 'power_kvt': 122, 'human_name': '2.7 MT (164 л.с.) 4WD'}                             1\n",
       "Name: super_gen, Length: 18420, dtype: int64"
      ]
     },
     "execution_count": 99,
     "metadata": {},
     "output_type": "execute_result"
    }
   ],
   "source": [
    "data['super_gen'].value_counts() # еще общая информация, частично дублирует уже имеющуюся\n",
    "# пока уберем"
   ]
  },
  {
   "cell_type": "code",
   "execution_count": null,
   "metadata": {},
   "outputs": [],
   "source": [
    "data['super_gen']=data['super_gen'].apply(lambda x: eval(x))"
   ]
  },
  {
   "cell_type": "code",
   "execution_count": null,
   "metadata": {},
   "outputs": [],
   "source": [
    "unknown_cols.append('super_gen')"
   ]
  },
  {
   "cell_type": "markdown",
   "metadata": {},
   "source": [
    "## vehicleTransmission"
   ]
  },
  {
   "cell_type": "code",
   "execution_count": null,
   "metadata": {},
   "outputs": [],
   "source": [
    "data['vehicleTransmission'].value_counts()"
   ]
  },
  {
   "cell_type": "code",
   "execution_count": null,
   "metadata": {},
   "outputs": [],
   "source": [
    "data['vehicleTransmission'].isna().value_counts()"
   ]
  },
  {
   "cell_type": "code",
   "execution_count": null,
   "metadata": {},
   "outputs": [],
   "source": [
    "data['vehicleTransmission']=data['vehicleTransmission'].fillna('автоматическая')"
   ]
  },
  {
   "cell_type": "code",
   "execution_count": null,
   "metadata": {},
   "outputs": [],
   "source": [
    "cat_cols.append('vehicleTransmission')"
   ]
  },
  {
   "cell_type": "markdown",
   "metadata": {},
   "source": [
    "## Владельцы"
   ]
  },
  {
   "cell_type": "code",
   "execution_count": null,
   "metadata": {},
   "outputs": [],
   "source": [
    "data['Владельцы'].value_counts()"
   ]
  },
  {
   "cell_type": "code",
   "execution_count": null,
   "metadata": {},
   "outputs": [],
   "source": [
    "def convert_to_int(data):\n",
    "    for s in re.findall('\\d', str(data)):\n",
    "        s = int(s)\n",
    "        return s"
   ]
  },
  {
   "cell_type": "code",
   "execution_count": null,
   "metadata": {},
   "outputs": [],
   "source": [
    "data['Владельцы'] = data['Владельцы'].apply(convert_to_int)"
   ]
  },
  {
   "cell_type": "code",
   "execution_count": null,
   "metadata": {},
   "outputs": [],
   "source": [
    "data['Владельцы'].value_counts()\n",
    "\n",
    "# если не указано предполагаем худшее"
   ]
  },
  {
   "cell_type": "code",
   "execution_count": null,
   "metadata": {},
   "outputs": [],
   "source": [
    "data['Владельцы'] = data['Владельцы'].fillna(3)"
   ]
  },
  {
   "cell_type": "code",
   "execution_count": null,
   "metadata": {},
   "outputs": [],
   "source": [
    "data.loc[data['Владельцы'] > 3, 'Владельцы'] = 3"
   ]
  },
  {
   "cell_type": "code",
   "execution_count": null,
   "metadata": {},
   "outputs": [],
   "source": [
    "data['Владельцы'].value_counts()"
   ]
  },
  {
   "cell_type": "code",
   "execution_count": null,
   "metadata": {},
   "outputs": [],
   "source": [
    "num_cols.append('Владельцы')"
   ]
  },
  {
   "cell_type": "markdown",
   "metadata": {},
   "source": [
    "## Привод"
   ]
  },
  {
   "cell_type": "code",
   "execution_count": null,
   "metadata": {},
   "outputs": [],
   "source": [
    "data['Привод'].value_counts() \n"
   ]
  },
  {
   "cell_type": "code",
   "execution_count": null,
   "metadata": {},
   "outputs": [],
   "source": [
    "data['Привод'] = data['Привод'].fillna('передний')"
   ]
  },
  {
   "cell_type": "code",
   "execution_count": null,
   "metadata": {},
   "outputs": [],
   "source": [
    "data['Привод'].isna().value_counts() "
   ]
  },
  {
   "cell_type": "code",
   "execution_count": null,
   "metadata": {},
   "outputs": [],
   "source": [
    "cat_cols.append('Привод')"
   ]
  },
  {
   "cell_type": "markdown",
   "metadata": {},
   "source": [
    "## vendor"
   ]
  },
  {
   "cell_type": "code",
   "execution_count": null,
   "metadata": {},
   "outputs": [],
   "source": [
    "data['vendor'].value_counts() "
   ]
  },
  {
   "cell_type": "code",
   "execution_count": null,
   "metadata": {},
   "outputs": [],
   "source": [
    "cat_cols.append('vendor')"
   ]
  },
  {
   "cell_type": "markdown",
   "metadata": {},
   "source": [
    "## ПТС"
   ]
  },
  {
   "cell_type": "code",
   "execution_count": null,
   "metadata": {},
   "outputs": [],
   "source": [
    "data['ПТС'].value_counts() "
   ]
  },
  {
   "cell_type": "code",
   "execution_count": null,
   "metadata": {},
   "outputs": [],
   "source": [
    "data['ПТС'] = data['ПТС'].fillna(\"Оригинал\")"
   ]
  },
  {
   "cell_type": "code",
   "execution_count": null,
   "metadata": {},
   "outputs": [],
   "source": [
    "bin_cols.append('ПТС')"
   ]
  },
  {
   "cell_type": "markdown",
   "metadata": {},
   "source": [
    "## Руль"
   ]
  },
  {
   "cell_type": "code",
   "execution_count": null,
   "metadata": {},
   "outputs": [],
   "source": [
    "#data1=data.copy()"
   ]
  },
  {
   "cell_type": "code",
   "execution_count": null,
   "metadata": {},
   "outputs": [],
   "source": [
    "data['Руль'] = data['Руль'].fillna(\"Левый\")"
   ]
  },
  {
   "cell_type": "code",
   "execution_count": null,
   "metadata": {},
   "outputs": [],
   "source": [
    "data['Руль'].value_counts() "
   ]
  },
  {
   "cell_type": "code",
   "execution_count": null,
   "metadata": {},
   "outputs": [],
   "source": [
    "data['Руль'].isna().value_counts() "
   ]
  },
  {
   "cell_type": "code",
   "execution_count": null,
   "metadata": {},
   "outputs": [],
   "source": [
    "bin_cols.append('Руль')"
   ]
  },
  {
   "cell_type": "markdown",
   "metadata": {},
   "source": [
    "## city"
   ]
  },
  {
   "cell_type": "code",
   "execution_count": null,
   "metadata": {},
   "outputs": [],
   "source": [
    "cat_cols.append('city')"
   ]
  },
  {
   "cell_type": "markdown",
   "metadata": {},
   "source": [
    "## price"
   ]
  },
  {
   "cell_type": "markdown",
   "metadata": {},
   "source": [
    "целевой признак\n",
    "неплохо бы учесть изменение цен, судя по motor.ru и autonews.ru в среднем цены выросли процентов на 25-30, то есть наши цены нужно умножить на коэффициент равный 0.8 - 0.75"
   ]
  },
  {
   "cell_type": "code",
   "execution_count": null,
   "metadata": {},
   "outputs": [],
   "source": [
    "data.price = data.apply(lambda x: x.price if x.price == 0 else x.price * 0.8, axis=1)"
   ]
  },
  {
   "cell_type": "code",
   "execution_count": null,
   "metadata": {
    "scrolled": true
   },
   "outputs": [],
   "source": [
    "plt.figure()\n",
    "sns.distplot(data['price'], kde = False, rug=False)\n",
    "plt.title('price')\n",
    "plt.show()"
   ]
  },
  {
   "cell_type": "code",
   "execution_count": null,
   "metadata": {},
   "outputs": [],
   "source": [
    "num_cols"
   ]
  },
  {
   "cell_type": "code",
   "execution_count": null,
   "metadata": {},
   "outputs": [],
   "source": [
    "data.info()"
   ]
  },
  {
   "cell_type": "code",
   "execution_count": null,
   "metadata": {},
   "outputs": [],
   "source": [
    "cols = ['sample', 'sell_id', 'price']"
   ]
  },
  {
   "cell_type": "code",
   "execution_count": null,
   "metadata": {},
   "outputs": [],
   "source": [
    "train_1=data[data['sample'] == 1]\n",
    "train_1.info()"
   ]
  },
  {
   "cell_type": "code",
   "execution_count": null,
   "metadata": {},
   "outputs": [],
   "source": [
    "num_cols"
   ]
  },
  {
   "cell_type": "code",
   "execution_count": null,
   "metadata": {},
   "outputs": [],
   "source": [
    "num_cols = pd.Series(\n",
    "    f_classif(\n",
    "        train_1[num_cols],\n",
    "        train_1[\"price\"],\n",
    "    )[0],\n",
    "    index=num_cols,\n",
    ")\n",
    "num_cols.sort_values(inplace=True, ascending=False)\n",
    "num_cols.plot(kind=\"bar\", figsize=(15, 3))\n",
    "plt.title(\"Significance of num variables\")"
   ]
  },
  {
   "cell_type": "markdown",
   "metadata": {},
   "source": [
    "т.к. коррелция между modelDate и productionDate по отчету большая, оставим признак, который больше влияет на модель\n",
    "еще большая корреляция между mileage и productionDate, что логично, чем старше машина, тем больше пробег, можно попробовать создать признак на основе этих двух"
   ]
  },
  {
   "cell_type": "code",
   "execution_count": null,
   "metadata": {},
   "outputs": [],
   "source": [
    "data['mileage_year'] = 0\n",
    "data['mileage_per_year'] = 0"
   ]
  },
  {
   "cell_type": "code",
   "execution_count": null,
   "metadata": {},
   "outputs": [],
   "source": [
    "data"
   ]
  },
  {
   "cell_type": "code",
   "execution_count": null,
   "metadata": {},
   "outputs": [],
   "source": [
    "data"
   ]
  },
  {
   "cell_type": "code",
   "execution_count": null,
   "metadata": {},
   "outputs": [],
   "source": [
    "for i in range(0, len(data.productionDate)):\n",
    "    data['mileage_year'][i] = data.mileage[i]/(data.productionDate[i])"
   ]
  },
  {
   "cell_type": "code",
   "execution_count": null,
   "metadata": {},
   "outputs": [],
   "source": [
    "for i in range(0, len(data.productionDate)):\n",
    "    if data.productionDate[i] != 2021:\n",
    "        data['mileage_per_year'][i] = data.mileage[i]/(2021.0 - data.productionDate[i])\n",
    "    else:\n",
    "        data['mileage_per_year'][i] = data.mileage[i]"
   ]
  },
  {
   "cell_type": "code",
   "execution_count": null,
   "metadata": {},
   "outputs": [],
   "source": [
    "data['mileage'].corr(data['productionDate'])"
   ]
  },
  {
   "cell_type": "code",
   "execution_count": null,
   "metadata": {},
   "outputs": [],
   "source": [
    "num_cols = ['mileage_per_year', 'productionDate', 'mileage_year', 'mileage_log', 'enginePower', 'Владельцы']"
   ]
  },
  {
   "cell_type": "code",
   "execution_count": null,
   "metadata": {},
   "outputs": [],
   "source": [
    "train_1=data[data['sample'] == 1]\n",
    "train_1.info()"
   ]
  },
  {
   "cell_type": "code",
   "execution_count": null,
   "metadata": {},
   "outputs": [],
   "source": [
    "num_cols = pd.Series(\n",
    "    f_classif(\n",
    "        train_1[num_cols],\n",
    "        train_1[\"price\"],\n",
    "    )[0],\n",
    "    index=num_cols,\n",
    ")\n",
    "num_cols.sort_values(inplace=True, ascending=False)\n",
    "num_cols.plot(kind=\"bar\", figsize=(15, 3))\n",
    "plt.title(\"Significance of num variables\")"
   ]
  },
  {
   "cell_type": "code",
   "execution_count": null,
   "metadata": {},
   "outputs": [],
   "source": [
    "num_cols = ['productionDate', 'mileage_year', 'mileage_log', 'enginePower']"
   ]
  },
  {
   "cell_type": "code",
   "execution_count": null,
   "metadata": {},
   "outputs": [],
   "source": [
    "for colum in cat_cols:\n",
    "    train_1[colum] = train_1[colum].astype('category').cat.codes"
   ]
  },
  {
   "cell_type": "code",
   "execution_count": null,
   "metadata": {},
   "outputs": [],
   "source": [
    "train_1[cat_cols]"
   ]
  },
  {
   "cell_type": "code",
   "execution_count": null,
   "metadata": {},
   "outputs": [],
   "source": [
    "train_1.info()"
   ]
  },
  {
   "cell_type": "code",
   "execution_count": null,
   "metadata": {},
   "outputs": [],
   "source": [
    "label_encoder = LabelEncoder()\n",
    "for column in bin_cols:\n",
    "    train_1[column] = label_encoder.fit_transform(train_1[column])\n",
    "    print(dict(enumerate(label_encoder.classes_)))"
   ]
  },
  {
   "cell_type": "code",
   "execution_count": null,
   "metadata": {},
   "outputs": [],
   "source": [
    "imp_cat = Series(mutual_info_classif(train_1[bin_cols + cat_cols], train_1['price'],\n",
    "                                     discrete_features =True), index = bin_cols + cat_cols)\n",
    "imp_cat.sort_values(inplace = True)\n",
    "imp_cat.plot(kind = 'barh')"
   ]
  },
  {
   "cell_type": "markdown",
   "metadata": {},
   "source": [
    "бинарные признаки уберем совсем"
   ]
  },
  {
   "cell_type": "code",
   "execution_count": null,
   "metadata": {},
   "outputs": [],
   "source": [
    "columns = cat_cols + num_cols + cols\n",
    "train_1 = train_1[columns]"
   ]
  },
  {
   "cell_type": "code",
   "execution_count": null,
   "metadata": {},
   "outputs": [],
   "source": [
    "plt.rcParams['figure.figsize'] = (12,12)\n",
    "sns.heatmap(train_1.drop(['sample'], axis=1).corr().abs(),annot=True, fmt=\".2f\", linewidths=0.1, cbar=False)"
   ]
  },
  {
   "cell_type": "code",
   "execution_count": null,
   "metadata": {},
   "outputs": [],
   "source": [
    "cat_cols"
   ]
  },
  {
   "cell_type": "code",
   "execution_count": null,
   "metadata": {},
   "outputs": [],
   "source": [
    "columns = ['model_name', 'enginePower', 'age', 'bodyType', 'brand', 'color', 'vehicleTransmission', 'Привод', \n",
    "           'mileage_log', 'sample', 'sell_id', 'price']"
   ]
  },
  {
   "cell_type": "markdown",
   "metadata": {
    "papermill": {
     "duration": 0.033402,
     "end_time": "2020-10-26T12:47:02.866506",
     "exception": false,
     "start_time": "2020-10-26T12:47:02.833104",
     "status": "completed"
    },
    "tags": []
   },
   "source": [
    "## Data Preprocessing"
   ]
  },
  {
   "cell_type": "code",
   "execution_count": null,
   "metadata": {
    "papermill": {
     "duration": 0.042812,
     "end_time": "2020-10-26T12:47:02.943868",
     "exception": false,
     "start_time": "2020-10-26T12:47:02.901056",
     "status": "completed"
    },
    "tags": []
   },
   "outputs": [],
   "source": [
    "columns = cat_cols + num_cols + cols\n",
    "data = data[columns]\n",
    "#columns = ['bodyType', 'brand', 'productionDate', 'engineDisplacement', 'mileage', 'price', 'sample']\n",
    "#data = data[columns]"
   ]
  },
  {
   "cell_type": "code",
   "execution_count": null,
   "metadata": {},
   "outputs": [],
   "source": [
    "train = data[data['sample'] == 1] # помечаем где у нас трейн\n",
    "test = data[data['sample'] == 0] # помечаем где у нас тест"
   ]
  },
  {
   "cell_type": "code",
   "execution_count": null,
   "metadata": {
    "papermill": {
     "duration": 0.156124,
     "end_time": "2020-10-26T12:47:03.134605",
     "exception": false,
     "start_time": "2020-10-26T12:47:02.978481",
     "status": "completed"
    },
    "tags": []
   },
   "outputs": [],
   "source": [
    "#train.dropna(subset=['productionDate','mileage'], inplace=True)\n",
    "train.dropna(subset=['price'], inplace=True)"
   ]
  },
  {
   "cell_type": "code",
   "execution_count": null,
   "metadata": {
    "papermill": {
     "duration": 0.054414,
     "end_time": "2020-10-26T12:47:03.223614",
     "exception": false,
     "start_time": "2020-10-26T12:47:03.1692",
     "status": "completed"
    },
    "tags": []
   },
   "outputs": [],
   "source": [
    "# для baseline просто возьму пару схожих признаков без полной обработки\n",
    "#columns = ['bodyType', 'brand', 'productionDate', 'engineDisplacement', 'mileage']\n",
    "df_train = train[columns]\n",
    "df_test = test[columns]"
   ]
  },
  {
   "cell_type": "code",
   "execution_count": null,
   "metadata": {},
   "outputs": [],
   "source": [
    "y = train['price']"
   ]
  },
  {
   "cell_type": "markdown",
   "metadata": {
    "papermill": {
     "duration": 0.033657,
     "end_time": "2020-10-26T12:47:03.29162",
     "exception": false,
     "start_time": "2020-10-26T12:47:03.257963",
     "status": "completed"
    },
    "tags": []
   },
   "source": [
    "## Label Encoding"
   ]
  },
  {
   "cell_type": "code",
   "execution_count": null,
   "metadata": {
    "papermill": {
     "duration": 0.080223,
     "end_time": "2020-10-26T12:47:03.406196",
     "exception": false,
     "start_time": "2020-10-26T12:47:03.325973",
     "status": "completed"
    },
    "tags": []
   },
   "outputs": [],
   "source": [
    "# ВАЖНО! дря корректной обработки признаков объединяем трейн и тест в один датасет\n",
    "#df_train['sample'] = 1 # помечаем где у нас трейн\n",
    "#df_test['sample'] = 0 # помечаем где у нас тест\n",
    "\n",
    "data = df_test.append(df_train, sort=False).reset_index(drop=True) # объединяем"
   ]
  },
  {
   "cell_type": "code",
   "execution_count": null,
   "metadata": {
    "papermill": {
     "duration": 0.10809,
     "end_time": "2020-10-26T12:47:03.549533",
     "exception": false,
     "start_time": "2020-10-26T12:47:03.441443",
     "status": "completed"
    },
    "tags": []
   },
   "outputs": [],
   "source": [
    "for colum in cat_cols:\n",
    "    data[colum] = data[colum].astype('category').cat.codes"
   ]
  },
  {
   "cell_type": "code",
   "execution_count": null,
   "metadata": {
    "papermill": {
     "duration": 0.06183,
     "end_time": "2020-10-26T12:47:03.646867",
     "exception": false,
     "start_time": "2020-10-26T12:47:03.585037",
     "status": "completed"
    },
    "tags": []
   },
   "outputs": [],
   "source": [
    "data"
   ]
  },
  {
   "cell_type": "code",
   "execution_count": null,
   "metadata": {
    "papermill": {
     "duration": 0.071275,
     "end_time": "2020-10-26T12:47:03.754",
     "exception": false,
     "start_time": "2020-10-26T12:47:03.682725",
     "status": "completed"
    },
    "tags": []
   },
   "outputs": [],
   "source": [
    "X = data.query('sample == 1').drop(['sample', 'price'], axis=1)\n",
    "X_sub = data.query('sample == 0').drop(['sample','price'], axis=1)"
   ]
  },
  {
   "cell_type": "markdown",
   "metadata": {
    "papermill": {
     "duration": 0.035737,
     "end_time": "2020-10-26T12:47:03.826552",
     "exception": false,
     "start_time": "2020-10-26T12:47:03.790815",
     "status": "completed"
    },
    "tags": []
   },
   "source": [
    "## Train Split"
   ]
  },
  {
   "cell_type": "code",
   "execution_count": null,
   "metadata": {
    "papermill": {
     "duration": 0.059208,
     "end_time": "2020-10-26T12:47:03.923564",
     "exception": false,
     "start_time": "2020-10-26T12:47:03.864356",
     "status": "completed"
    },
    "tags": []
   },
   "outputs": [],
   "source": [
    "X_train, X_test, y_train, y_test = train_test_split(X, y, test_size=VAL_SIZE, shuffle=True, random_state=RANDOM_SEED)"
   ]
  },
  {
   "cell_type": "markdown",
   "metadata": {},
   "source": [
    "# Model 1: Создадим \"наивную\" модель \n",
    "Эта модель будет предсказывать среднюю цену по модели двигателя (engineDisplacement). \n",
    "C ней будем сравнивать другие модели.\n",
    "\n",
    "\n"
   ]
  },
  {
   "cell_type": "code",
   "execution_count": null,
   "metadata": {},
   "outputs": [],
   "source": [
    "#tmp_train = X_train.copy()\n",
    "#tmp_train['price'] = y_train"
   ]
  },
  {
   "cell_type": "code",
   "execution_count": null,
   "metadata": {},
   "outputs": [],
   "source": [
    "# Находим median по экземплярам engineDisplacement в трейне и размечаем тест\n",
    "#predict = X_test['engineDisplacement'].map(tmp_train.groupby('engineDisplacement')['price'].median())\n",
    "\n",
    "#оцениваем точность\n",
    "#print(f\"Точность наивной модели по метрике MAPE: {(mape(y_test, predict.values))*100:0.2f}%\")"
   ]
  },
  {
   "cell_type": "markdown",
   "metadata": {
    "papermill": {
     "duration": 0.037164,
     "end_time": "2020-10-26T12:47:03.997616",
     "exception": false,
     "start_time": "2020-10-26T12:47:03.960452",
     "status": "completed"
    },
    "tags": []
   },
   "source": [
    "# # Model 2 : CatBoost\n",
    "![](https://pbs.twimg.com/media/DP-jUCyXcAArRTo.png:large)   \n",
    "\n",
    "\n",
    "У нас в данных практически все признаки категориальные. Специально для работы с такими данными была создана очень удобная библиотека CatBoost от Яндекса. [https://catboost.ai](http://)     \n",
    "На данный момент **CatBoost является одной из лучших библиотек для табличных данных!**\n",
    "\n",
    "#### Полезные видео о CatBoost (на русском):\n",
    "* [Доклад про CatBoost](https://youtu.be/9ZrfErvm97M)\n",
    "* [Свежий Туториал от команды CatBoost (практическая часть)](https://youtu.be/wQt4kgAOgV0) "
   ]
  },
  {
   "cell_type": "markdown",
   "metadata": {
    "papermill": {
     "duration": 0.035833,
     "end_time": "2020-10-26T12:47:04.149539",
     "exception": false,
     "start_time": "2020-10-26T12:47:04.113706",
     "status": "completed"
    },
    "tags": []
   },
   "source": [
    "## Fit"
   ]
  },
  {
   "cell_type": "code",
   "execution_count": null,
   "metadata": {
    "papermill": {
     "duration": 67.991521,
     "end_time": "2020-10-26T12:48:12.178488",
     "exception": false,
     "start_time": "2020-10-26T12:47:04.186967",
     "status": "completed"
    },
    "tags": []
   },
   "outputs": [],
   "source": [
    "model = CatBoostRegressor(iterations = 5000,\n",
    "                          random_seed = RANDOM_SEED,\n",
    "                          eval_metric='MAPE',\n",
    "                          custom_metric=['R2', 'MAE'],\n",
    "                          silent=True,\n",
    "                         )\n",
    "model.fit(X_train, y_train,\n",
    "         #cat_features=cat_features_ids,\n",
    "         eval_set=(X_test, y_test),\n",
    "         verbose_eval=0,\n",
    "         use_best_model=True,\n",
    "         #plot=True\n",
    "         )\n",
    "\n",
    "model.save_model('catboost_single_model_baseline.model')"
   ]
  },
  {
   "cell_type": "code",
   "execution_count": null,
   "metadata": {},
   "outputs": [],
   "source": [
    "# оцениваем точность\n",
    "predict = model.predict(X_test)\n",
    "print(f\"Точность модели по метрике MAPE: {(mape(y_test, predict))*100:0.2f}%\")"
   ]
  },
  {
   "cell_type": "markdown",
   "metadata": {
    "papermill": {
     "duration": 0.088891,
     "end_time": "2020-10-26T12:48:12.562943",
     "exception": false,
     "start_time": "2020-10-26T12:48:12.474052",
     "status": "completed"
    },
    "tags": []
   },
   "source": [
    "Вот так просто со старта, даже не трогая сами данные и не подбирая настройки catboosta, получаем модель с уровнем ошибки в 18%!"
   ]
  },
  {
   "cell_type": "code",
   "execution_count": null,
   "metadata": {},
   "outputs": [],
   "source": [
    "columns = ['bodyType', 'brand', 'productionDate', 'engineDisplacement', 'mileage_log', 'price', 'sample']\n",
    "data = data[columns]"
   ]
  },
  {
   "cell_type": "code",
   "execution_count": null,
   "metadata": {},
   "outputs": [],
   "source": [
    "columns = ['bodyType', 'brand', 'productionDate', 'engineDisplacement', 'mileage_log']\n",
    "df_train = train[columns]\n",
    "df_test = test[columns]"
   ]
  },
  {
   "cell_type": "code",
   "execution_count": null,
   "metadata": {},
   "outputs": [],
   "source": [
    "y = train['price']"
   ]
  },
  {
   "cell_type": "code",
   "execution_count": null,
   "metadata": {},
   "outputs": [],
   "source": [
    "df_train['sample'] = 1 # помечаем где у нас трейн\n",
    "df_test['sample'] = 0 # помечаем где у нас тест\n",
    "\n",
    "data = df_test.append(df_train, sort=False).reset_index(drop=True) # объединяем"
   ]
  },
  {
   "cell_type": "code",
   "execution_count": null,
   "metadata": {},
   "outputs": [],
   "source": [
    "for colum in ['bodyType', 'brand', 'engineDisplacement']:\n",
    "    data[colum] = data[colum].astype('category').cat.codes"
   ]
  },
  {
   "cell_type": "code",
   "execution_count": null,
   "metadata": {},
   "outputs": [],
   "source": [
    "data"
   ]
  },
  {
   "cell_type": "code",
   "execution_count": null,
   "metadata": {},
   "outputs": [],
   "source": [
    "X = data.query('sample == 1').drop(['sample'], axis=1)\n",
    "X_sub = data.query('sample == 0').drop(['sample'], axis=1)"
   ]
  },
  {
   "cell_type": "code",
   "execution_count": null,
   "metadata": {},
   "outputs": [],
   "source": [
    "X_train, X_test, y_train, y_test = train_test_split(X, y, test_size=VAL_SIZE, shuffle=True, random_state=RANDOM_SEED)"
   ]
  },
  {
   "cell_type": "code",
   "execution_count": null,
   "metadata": {},
   "outputs": [],
   "source": [
    "#clf = LazyRegressor(verbose=0,ignore_warnings=True, custom_metric=mape)\n",
    "#models,predictions = clf.fit(X_train, X_test, y_train, y_test)"
   ]
  },
  {
   "cell_type": "code",
   "execution_count": null,
   "metadata": {},
   "outputs": [],
   "source": [
    "#print(models)"
   ]
  },
  {
   "cell_type": "markdown",
   "metadata": {},
   "source": [
    "Использовала lazypredict на малом объеме данных, с полным объемом не справляется, зависает, он выдал наилучшей модель ExtraTreesRegressor, а если еще и прологарифмировать y, то получается неплохой результат, нужно попробовать подобрать гиерпараметры"
   ]
  },
  {
   "cell_type": "markdown",
   "metadata": {},
   "source": [
    "# ExtraTreesRegressor"
   ]
  },
  {
   "cell_type": "code",
   "execution_count": null,
   "metadata": {},
   "outputs": [],
   "source": [
    "reg = ExtraTreesRegressor(n_estimators=100, random_state=42).fit(X_train, np.log(y_train))\n",
    "predict = np.exp(reg.predict(X_test))\n",
    "print(f\"Точность модели по метрике MAPE: {(mape(y_test, predict))*100:0.2f}%\")"
   ]
  },
  {
   "cell_type": "code",
   "execution_count": null,
   "metadata": {},
   "outputs": [],
   "source": [
    "from sklearn.model_selection import RandomizedSearchCV"
   ]
  },
  {
   "cell_type": "code",
   "execution_count": null,
   "metadata": {},
   "outputs": [],
   "source": [
    "n_estimators = [100, 150, 200, 250, 300, 350, 400, 450, 500]\n",
    "max_features = ['auto', 'sqrt']\n",
    "max_depth = [10, 15, 20, 25]\n",
    "max_depth.append(None)\n",
    "min_samples_split = [2,3,4,5,6,7,8,9,10]\n",
    "min_samples_leaf = [1,2,3,4]\n",
    "bootstrap = [True, False]\n",
    "random_grid = {'n_estimators': n_estimators,\n",
    "               'max_features': max_features,\n",
    "               'max_depth': max_depth,\n",
    "               'min_samples_split': min_samples_split,\n",
    "               'min_samples_leaf': min_samples_leaf,\n",
    "               'bootstrap': bootstrap}\n",
    "\n",
    "model_random = RandomizedSearchCV(estimator=reg, param_distributions=random_grid, n_iter=10, \n",
    "                               cv=3, verbose=2, random_state=42, n_jobs=-1)\n",
    "model_random.fit(X_train, y_train)\n",
    "\n",
    "model_random.best_params_\n",
    "\n"
   ]
  },
  {
   "cell_type": "code",
   "execution_count": null,
   "metadata": {},
   "outputs": [],
   "source": [
    "reg = ExtraTreesRegressor(random_state=RANDOM_SEED, \n",
    "                            n_jobs=-1, \n",
    "                            verbose=1, \n",
    "                            n_estimators = 400, \n",
    "                            min_samples_split = 9, \n",
    "                            min_samples_leaf = 2, \n",
    "                            max_features = 'auto', \n",
    "                            max_depth = 25, \n",
    "                            bootstrap = False)\n",
    "reg.fit(X_train, y_train)\n",
    "y_pred = reg.predict(X_test)\n",
    "print(f\"Точность модели по метрике MAPE: {(mape(y_test, y_pred))*100:0.2f}%\")\n",
    "\n"
   ]
  },
  {
   "cell_type": "code",
   "execution_count": null,
   "metadata": {},
   "outputs": [],
   "source": [
    "reg.fit(X_train, np.log(y_train))\n",
    "y_pred = np.exp(reg.predict(X_test))\n",
    "print(f\"Точность модели по метрике MAPE: {(mape(y_test, y_pred))*100:0.2f}%\")"
   ]
  },
  {
   "cell_type": "markdown",
   "metadata": {},
   "source": [
    "Не очень то настройка гиперпараметров помогла"
   ]
  },
  {
   "cell_type": "markdown",
   "metadata": {},
   "source": [
    "# RandomForestRegressor"
   ]
  },
  {
   "cell_type": "code",
   "execution_count": null,
   "metadata": {},
   "outputs": [],
   "source": [
    "rfr = RandomForestRegressor(random_state=RANDOM_SEED)\n",
    "rfr.fit(X_train, y_train)\n",
    "y_pred = rfr.predict(X_test)\n",
    "print(f\"Точность модели по метрике MAPE: {(mape(y_test, y_pred))*100:0.2f}%\")"
   ]
  },
  {
   "cell_type": "code",
   "execution_count": null,
   "metadata": {},
   "outputs": [],
   "source": [
    "rfr.fit(X_train, np.log(y_train))\n",
    "y_pred = np.exp(rfr.predict(X_test))\n",
    "print(f\"Точность модели по метрике MAPE: {(mape(y_test, y_pred))*100:0.2f}%\")"
   ]
  },
  {
   "cell_type": "code",
   "execution_count": null,
   "metadata": {},
   "outputs": [],
   "source": [
    "n_estimators = [100, 150, 200, 250, 300, 350, 400]\n",
    "max_features = ['auto', 'sqrt']\n",
    "max_depth = [10, 15, 20, 25]\n",
    "min_samples_split = [2, 4, 6, 8, 10]\n",
    "min_samples_leaf = [1, 2, 4]\n",
    "bootstrap = [True, False]\n",
    "random_grid = {'n_estimators': n_estimators,\n",
    "               'max_features': max_features,\n",
    "               'max_depth': max_depth,\n",
    "               'min_samples_split': min_samples_split,\n",
    "               'min_samples_leaf': min_samples_leaf,\n",
    "               'bootstrap': bootstrap}\n",
    "\n",
    "\n",
    "model_random = RandomizedSearchCV(estimator=rfr, param_distributions=random_grid, n_iter=10, \n",
    "                               cv=3, verbose=2, random_state=42, n_jobs=-1)\n",
    "model_random.fit(X_train, y_train)\n",
    "\n"
   ]
  },
  {
   "cell_type": "code",
   "execution_count": null,
   "metadata": {},
   "outputs": [],
   "source": [
    "model_random.best_params_"
   ]
  },
  {
   "cell_type": "code",
   "execution_count": null,
   "metadata": {},
   "outputs": [],
   "source": [
    "rfr = RandomForestRegressor(random_state=RANDOM_SEED, n_jobs=-1,verbose=1, n_estimators=100,\n",
    "                             min_samples_split=10, min_samples_leaf=2, max_features='sqrt',\n",
    "                             max_depth=25, bootstrap=False)\n",
    "\n",
    "rfr.fit(X_train, np.log(y_train))\n",
    "\n",
    "y_pred = np.exp(rfr.predict(X_test))\n",
    "\n",
    "print(f\"Точность модели по метрике MAPE: {(mape(y_test, y_pred))*100:0.2f}%\")"
   ]
  },
  {
   "cell_type": "markdown",
   "metadata": {},
   "source": [
    "# GradientBoostingRegressor"
   ]
  },
  {
   "cell_type": "code",
   "execution_count": null,
   "metadata": {},
   "outputs": [],
   "source": [
    "from sklearn.ensemble import GradientBoostingRegressor"
   ]
  },
  {
   "cell_type": "code",
   "execution_count": null,
   "metadata": {},
   "outputs": [],
   "source": [
    "model = GradientBoostingRegressor(random_state=RANDOM_SEED).fit(X_train, np.log(y_train))\n",
    "y_pred = np.exp(model.predict(X_test))\n",
    "print(f\"Точность модели по метрике MAPE: {(mape(y_test, y_pred))*100:0.2f}%\")"
   ]
  },
  {
   "cell_type": "code",
   "execution_count": null,
   "metadata": {},
   "outputs": [],
   "source": []
  },
  {
   "cell_type": "markdown",
   "metadata": {},
   "source": [
    "# BaggingRegressor"
   ]
  },
  {
   "cell_type": "code",
   "execution_count": null,
   "metadata": {},
   "outputs": [],
   "source": [
    "from sklearn.ensemble import BaggingRegressor\n",
    "from sklearn.datasets import make_regression"
   ]
  },
  {
   "cell_type": "code",
   "execution_count": null,
   "metadata": {},
   "outputs": [],
   "source": [
    "model = RandomForestRegressor(random_state=RANDOM_SEED).fit(X_train, np.log(y_train))\n",
    "y_pred = np.exp(model.predict(X_test))\n",
    "print(f\"Точность модели по метрике MAPE: {(mape(y_test, y_pred))*100:0.2f}%\")"
   ]
  },
  {
   "cell_type": "markdown",
   "metadata": {},
   "source": [
    "# XGBRegressor"
   ]
  },
  {
   "cell_type": "code",
   "execution_count": null,
   "metadata": {},
   "outputs": [],
   "source": [
    "from  xgboost import XGBRegressor"
   ]
  },
  {
   "cell_type": "code",
   "execution_count": null,
   "metadata": {},
   "outputs": [],
   "source": [
    "model = XGBRegressor(random_state=RANDOM_SEED).fit(X_train, np.log(y_train))\n",
    "y_pred = np.exp(model.predict(X_test))\n",
    "print(f\"Точность модели по метрике MAPE: {(mape(y_test, y_pred))*100:0.2f}%\")"
   ]
  },
  {
   "cell_type": "code",
   "execution_count": null,
   "metadata": {},
   "outputs": [],
   "source": [
    "from sklearn.ensemble import StackingRegressor\n",
    "from sklearn.linear_model import LinearRegression"
   ]
  },
  {
   "cell_type": "code",
   "execution_count": null,
   "metadata": {},
   "outputs": [],
   "source": [
    "#Стекинг\n",
    "#\n",
    "#Объединим BaggingRegressor, ExtraTreesRegressor и RandomForestRegressor. В качестве мета-алгоритма используем LinearRegression\n",
    "\n",
    "estimators = [\n",
    "    ('etr', ExtraTreesRegressor(random_state=RANDOM_SEED, \n",
    "                            n_jobs=-1, \n",
    "                            verbose=1, \n",
    "                            n_estimators = 400, \n",
    "                            min_samples_split = 9, \n",
    "                            min_samples_leaf = 2, \n",
    "                            max_features = 'auto', \n",
    "                            max_depth = 25, \n",
    "                            bootstrap = False)),\n",
    "    ('xgb', XGBRegressor(random_state=RANDOM_SEED)),\n",
    "    ('cfr', RandomForestRegressor(random_state=RANDOM_SEED, n_jobs=-1,verbose=1, n_estimators=100,\n",
    "                             min_samples_split=10, min_samples_leaf=2, max_features='sqrt',\n",
    "                             max_depth=25, bootstrap=False))]\n",
    "\n",
    "stack_log = StackingRegressor(estimators=estimators,\n",
    "                              final_estimator=LinearRegression()\n",
    "                              )\n",
    "\n",
    "stack_log.fit(X_train, np.log(y_train))\n",
    "\n",
    "y_pred = np.exp(stack_log.predict(X_test))\n",
    "\n",
    "print(f\"Точность модели по метрике MAPE: {(mape(y_test, y_pred) * 100):0.2f}%.\")\n",
    "\n"
   ]
  },
  {
   "cell_type": "markdown",
   "metadata": {},
   "source": [
    "### Log Traget\n",
    "Попробуем взять таргет в логорифм - это позволит уменьшить влияние выбросов на обучение модели (используем для этого np.log и np.exp).    \n",
    "В принциепе мы можем использовать любое приобразование на целевую переменную. Например деление на курс доллара, евро или гречки :) в дату сбора данных, смотрим дату парсинга в тесте в **parsing_unixtime**"
   ]
  },
  {
   "cell_type": "code",
   "execution_count": null,
   "metadata": {},
   "outputs": [],
   "source": [
    "#np.log(y_train)"
   ]
  },
  {
   "cell_type": "code",
   "execution_count": null,
   "metadata": {},
   "outputs": [],
   "source": [
    "#model = CatBoostRegressor(iterations = 5000,\n",
    "#                          random_seed = RANDOM_SEED,\n",
    "#                          eval_metric='MAPE',\n",
    "#                          custom_metric=['R2', 'MAE'],\n",
    "#                          silent=True,\n",
    "#                         )\n",
    "#model.fit(X_train, np.log(y_train),\n",
    "#         #cat_features=cat_features_ids,\n",
    "#         eval_set=(X_test, np.log(y_test)),\n",
    "#         verbose_eval=0,\n",
    "#         use_best_model=True,\n",
    "#         #plot=True\n",
    "#         )\n",
    "#\n",
    "#model.save_model('catboost_single_model_2_baseline.model')"
   ]
  },
  {
   "cell_type": "code",
   "execution_count": null,
   "metadata": {},
   "outputs": [],
   "source": [
    "#predict_test = np.exp(model.predict(X_test))\n",
    "#predict_submission = np.exp(model.predict(X_sub))"
   ]
  },
  {
   "cell_type": "code",
   "execution_count": null,
   "metadata": {},
   "outputs": [],
   "source": [
    "#print(f\"Точность модели по метрике MAPE: {(mape(y_test, predict_test))*100:0.2f}%\")"
   ]
  },
  {
   "cell_type": "markdown",
   "metadata": {},
   "source": [
    "Как видим точность возросла до 15%, а что будет на ЛБ?"
   ]
  },
  {
   "cell_type": "markdown",
   "metadata": {},
   "source": [
    "Для выбора оптимального алгоритма я собиралась использовать LazyRegressor, но ноутбук перезапускался из-за превышения объема памяти, поэтому пришлось экспериментрировать вручную.\n",
    "\n",
    "После проверки предложенных в baseline моделей (наивной и catBoost) я решила начать с решающего дерева, прежде, чем переходить к ансамблям. Решающее дерево уже само по себе относительно неплохо сработало (МАРЕ около 23%), поэтому в качестве ансамбля я решила опробовать RandomForest (который в последствии оказался лучшей моделью).\n",
    "\n",
    "Далее возникли проблемы с настройкой гиперпараметров, т.к. при запуске RandomizedSerchCV и GridSearchCV снова возникла проблема с перезапуском ноутбука. Код для уменьшения объема исользуемой памяти, найденный мной на StackOverFlow, проблему не решил. Было решено заниматься настройкой гиперпараметров только для тех моделей, которые с параметрами по умолчанию уже дают хороший результат. Пришлось завести дополнительный ноутбук в Юпитере для подбора гиперпараметров. НО: скачать train датасет с Kaggle не вышло, поэтому в Юпитере я тестировала модель только на train_extra, вероятно поэтому подобранные гиперпараметры не улучшали качество моделей на Kaggle.\n",
    "\n",
    "В результате всех этих приключений и подбора корригирующего коэффициента для цен мне удалось получить значение метрики МАРЕ 13,58 на ЛБ после использования случайного леса с параметрами по умолчанию. На чем я и решила остановиться"
   ]
  },
  {
   "cell_type": "markdown",
   "metadata": {
    "papermill": {
     "duration": 0.085876,
     "end_time": "2020-10-26T12:48:12.734207",
     "exception": false,
     "start_time": "2020-10-26T12:48:12.648331",
     "status": "completed"
    },
    "tags": []
   },
   "source": [
    "# Submission"
   ]
  },
  {
   "cell_type": "code",
   "execution_count": null,
   "metadata": {
    "papermill": {
     "duration": 0.628302,
     "end_time": "2020-10-26T12:48:13.763488",
     "exception": false,
     "start_time": "2020-10-26T12:48:13.135186",
     "status": "completed"
    },
    "tags": []
   },
   "outputs": [],
   "source": [
    "sample_submission['price'] = predict_submission\n",
    "sample_submission.to_csv(f'submission_2_v{VERSION}.csv', index=False)\n",
    "sample_submission.head(10)"
   ]
  },
  {
   "cell_type": "markdown",
   "metadata": {
    "papermill": {
     "duration": 0.083769,
     "end_time": "2020-10-26T12:48:13.930562",
     "exception": false,
     "start_time": "2020-10-26T12:48:13.846793",
     "status": "completed"
    },
    "tags": []
   },
   "source": [
    "В итоге получили **MAPE 27%** на ЛБ!\n",
    "\n",
    "Большая разница в ошибке может указывать на то что тест и трейн имеют различия по выборке или то что данные в трейне могли уже устареть и их нужно обновлять."
   ]
  },
  {
   "cell_type": "markdown",
   "metadata": {
    "papermill": {
     "duration": 0.087712,
     "end_time": "2020-10-26T12:48:14.104388",
     "exception": false,
     "start_time": "2020-10-26T12:48:14.016676",
     "status": "completed"
    },
    "tags": []
   },
   "source": [
    "# What's next?\n",
    "Или что еще можно сделать, чтоб улучшить результат:\n",
    "\n",
    "* Спарсить свежие данные \n",
    "* Посмотреть, что можно извлечь из признаков или как еще можно обработать признаки\n",
    "* Сгенерировать новые признаки\n",
    "* Попробовать подобрать параметры модели\n",
    "* Попробовать другие алгоритмы и библиотеки ML\n",
    "* Сделать Ансамбль моделей, Blending, Stacking"
   ]
  },
  {
   "cell_type": "markdown",
   "metadata": {},
   "source": [
    "Подробный чек лист: https://docs.google.com/spreadsheets/d/1I_ErM3U0Cs7Rs1obyZbIEGtVn-H47pHNCi4xdDgUmXY/edit?usp=sharing"
   ]
  }
 ],
 "metadata": {
  "kernelspec": {
   "display_name": "Python 3",
   "language": "python",
   "name": "python3"
  },
  "language_info": {
   "codemirror_mode": {
    "name": "ipython",
    "version": 3
   },
   "file_extension": ".py",
   "mimetype": "text/x-python",
   "name": "python",
   "nbconvert_exporter": "python",
   "pygments_lexer": "ipython3",
   "version": "3.8.5"
  }
 },
 "nbformat": 4,
 "nbformat_minor": 4
}
