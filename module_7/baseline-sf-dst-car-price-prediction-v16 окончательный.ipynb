{
 "cells": [
  {
   "cell_type": "markdown",
   "metadata": {
    "papermill": {
     "duration": 0.119856,
     "end_time": "2022-01-07T09:58:44.562254",
     "exception": false,
     "start_time": "2022-01-07T09:58:44.442398",
     "status": "completed"
    },
    "tags": []
   },
   "source": [
    "<img src=\"https://whatcar.vn/media/2018/09/car-lot-940x470.jpg\"/>\n",
    "\n",
    "## Прогнозирование стоимости автомобиля по характеристикам\n",
    "*Этот Ноутбук является Примером/Шаблоном (Baseline) к этому соревнованию и не служит готовым решением!*   \n",
    "Вы можете использовать его как основу для построения своего решения.\n",
    "\n",
    "\n",
    "> **baseline** создается больше как шаблон, где можно посмотреть как происходит обращение с входящими данными и что нужно получить на выходе. При этом МЛ начинка может быть достаточно простой. Это помогает быстрее приступить к самому МЛ, а не тратить ценное время на чисто инженерные задачи. \n",
    "Также baseline является хорошей опорной точкой по метрике. Если твое решение хуже baseline - ты явно делаешь что-то не то и стоит попробовать другой путь) "
   ]
  },
  {
   "cell_type": "markdown",
   "metadata": {},
   "source": [
    "[Проект на kaggle](https://www.kaggle.com/laysanmart/baseline-sf-dst-car-price-prediction-v16), здесь можно посмотреть спарсенные данные"
   ]
  },
  {
   "cell_type": "code",
   "execution_count": 1,
   "metadata": {
    "_cell_guid": "b1076dfc-b9ad-4769-8c92-a6c4dae69d19",
    "_uuid": "8f2839f25d086af736a60e9eeb907d3b93b6e0e5",
    "execution": {
     "iopub.execute_input": "2022-01-07T09:58:45.035723Z",
     "iopub.status.busy": "2022-01-07T09:58:45.034905Z",
     "iopub.status.idle": "2022-01-07T09:58:48.029089Z",
     "shell.execute_reply": "2022-01-07T09:58:48.028440Z",
     "shell.execute_reply.started": "2022-01-07T09:52:12.102919Z"
    },
    "papermill": {
     "duration": 3.121769,
     "end_time": "2022-01-07T09:58:48.029222",
     "exception": false,
     "start_time": "2022-01-07T09:58:44.907453",
     "status": "completed"
    },
    "tags": []
   },
   "outputs": [],
   "source": [
    "import numpy as np # linear algebra\n",
    "import pandas as pd # data processing, CSV file I/O (e.g. pd.read_csv)\n",
    "import sys\n",
    "import re\n",
    "from sklearn.model_selection import train_test_split\n",
    "from sklearn.model_selection import KFold\n",
    "from tqdm.notebook import tqdm\n",
    "from catboost import CatBoostRegressor\n",
    "from sklearn.preprocessing import LabelEncoder\n",
    "from pandas_profiling import ProfileReport\n",
    "from sklearn.ensemble import ExtraTreesRegressor\n",
    "import matplotlib.pyplot as plt\n",
    "import seaborn as sns \n",
    "from sklearn.feature_selection import f_classif, mutual_info_classif\n",
    "from pandas import Series\n",
    "from sklearn.preprocessing import PolynomialFeatures \n",
    "from sklearn.ensemble import StackingRegressor\n",
    "from sklearn.linear_model import LinearRegression\n",
    "from  xgboost import XGBRegressor\n",
    "from sklearn.ensemble import RandomForestRegressor\n",
    "from sklearn.model_selection import RandomizedSearchCV\n"
   ]
  },
  {
   "cell_type": "code",
   "execution_count": 2,
   "metadata": {
    "_kg_hide-input": true,
    "execution": {
     "iopub.execute_input": "2022-01-07T09:58:48.267006Z",
     "iopub.status.busy": "2022-01-07T09:58:48.266321Z",
     "iopub.status.idle": "2022-01-07T09:58:48.277760Z",
     "shell.execute_reply": "2022-01-07T09:58:48.278374Z",
     "shell.execute_reply.started": "2022-01-07T09:52:14.308745Z"
    },
    "papermill": {
     "duration": 0.130815,
     "end_time": "2022-01-07T09:58:48.278539",
     "exception": false,
     "start_time": "2022-01-07T09:58:48.147724",
     "status": "completed"
    },
    "tags": []
   },
   "outputs": [
    {
     "name": "stdout",
     "output_type": "stream",
     "text": [
      "Python       : 3.7.6 | packaged by conda-forge | (default, Mar 23 2020, 23:03:20) \n",
      "Numpy        : 1.18.5\n"
     ]
    }
   ],
   "source": [
    "print('Python       :', sys.version.split('\\n')[0])\n",
    "print('Numpy        :', np.__version__)"
   ]
  },
  {
   "cell_type": "code",
   "execution_count": 3,
   "metadata": {
    "_kg_hide-input": true,
    "execution": {
     "iopub.execute_input": "2022-01-07T09:58:48.515888Z",
     "iopub.status.busy": "2022-01-07T09:58:48.514792Z",
     "iopub.status.idle": "2022-01-07T09:58:51.361776Z",
     "shell.execute_reply": "2022-01-07T09:58:51.360205Z",
     "shell.execute_reply.started": "2022-01-07T09:52:14.323538Z"
    },
    "papermill": {
     "duration": 2.96711,
     "end_time": "2022-01-07T09:58:51.361917",
     "exception": false,
     "start_time": "2022-01-07T09:58:48.394807",
     "status": "completed"
    },
    "tags": []
   },
   "outputs": [],
   "source": [
    "# зафиксируем версию пакетов, чтобы эксперименты были воспроизводимы:\n",
    "!pip freeze > requirements.txt"
   ]
  },
  {
   "cell_type": "code",
   "execution_count": 4,
   "metadata": {
    "execution": {
     "iopub.execute_input": "2022-01-07T09:58:51.597939Z",
     "iopub.status.busy": "2022-01-07T09:58:51.597161Z",
     "iopub.status.idle": "2022-01-07T09:58:51.600629Z",
     "shell.execute_reply": "2022-01-07T09:58:51.601080Z",
     "shell.execute_reply.started": "2022-01-07T09:52:17.212152Z"
    },
    "papermill": {
     "duration": 0.122879,
     "end_time": "2022-01-07T09:58:51.601236",
     "exception": false,
     "start_time": "2022-01-07T09:58:51.478357",
     "status": "completed"
    },
    "tags": []
   },
   "outputs": [],
   "source": [
    "# всегда фиксируйте RANDOM_SEED, чтобы ваши эксперименты были воспроизводимы!\n",
    "RANDOM_SEED = 42"
   ]
  },
  {
   "cell_type": "code",
   "execution_count": 5,
   "metadata": {
    "_kg_hide-input": true,
    "execution": {
     "iopub.execute_input": "2022-01-07T09:58:51.836012Z",
     "iopub.status.busy": "2022-01-07T09:58:51.835326Z",
     "iopub.status.idle": "2022-01-07T09:58:51.839501Z",
     "shell.execute_reply": "2022-01-07T09:58:51.839965Z",
     "shell.execute_reply.started": "2022-01-07T09:52:17.222839Z"
    },
    "papermill": {
     "duration": 0.123403,
     "end_time": "2022-01-07T09:58:51.840116",
     "exception": false,
     "start_time": "2022-01-07T09:58:51.716713",
     "status": "completed"
    },
    "tags": []
   },
   "outputs": [],
   "source": [
    "def mape(y_true, y_pred):\n",
    "    return np.mean(np.abs((y_pred-y_true)/y_true))"
   ]
  },
  {
   "cell_type": "markdown",
   "metadata": {
    "papermill": {
     "duration": 0.117181,
     "end_time": "2022-01-07T09:58:52.074639",
     "exception": false,
     "start_time": "2022-01-07T09:58:51.957458",
     "status": "completed"
    },
    "tags": []
   },
   "source": [
    "# Setup"
   ]
  },
  {
   "cell_type": "code",
   "execution_count": 6,
   "metadata": {
    "execution": {
     "iopub.execute_input": "2022-01-07T09:58:52.308843Z",
     "iopub.status.busy": "2022-01-07T09:58:52.308116Z",
     "iopub.status.idle": "2022-01-07T09:58:52.312216Z",
     "shell.execute_reply": "2022-01-07T09:58:52.312787Z",
     "shell.execute_reply.started": "2022-01-07T09:52:17.240039Z"
    },
    "papermill": {
     "duration": 0.12276,
     "end_time": "2022-01-07T09:58:52.312947",
     "exception": false,
     "start_time": "2022-01-07T09:58:52.190187",
     "status": "completed"
    },
    "tags": []
   },
   "outputs": [],
   "source": [
    "VERSION    = 16\n",
    "DIR_TRAIN  = '../input/df-train-cars/' # подключил к ноутбуку внешний датасет\n",
    "DIR_TEST   = '../input/sf-dst-car-price-prediction/'\n",
    "VAL_SIZE   = 0.20   # 20%"
   ]
  },
  {
   "cell_type": "markdown",
   "metadata": {
    "papermill": {
     "duration": 0.115145,
     "end_time": "2022-01-07T09:58:52.544077",
     "exception": false,
     "start_time": "2022-01-07T09:58:52.428932",
     "status": "completed"
    },
    "tags": []
   },
   "source": [
    "# Data"
   ]
  },
  {
   "cell_type": "code",
   "execution_count": 7,
   "metadata": {
    "execution": {
     "iopub.execute_input": "2022-01-07T09:58:52.828188Z",
     "iopub.status.busy": "2022-01-07T09:58:52.827530Z",
     "iopub.status.idle": "2022-01-07T09:58:53.590160Z",
     "shell.execute_reply": "2022-01-07T09:58:53.590708Z",
     "shell.execute_reply.started": "2022-01-07T09:52:17.254161Z"
    },
    "papermill": {
     "duration": 0.930647,
     "end_time": "2022-01-07T09:58:53.590874",
     "exception": false,
     "start_time": "2022-01-07T09:58:52.660227",
     "status": "completed"
    },
    "tags": []
   },
   "outputs": [
    {
     "name": "stdout",
     "output_type": "stream",
     "text": [
      "df-train-cars\t\t\t       sf-dst-car-price-prediction\r\n",
      "parsing-all-moscow-auto-ru-09-09-2020\r\n"
     ]
    }
   ],
   "source": [
    "!ls '../input'"
   ]
  },
  {
   "cell_type": "markdown",
   "metadata": {},
   "source": [
    "парсилсь даные по городам, потом объединила, [ссылка на весь датaсет](https://drive.google.com/file/d/1JIgAWuZW9psdFiguebAQQxUI3XVRAX23/view?usp=sharing)"
   ]
  },
  {
   "cell_type": "code",
   "execution_count": 8,
   "metadata": {
    "_cell_guid": "79c7e3d0-c299-4dcb-8224-4455121ee9b0",
    "_uuid": "d629ff2d2480ee46fbb7e2d37f6b5fab8052498a",
    "execution": {
     "iopub.execute_input": "2022-01-07T09:58:53.834360Z",
     "iopub.status.busy": "2022-01-07T09:58:53.833586Z",
     "iopub.status.idle": "2022-01-07T09:58:59.741273Z",
     "shell.execute_reply": "2022-01-07T09:58:59.741785Z",
     "shell.execute_reply.started": "2022-01-07T09:52:18.030657Z"
    },
    "papermill": {
     "duration": 6.028411,
     "end_time": "2022-01-07T09:58:59.741948",
     "exception": false,
     "start_time": "2022-01-07T09:58:53.713537",
     "status": "completed"
    },
    "tags": []
   },
   "outputs": [],
   "source": [
    "train = pd.read_csv(DIR_TRAIN+'df_train_cars.csv') # датасет для обучения модели\n",
    "test = pd.read_csv(DIR_TEST+'test.csv')\n",
    "sample_submission = pd.read_csv(DIR_TEST+'sample_submission.csv')"
   ]
  },
  {
   "cell_type": "code",
   "execution_count": 9,
   "metadata": {
    "execution": {
     "iopub.execute_input": "2022-01-07T09:59:00.012785Z",
     "iopub.status.busy": "2022-01-07T09:59:00.011355Z",
     "iopub.status.idle": "2022-01-07T09:59:00.028910Z",
     "shell.execute_reply": "2022-01-07T09:59:00.029424Z",
     "shell.execute_reply.started": "2022-01-07T09:52:23.515104Z"
    },
    "papermill": {
     "duration": 0.168825,
     "end_time": "2022-01-07T09:59:00.029587",
     "exception": false,
     "start_time": "2022-01-07T09:58:59.860762",
     "status": "completed"
    },
    "tags": []
   },
   "outputs": [
    {
     "data": {
      "text/html": [
       "<div>\n",
       "<style scoped>\n",
       "    .dataframe tbody tr th:only-of-type {\n",
       "        vertical-align: middle;\n",
       "    }\n",
       "\n",
       "    .dataframe tbody tr th {\n",
       "        vertical-align: top;\n",
       "    }\n",
       "\n",
       "    .dataframe thead th {\n",
       "        text-align: right;\n",
       "    }\n",
       "</style>\n",
       "<table border=\"1\" class=\"dataframe\">\n",
       "  <thead>\n",
       "    <tr style=\"text-align: right;\">\n",
       "      <th></th>\n",
       "      <th>car_url</th>\n",
       "      <th>brand</th>\n",
       "      <th>bodyType</th>\n",
       "      <th>color</th>\n",
       "      <th>description</th>\n",
       "      <th>engineDisplacement</th>\n",
       "      <th>enginePower</th>\n",
       "      <th>equipment_dict</th>\n",
       "      <th>fuelType</th>\n",
       "      <th>mileage</th>\n",
       "      <th>...</th>\n",
       "      <th>vehicleTransmission</th>\n",
       "      <th>vendor</th>\n",
       "      <th>Владельцы</th>\n",
       "      <th>ПТС</th>\n",
       "      <th>Привод</th>\n",
       "      <th>Руль</th>\n",
       "      <th>Состояние</th>\n",
       "      <th>Таможня</th>\n",
       "      <th>price</th>\n",
       "      <th>city</th>\n",
       "    </tr>\n",
       "  </thead>\n",
       "  <tbody>\n",
       "    <tr>\n",
       "      <th>0</th>\n",
       "      <td>https://auto.ru/cars/used/sale/skoda/octavia/1...</td>\n",
       "      <td>SKODA</td>\n",
       "      <td>лифтбек</td>\n",
       "      <td>золотистый</td>\n",
       "      <td>Все автомобили, представленные в продаже, прох...</td>\n",
       "      <td>1.8 LTR</td>\n",
       "      <td>152.0</td>\n",
       "      <td>{'cruise-control': True, 'esp': True, 'airbag-...</td>\n",
       "      <td>Бензин</td>\n",
       "      <td>177000.0</td>\n",
       "      <td>...</td>\n",
       "      <td>автоматическая</td>\n",
       "      <td>EUROPEAN</td>\n",
       "      <td>4.0</td>\n",
       "      <td>Оригинал</td>\n",
       "      <td>передний</td>\n",
       "      <td>Левый</td>\n",
       "      <td>Не требует ремонта</td>\n",
       "      <td>Растаможен</td>\n",
       "      <td>540000.0</td>\n",
       "      <td>Москва</td>\n",
       "    </tr>\n",
       "    <tr>\n",
       "      <th>1</th>\n",
       "      <td>https://auto.ru/cars/used/sale/skoda/rapid/110...</td>\n",
       "      <td>SKODA</td>\n",
       "      <td>лифтбек</td>\n",
       "      <td>серый</td>\n",
       "      <td>НЕ ТАКСИ ! НЕ БИТАЯ И НЕ КРАШЕНАЯ ! Хорошая ко...</td>\n",
       "      <td>1.6 LTR</td>\n",
       "      <td>110.0</td>\n",
       "      <td>{'cruise-control': True, 'esp': True, 'usb': T...</td>\n",
       "      <td>Бензин</td>\n",
       "      <td>23000.0</td>\n",
       "      <td>...</td>\n",
       "      <td>автоматическая</td>\n",
       "      <td>EUROPEAN</td>\n",
       "      <td>1.0</td>\n",
       "      <td>Оригинал</td>\n",
       "      <td>передний</td>\n",
       "      <td>Левый</td>\n",
       "      <td>Не требует ремонта</td>\n",
       "      <td>Растаможен</td>\n",
       "      <td>1610000.0</td>\n",
       "      <td>Москва</td>\n",
       "    </tr>\n",
       "    <tr>\n",
       "      <th>2</th>\n",
       "      <td>https://auto.ru/cars/used/sale/skoda/octavia_r...</td>\n",
       "      <td>SKODA</td>\n",
       "      <td>лифтбек</td>\n",
       "      <td>серый</td>\n",
       "      <td>2 Владелец \\nДокументы Оригинал \\nКомплект Клю...</td>\n",
       "      <td>2.0 LTR</td>\n",
       "      <td>200.0</td>\n",
       "      <td>{'cruise-control': True, 'esp': True, 'airbag-...</td>\n",
       "      <td>Бензин</td>\n",
       "      <td>221000.0</td>\n",
       "      <td>...</td>\n",
       "      <td>роботизированная</td>\n",
       "      <td>EUROPEAN</td>\n",
       "      <td>2.0</td>\n",
       "      <td>Оригинал</td>\n",
       "      <td>передний</td>\n",
       "      <td>Левый</td>\n",
       "      <td>Не требует ремонта</td>\n",
       "      <td>Растаможен</td>\n",
       "      <td>960000.0</td>\n",
       "      <td>Москва</td>\n",
       "    </tr>\n",
       "    <tr>\n",
       "      <th>3</th>\n",
       "      <td>https://auto.ru/cars/used/sale/skoda/octavia_r...</td>\n",
       "      <td>SKODA</td>\n",
       "      <td>лифтбек</td>\n",
       "      <td>зелёный</td>\n",
       "      <td>Продам Skoda Octavia RS (200 л.с) 2012 года вы...</td>\n",
       "      <td>2.0 LTR</td>\n",
       "      <td>200.0</td>\n",
       "      <td>{'cruise-control': True, 'asr': True, 'tinted-...</td>\n",
       "      <td>Бензин</td>\n",
       "      <td>240000.0</td>\n",
       "      <td>...</td>\n",
       "      <td>роботизированная</td>\n",
       "      <td>EUROPEAN</td>\n",
       "      <td>4.0</td>\n",
       "      <td>Дубликат</td>\n",
       "      <td>передний</td>\n",
       "      <td>Левый</td>\n",
       "      <td>Не требует ремонта</td>\n",
       "      <td>Растаможен</td>\n",
       "      <td>1190000.0</td>\n",
       "      <td>Москва</td>\n",
       "    </tr>\n",
       "    <tr>\n",
       "      <th>4</th>\n",
       "      <td>https://auto.ru/cars/used/sale/skoda/octavia/1...</td>\n",
       "      <td>SKODA</td>\n",
       "      <td>лифтбек</td>\n",
       "      <td>чёрный</td>\n",
       "      <td>Авто в хорошем состоянии,что было сделано по д...</td>\n",
       "      <td>2.0 LTR</td>\n",
       "      <td>140.0</td>\n",
       "      <td>{'cruise-control': True, 'tinted-glass': True,...</td>\n",
       "      <td>Дизель</td>\n",
       "      <td>275000.0</td>\n",
       "      <td>...</td>\n",
       "      <td>роботизированная</td>\n",
       "      <td>EUROPEAN</td>\n",
       "      <td>3.0</td>\n",
       "      <td>Дубликат</td>\n",
       "      <td>передний</td>\n",
       "      <td>Левый</td>\n",
       "      <td>Не требует ремонта</td>\n",
       "      <td>Растаможен</td>\n",
       "      <td>660000.0</td>\n",
       "      <td>Москва</td>\n",
       "    </tr>\n",
       "  </tbody>\n",
       "</table>\n",
       "<p>5 rows × 27 columns</p>\n",
       "</div>"
      ],
      "text/plain": [
       "                                             car_url  brand bodyType  \\\n",
       "0  https://auto.ru/cars/used/sale/skoda/octavia/1...  SKODA  лифтбек   \n",
       "1  https://auto.ru/cars/used/sale/skoda/rapid/110...  SKODA  лифтбек   \n",
       "2  https://auto.ru/cars/used/sale/skoda/octavia_r...  SKODA  лифтбек   \n",
       "3  https://auto.ru/cars/used/sale/skoda/octavia_r...  SKODA  лифтбек   \n",
       "4  https://auto.ru/cars/used/sale/skoda/octavia/1...  SKODA  лифтбек   \n",
       "\n",
       "        color                                        description  \\\n",
       "0  золотистый  Все автомобили, представленные в продаже, прох...   \n",
       "1       серый  НЕ ТАКСИ ! НЕ БИТАЯ И НЕ КРАШЕНАЯ ! Хорошая ко...   \n",
       "2       серый  2 Владелец \\nДокументы Оригинал \\nКомплект Клю...   \n",
       "3     зелёный  Продам Skoda Octavia RS (200 л.с) 2012 года вы...   \n",
       "4      чёрный  Авто в хорошем состоянии,что было сделано по д...   \n",
       "\n",
       "  engineDisplacement  enginePower  \\\n",
       "0            1.8 LTR        152.0   \n",
       "1            1.6 LTR        110.0   \n",
       "2            2.0 LTR        200.0   \n",
       "3            2.0 LTR        200.0   \n",
       "4            2.0 LTR        140.0   \n",
       "\n",
       "                                      equipment_dict fuelType   mileage  ...  \\\n",
       "0  {'cruise-control': True, 'esp': True, 'airbag-...   Бензин  177000.0  ...   \n",
       "1  {'cruise-control': True, 'esp': True, 'usb': T...   Бензин   23000.0  ...   \n",
       "2  {'cruise-control': True, 'esp': True, 'airbag-...   Бензин  221000.0  ...   \n",
       "3  {'cruise-control': True, 'asr': True, 'tinted-...   Бензин  240000.0  ...   \n",
       "4  {'cruise-control': True, 'tinted-glass': True,...   Дизель  275000.0  ...   \n",
       "\n",
       "   vehicleTransmission    vendor  Владельцы       ПТС    Привод   Руль  \\\n",
       "0       автоматическая  EUROPEAN        4.0  Оригинал  передний  Левый   \n",
       "1       автоматическая  EUROPEAN        1.0  Оригинал  передний  Левый   \n",
       "2     роботизированная  EUROPEAN        2.0  Оригинал  передний  Левый   \n",
       "3     роботизированная  EUROPEAN        4.0  Дубликат  передний  Левый   \n",
       "4     роботизированная  EUROPEAN        3.0  Дубликат  передний  Левый   \n",
       "\n",
       "            Состояние     Таможня      price    city  \n",
       "0  Не требует ремонта  Растаможен   540000.0  Москва  \n",
       "1  Не требует ремонта  Растаможен  1610000.0  Москва  \n",
       "2  Не требует ремонта  Растаможен   960000.0  Москва  \n",
       "3  Не требует ремонта  Растаможен  1190000.0  Москва  \n",
       "4  Не требует ремонта  Растаможен   660000.0  Москва  \n",
       "\n",
       "[5 rows x 27 columns]"
      ]
     },
     "execution_count": 9,
     "metadata": {},
     "output_type": "execute_result"
    }
   ],
   "source": [
    "train.head(5)"
   ]
  },
  {
   "cell_type": "code",
   "execution_count": 10,
   "metadata": {
    "execution": {
     "iopub.execute_input": "2022-01-07T09:59:00.267025Z",
     "iopub.status.busy": "2022-01-07T09:59:00.266027Z",
     "iopub.status.idle": "2022-01-07T09:59:00.386410Z",
     "shell.execute_reply": "2022-01-07T09:59:00.386946Z",
     "shell.execute_reply.started": "2022-01-07T09:52:23.564994Z"
    },
    "papermill": {
     "duration": 0.240732,
     "end_time": "2022-01-07T09:59:00.387107",
     "exception": false,
     "start_time": "2022-01-07T09:59:00.146375",
     "status": "completed"
    },
    "tags": []
   },
   "outputs": [
    {
     "name": "stdout",
     "output_type": "stream",
     "text": [
      "<class 'pandas.core.frame.DataFrame'>\n",
      "RangeIndex: 48383 entries, 0 to 48382\n",
      "Data columns (total 27 columns):\n",
      " #   Column               Non-Null Count  Dtype  \n",
      "---  ------               --------------  -----  \n",
      " 0   car_url              48383 non-null  object \n",
      " 1   brand                48383 non-null  object \n",
      " 2   bodyType             48383 non-null  object \n",
      " 3   color                48383 non-null  object \n",
      " 4   description          48383 non-null  object \n",
      " 5   engineDisplacement   48383 non-null  object \n",
      " 6   enginePower          47799 non-null  float64\n",
      " 7   equipment_dict       48383 non-null  object \n",
      " 8   fuelType             47968 non-null  object \n",
      " 9   mileage              47968 non-null  float64\n",
      " 10  modelDate            48383 non-null  float64\n",
      " 11  model_name           48383 non-null  object \n",
      " 12  numberOfDoors        48383 non-null  float64\n",
      " 13  parsing_unixtime     48383 non-null  float64\n",
      " 14  priceCurrency        48383 non-null  object \n",
      " 15  productionDate       48383 non-null  float64\n",
      " 16  super_gen            48383 non-null  object \n",
      " 17  vehicleTransmission  47968 non-null  object \n",
      " 18  vendor               48383 non-null  object \n",
      " 19  Владельцы            47967 non-null  float64\n",
      " 20  ПТС                  47967 non-null  object \n",
      " 21  Привод               47968 non-null  object \n",
      " 22  Руль                 47968 non-null  object \n",
      " 23  Состояние            47968 non-null  object \n",
      " 24  Таможня              47968 non-null  object \n",
      " 25  price                48383 non-null  float64\n",
      " 26  city                 48383 non-null  object \n",
      "dtypes: float64(8), object(19)\n",
      "memory usage: 10.0+ MB\n"
     ]
    }
   ],
   "source": [
    "train.info()"
   ]
  },
  {
   "cell_type": "code",
   "execution_count": 11,
   "metadata": {
    "execution": {
     "iopub.execute_input": "2022-01-07T09:59:00.626735Z",
     "iopub.status.busy": "2022-01-07T09:59:00.625979Z",
     "iopub.status.idle": "2022-01-07T09:59:00.653246Z",
     "shell.execute_reply": "2022-01-07T09:59:00.652602Z",
     "shell.execute_reply.started": "2022-01-07T09:52:23.697294Z"
    },
    "papermill": {
     "duration": 0.147713,
     "end_time": "2022-01-07T09:59:00.653362",
     "exception": false,
     "start_time": "2022-01-07T09:59:00.505649",
     "status": "completed"
    },
    "tags": []
   },
   "outputs": [
    {
     "data": {
      "text/html": [
       "<div>\n",
       "<style scoped>\n",
       "    .dataframe tbody tr th:only-of-type {\n",
       "        vertical-align: middle;\n",
       "    }\n",
       "\n",
       "    .dataframe tbody tr th {\n",
       "        vertical-align: top;\n",
       "    }\n",
       "\n",
       "    .dataframe thead th {\n",
       "        text-align: right;\n",
       "    }\n",
       "</style>\n",
       "<table border=\"1\" class=\"dataframe\">\n",
       "  <thead>\n",
       "    <tr style=\"text-align: right;\">\n",
       "      <th></th>\n",
       "      <th>bodyType</th>\n",
       "      <th>brand</th>\n",
       "      <th>car_url</th>\n",
       "      <th>color</th>\n",
       "      <th>complectation_dict</th>\n",
       "      <th>description</th>\n",
       "      <th>engineDisplacement</th>\n",
       "      <th>enginePower</th>\n",
       "      <th>equipment_dict</th>\n",
       "      <th>fuelType</th>\n",
       "      <th>...</th>\n",
       "      <th>vehicleConfiguration</th>\n",
       "      <th>vehicleTransmission</th>\n",
       "      <th>vendor</th>\n",
       "      <th>Владельцы</th>\n",
       "      <th>Владение</th>\n",
       "      <th>ПТС</th>\n",
       "      <th>Привод</th>\n",
       "      <th>Руль</th>\n",
       "      <th>Состояние</th>\n",
       "      <th>Таможня</th>\n",
       "    </tr>\n",
       "  </thead>\n",
       "  <tbody>\n",
       "    <tr>\n",
       "      <th>0</th>\n",
       "      <td>лифтбек</td>\n",
       "      <td>SKODA</td>\n",
       "      <td>https://auto.ru/cars/used/sale/skoda/octavia/1...</td>\n",
       "      <td>синий</td>\n",
       "      <td>NaN</td>\n",
       "      <td>Все автомобили, представленные в продаже, прох...</td>\n",
       "      <td>1.2 LTR</td>\n",
       "      <td>105 N12</td>\n",
       "      <td>{\"engine-proof\":true,\"tinted-glass\":true,\"airb...</td>\n",
       "      <td>бензин</td>\n",
       "      <td>...</td>\n",
       "      <td>LIFTBACK ROBOT 1.2</td>\n",
       "      <td>роботизированная</td>\n",
       "      <td>EUROPEAN</td>\n",
       "      <td>3 или более</td>\n",
       "      <td>NaN</td>\n",
       "      <td>Оригинал</td>\n",
       "      <td>передний</td>\n",
       "      <td>Левый</td>\n",
       "      <td>Не требует ремонта</td>\n",
       "      <td>Растаможен</td>\n",
       "    </tr>\n",
       "    <tr>\n",
       "      <th>1</th>\n",
       "      <td>лифтбек</td>\n",
       "      <td>SKODA</td>\n",
       "      <td>https://auto.ru/cars/used/sale/skoda/octavia/1...</td>\n",
       "      <td>чёрный</td>\n",
       "      <td>NaN</td>\n",
       "      <td>ЛОТ: 01217195\\nАвтопрага Север\\nДанный автомоб...</td>\n",
       "      <td>1.6 LTR</td>\n",
       "      <td>110 N12</td>\n",
       "      <td>{\"cruise-control\":true,\"asr\":true,\"esp\":true,\"...</td>\n",
       "      <td>бензин</td>\n",
       "      <td>...</td>\n",
       "      <td>LIFTBACK MECHANICAL 1.6</td>\n",
       "      <td>механическая</td>\n",
       "      <td>EUROPEAN</td>\n",
       "      <td>1 владелец</td>\n",
       "      <td>NaN</td>\n",
       "      <td>Оригинал</td>\n",
       "      <td>передний</td>\n",
       "      <td>Левый</td>\n",
       "      <td>Не требует ремонта</td>\n",
       "      <td>Растаможен</td>\n",
       "    </tr>\n",
       "    <tr>\n",
       "      <th>2</th>\n",
       "      <td>лифтбек</td>\n",
       "      <td>SKODA</td>\n",
       "      <td>https://auto.ru/cars/used/sale/skoda/superb/11...</td>\n",
       "      <td>серый</td>\n",
       "      <td>{\"id\":\"20026336\",\"name\":\"Ambition\",\"available_...</td>\n",
       "      <td>Все автомобили, представленные в продаже, прох...</td>\n",
       "      <td>1.8 LTR</td>\n",
       "      <td>152 N12</td>\n",
       "      <td>{\"cruise-control\":true,\"tinted-glass\":true,\"es...</td>\n",
       "      <td>бензин</td>\n",
       "      <td>...</td>\n",
       "      <td>LIFTBACK ROBOT 1.8</td>\n",
       "      <td>роботизированная</td>\n",
       "      <td>EUROPEAN</td>\n",
       "      <td>1 владелец</td>\n",
       "      <td>NaN</td>\n",
       "      <td>Оригинал</td>\n",
       "      <td>передний</td>\n",
       "      <td>Левый</td>\n",
       "      <td>Не требует ремонта</td>\n",
       "      <td>Растаможен</td>\n",
       "    </tr>\n",
       "    <tr>\n",
       "      <th>3</th>\n",
       "      <td>лифтбек</td>\n",
       "      <td>SKODA</td>\n",
       "      <td>https://auto.ru/cars/used/sale/skoda/octavia/1...</td>\n",
       "      <td>коричневый</td>\n",
       "      <td>{\"id\":\"20803582\",\"name\":\"Ambition\",\"available_...</td>\n",
       "      <td>КОМПЛЕКТ ЗИМНЕЙ (ЛЕТНЕЙ) РЕЗИНЫ ПО СЕЗОНУ В ПО...</td>\n",
       "      <td>1.6 LTR</td>\n",
       "      <td>110 N12</td>\n",
       "      <td>{\"cruise-control\":true,\"roller-blind-for-rear-...</td>\n",
       "      <td>бензин</td>\n",
       "      <td>...</td>\n",
       "      <td>LIFTBACK AUTOMATIC 1.6</td>\n",
       "      <td>автоматическая</td>\n",
       "      <td>EUROPEAN</td>\n",
       "      <td>1 владелец</td>\n",
       "      <td>NaN</td>\n",
       "      <td>Оригинал</td>\n",
       "      <td>передний</td>\n",
       "      <td>Левый</td>\n",
       "      <td>Не требует ремонта</td>\n",
       "      <td>Растаможен</td>\n",
       "    </tr>\n",
       "    <tr>\n",
       "      <th>4</th>\n",
       "      <td>лифтбек</td>\n",
       "      <td>SKODA</td>\n",
       "      <td>https://auto.ru/cars/used/sale/skoda/octavia/1...</td>\n",
       "      <td>белый</td>\n",
       "      <td>NaN</td>\n",
       "      <td>ЛОТ: 01220889\\nАвтопрага Север\\n\\nВы можете по...</td>\n",
       "      <td>1.8 LTR</td>\n",
       "      <td>152 N12</td>\n",
       "      <td>{\"cruise-control\":true,\"asr\":true,\"esp\":true,\"...</td>\n",
       "      <td>бензин</td>\n",
       "      <td>...</td>\n",
       "      <td>LIFTBACK AUTOMATIC 1.8</td>\n",
       "      <td>автоматическая</td>\n",
       "      <td>EUROPEAN</td>\n",
       "      <td>1 владелец</td>\n",
       "      <td>NaN</td>\n",
       "      <td>Оригинал</td>\n",
       "      <td>передний</td>\n",
       "      <td>Левый</td>\n",
       "      <td>Не требует ремонта</td>\n",
       "      <td>Растаможен</td>\n",
       "    </tr>\n",
       "  </tbody>\n",
       "</table>\n",
       "<p>5 rows × 32 columns</p>\n",
       "</div>"
      ],
      "text/plain": [
       "  bodyType  brand                                            car_url  \\\n",
       "0  лифтбек  SKODA  https://auto.ru/cars/used/sale/skoda/octavia/1...   \n",
       "1  лифтбек  SKODA  https://auto.ru/cars/used/sale/skoda/octavia/1...   \n",
       "2  лифтбек  SKODA  https://auto.ru/cars/used/sale/skoda/superb/11...   \n",
       "3  лифтбек  SKODA  https://auto.ru/cars/used/sale/skoda/octavia/1...   \n",
       "4  лифтбек  SKODA  https://auto.ru/cars/used/sale/skoda/octavia/1...   \n",
       "\n",
       "        color                                 complectation_dict  \\\n",
       "0       синий                                                NaN   \n",
       "1      чёрный                                                NaN   \n",
       "2       серый  {\"id\":\"20026336\",\"name\":\"Ambition\",\"available_...   \n",
       "3  коричневый  {\"id\":\"20803582\",\"name\":\"Ambition\",\"available_...   \n",
       "4       белый                                                NaN   \n",
       "\n",
       "                                         description engineDisplacement  \\\n",
       "0  Все автомобили, представленные в продаже, прох...            1.2 LTR   \n",
       "1  ЛОТ: 01217195\\nАвтопрага Север\\nДанный автомоб...            1.6 LTR   \n",
       "2  Все автомобили, представленные в продаже, прох...            1.8 LTR   \n",
       "3  КОМПЛЕКТ ЗИМНЕЙ (ЛЕТНЕЙ) РЕЗИНЫ ПО СЕЗОНУ В ПО...            1.6 LTR   \n",
       "4  ЛОТ: 01220889\\nАвтопрага Север\\n\\nВы можете по...            1.8 LTR   \n",
       "\n",
       "  enginePower                                     equipment_dict fuelType  \\\n",
       "0     105 N12  {\"engine-proof\":true,\"tinted-glass\":true,\"airb...   бензин   \n",
       "1     110 N12  {\"cruise-control\":true,\"asr\":true,\"esp\":true,\"...   бензин   \n",
       "2     152 N12  {\"cruise-control\":true,\"tinted-glass\":true,\"es...   бензин   \n",
       "3     110 N12  {\"cruise-control\":true,\"roller-blind-for-rear-...   бензин   \n",
       "4     152 N12  {\"cruise-control\":true,\"asr\":true,\"esp\":true,\"...   бензин   \n",
       "\n",
       "   ...     vehicleConfiguration  vehicleTransmission    vendor    Владельцы  \\\n",
       "0  ...       LIFTBACK ROBOT 1.2     роботизированная  EUROPEAN  3 или более   \n",
       "1  ...  LIFTBACK MECHANICAL 1.6         механическая  EUROPEAN   1 владелец   \n",
       "2  ...       LIFTBACK ROBOT 1.8     роботизированная  EUROPEAN   1 владелец   \n",
       "3  ...   LIFTBACK AUTOMATIC 1.6       автоматическая  EUROPEAN   1 владелец   \n",
       "4  ...   LIFTBACK AUTOMATIC 1.8       автоматическая  EUROPEAN   1 владелец   \n",
       "\n",
       "  Владение       ПТС    Привод   Руль           Состояние     Таможня  \n",
       "0      NaN  Оригинал  передний  Левый  Не требует ремонта  Растаможен  \n",
       "1      NaN  Оригинал  передний  Левый  Не требует ремонта  Растаможен  \n",
       "2      NaN  Оригинал  передний  Левый  Не требует ремонта  Растаможен  \n",
       "3      NaN  Оригинал  передний  Левый  Не требует ремонта  Растаможен  \n",
       "4      NaN  Оригинал  передний  Левый  Не требует ремонта  Растаможен  \n",
       "\n",
       "[5 rows x 32 columns]"
      ]
     },
     "execution_count": 11,
     "metadata": {},
     "output_type": "execute_result"
    }
   ],
   "source": [
    "test.head(5)"
   ]
  },
  {
   "cell_type": "code",
   "execution_count": 12,
   "metadata": {
    "execution": {
     "iopub.execute_input": "2022-01-07T09:59:00.990079Z",
     "iopub.status.busy": "2022-01-07T09:59:00.989288Z",
     "iopub.status.idle": "2022-01-07T09:59:01.004250Z",
     "shell.execute_reply": "2022-01-07T09:59:01.003553Z",
     "shell.execute_reply.started": "2022-01-07T09:52:23.730444Z"
    },
    "papermill": {
     "duration": 0.23238,
     "end_time": "2022-01-07T09:59:01.004370",
     "exception": false,
     "start_time": "2022-01-07T09:59:00.771990",
     "status": "completed"
    },
    "tags": []
   },
   "outputs": [
    {
     "name": "stdout",
     "output_type": "stream",
     "text": [
      "<class 'pandas.core.frame.DataFrame'>\n",
      "RangeIndex: 34686 entries, 0 to 34685\n",
      "Data columns (total 32 columns):\n",
      " #   Column                Non-Null Count  Dtype \n",
      "---  ------                --------------  ----- \n",
      " 0   bodyType              34686 non-null  object\n",
      " 1   brand                 34686 non-null  object\n",
      " 2   car_url               34686 non-null  object\n",
      " 3   color                 34686 non-null  object\n",
      " 4   complectation_dict    6418 non-null   object\n",
      " 5   description           34686 non-null  object\n",
      " 6   engineDisplacement    34686 non-null  object\n",
      " 7   enginePower           34686 non-null  object\n",
      " 8   equipment_dict        24690 non-null  object\n",
      " 9   fuelType              34686 non-null  object\n",
      " 10  image                 34686 non-null  object\n",
      " 11  mileage               34686 non-null  int64 \n",
      " 12  modelDate             34686 non-null  int64 \n",
      " 13  model_info            34686 non-null  object\n",
      " 14  model_name            34686 non-null  object\n",
      " 15  name                  34686 non-null  object\n",
      " 16  numberOfDoors         34686 non-null  int64 \n",
      " 17  parsing_unixtime      34686 non-null  int64 \n",
      " 18  priceCurrency         34686 non-null  object\n",
      " 19  productionDate        34686 non-null  int64 \n",
      " 20  sell_id               34686 non-null  int64 \n",
      " 21  super_gen             34686 non-null  object\n",
      " 22  vehicleConfiguration  34686 non-null  object\n",
      " 23  vehicleTransmission   34686 non-null  object\n",
      " 24  vendor                34686 non-null  object\n",
      " 25  Владельцы             34686 non-null  object\n",
      " 26  Владение              11995 non-null  object\n",
      " 27  ПТС                   34685 non-null  object\n",
      " 28  Привод                34686 non-null  object\n",
      " 29  Руль                  34686 non-null  object\n",
      " 30  Состояние             34686 non-null  object\n",
      " 31  Таможня               34686 non-null  object\n",
      "dtypes: int64(6), object(26)\n",
      "memory usage: 8.5+ MB\n"
     ]
    }
   ],
   "source": [
    "test.info()"
   ]
  },
  {
   "cell_type": "markdown",
   "metadata": {
    "papermill": {
     "duration": 0.118299,
     "end_time": "2022-01-07T09:59:01.241774",
     "exception": false,
     "start_time": "2022-01-07T09:59:01.123475",
     "status": "completed"
    },
    "tags": []
   },
   "source": []
  },
  {
   "cell_type": "markdown",
   "metadata": {
    "papermill": {
     "duration": 0.117889,
     "end_time": "2022-01-07T09:59:01.477801",
     "exception": false,
     "start_time": "2022-01-07T09:59:01.359912",
     "status": "completed"
    },
    "tags": []
   },
   "source": [
    "отчет из pandas profiling загрузила на гитхаб\n",
    "судя по нему у нас 21 категориальный признак и 6 числовых\n",
    "milege нужно попробовать прологарифмировать\n",
    "priceCurrency не нужный признак, валюта везде одна\n",
    "Состояние и таможня тоже везде одинаковые, пропусков почти нет\n",
    "price нужно попробовать прологарифмировать\n",
    "высокая корреляция у prodactionDate и ModelDate, логично, посмотрим их дальше поближе\n",
    "высокая отрицательная корреляция у modeldate и milage, тоже логично\n",
    "все равно все данные после объединения с тестом посмотрим заново"
   ]
  },
  {
   "cell_type": "markdown",
   "metadata": {
    "papermill": {
     "duration": 0.118024,
     "end_time": "2022-01-07T09:59:01.714281",
     "exception": false,
     "start_time": "2022-01-07T09:59:01.596257",
     "status": "completed"
    },
    "tags": []
   },
   "source": [
    "[Парсинг данных смотреть на GitHub](https://github.com/LaysanMart/Skillfactory/blob/master/module%207/%D0%9F%D0%B0%D1%80%D1%81%D0%B8%D0%BD%D0%B3%20%D1%87%D0%B5%D1%80%D0%BD%D0%BE%D0%B2%D0%B8%D0%BA-%D0%95%D0%BA%D0%B0%D1%82%D0%B5%D1%80%D0%B8%D0%BD%D0%B1%D1%83%D1%80%D0%B3.ipynb)"
   ]
  },
  {
   "cell_type": "markdown",
   "metadata": {
    "papermill": {
     "duration": 0.118087,
     "end_time": "2022-01-07T09:59:01.950008",
     "exception": false,
     "start_time": "2022-01-07T09:59:01.831921",
     "status": "completed"
    },
    "tags": []
   },
   "source": [
    "## EDA"
   ]
  },
  {
   "cell_type": "code",
   "execution_count": 13,
   "metadata": {
    "execution": {
     "iopub.execute_input": "2022-01-07T09:59:02.198599Z",
     "iopub.status.busy": "2022-01-07T09:59:02.196342Z",
     "iopub.status.idle": "2022-01-07T09:59:02.201982Z",
     "shell.execute_reply": "2022-01-07T09:59:02.201329Z",
     "shell.execute_reply.started": "2022-01-07T09:52:23.843671Z"
    },
    "papermill": {
     "duration": 0.131187,
     "end_time": "2022-01-07T09:59:02.202104",
     "exception": false,
     "start_time": "2022-01-07T09:59:02.070917",
     "status": "completed"
    },
    "tags": []
   },
   "outputs": [],
   "source": [
    "train['sample'] = 1 # помечаем где у нас трейн\n",
    "\n",
    "test['sample'] = 0 # помечаем где у нас тест\n",
    "\n",
    "train['sell_id'] = 0 # в трейне нет этого значения, добавин нулевые\n",
    "\n",
    "test['city'] = 'Москва'\n",
    "\n",
    "test['price'] = 0 # эту цену нужно предвидеть"
   ]
  },
  {
   "cell_type": "code",
   "execution_count": 14,
   "metadata": {
    "execution": {
     "iopub.execute_input": "2022-01-07T09:59:02.446658Z",
     "iopub.status.busy": "2022-01-07T09:59:02.445623Z",
     "iopub.status.idle": "2022-01-07T09:59:02.450053Z",
     "shell.execute_reply": "2022-01-07T09:59:02.450704Z",
     "shell.execute_reply.started": "2022-01-07T09:52:23.856380Z"
    },
    "papermill": {
     "duration": 0.127149,
     "end_time": "2022-01-07T09:59:02.450848",
     "exception": false,
     "start_time": "2022-01-07T09:59:02.323699",
     "status": "completed"
    },
    "tags": []
   },
   "outputs": [],
   "source": [
    "columns = train.columns.to_list() # чтобы объединить трейн и тест сделаем чтобы у них были одни и те же колонки"
   ]
  },
  {
   "cell_type": "code",
   "execution_count": 15,
   "metadata": {
    "execution": {
     "iopub.execute_input": "2022-01-07T09:59:02.714176Z",
     "iopub.status.busy": "2022-01-07T09:59:02.713512Z",
     "iopub.status.idle": "2022-01-07T09:59:02.768403Z",
     "shell.execute_reply": "2022-01-07T09:59:02.767700Z",
     "shell.execute_reply.started": "2022-01-07T09:52:23.865145Z"
    },
    "papermill": {
     "duration": 0.199595,
     "end_time": "2022-01-07T09:59:02.768557",
     "exception": false,
     "start_time": "2022-01-07T09:59:02.568962",
     "status": "completed"
    },
    "tags": []
   },
   "outputs": [],
   "source": [
    "test_df = test[columns]"
   ]
  },
  {
   "cell_type": "code",
   "execution_count": 16,
   "metadata": {
    "execution": {
     "iopub.execute_input": "2022-01-07T09:59:03.066365Z",
     "iopub.status.busy": "2022-01-07T09:59:03.065660Z",
     "iopub.status.idle": "2022-01-07T09:59:03.199873Z",
     "shell.execute_reply": "2022-01-07T09:59:03.200733Z",
     "shell.execute_reply.started": "2022-01-07T09:52:23.922392Z"
    },
    "papermill": {
     "duration": 0.28111,
     "end_time": "2022-01-07T09:59:03.200943",
     "exception": false,
     "start_time": "2022-01-07T09:59:02.919833",
     "status": "completed"
    },
    "tags": []
   },
   "outputs": [],
   "source": [
    "data = test_df.append(train, sort=False).reset_index(drop=True) # объединяем"
   ]
  },
  {
   "cell_type": "code",
   "execution_count": 17,
   "metadata": {
    "execution": {
     "iopub.execute_input": "2022-01-07T09:59:03.453294Z",
     "iopub.status.busy": "2022-01-07T09:59:03.452244Z",
     "iopub.status.idle": "2022-01-07T09:59:03.457089Z",
     "shell.execute_reply": "2022-01-07T09:59:03.457692Z",
     "shell.execute_reply.started": "2022-01-07T09:52:24.057078Z"
    },
    "papermill": {
     "duration": 0.129979,
     "end_time": "2022-01-07T09:59:03.457843",
     "exception": false,
     "start_time": "2022-01-07T09:59:03.327864",
     "status": "completed"
    },
    "tags": []
   },
   "outputs": [],
   "source": [
    "cat_cols = []\n",
    "\n",
    "num_cols = []\n",
    "\n",
    "bin_cols = [] # по мере обработки признаков списки будем заполнять\n",
    "\n",
    "unknown_cols = list()\n"
   ]
  },
  {
   "cell_type": "markdown",
   "metadata": {
    "papermill": {
     "duration": 0.119569,
     "end_time": "2022-01-07T09:59:03.696395",
     "exception": false,
     "start_time": "2022-01-07T09:59:03.576826",
     "status": "completed"
    },
    "tags": []
   },
   "source": [
    "## bodyType"
   ]
  },
  {
   "cell_type": "code",
   "execution_count": 18,
   "metadata": {
    "execution": {
     "iopub.execute_input": "2022-01-07T09:59:03.941018Z",
     "iopub.status.busy": "2022-01-07T09:59:03.940354Z",
     "iopub.status.idle": "2022-01-07T09:59:03.991001Z",
     "shell.execute_reply": "2022-01-07T09:59:03.990337Z",
     "shell.execute_reply.started": "2022-01-07T09:52:24.063393Z"
    },
    "papermill": {
     "duration": 0.175596,
     "end_time": "2022-01-07T09:59:03.991120",
     "exception": false,
     "start_time": "2022-01-07T09:59:03.815524",
     "status": "completed"
    },
    "tags": []
   },
   "outputs": [
    {
     "data": {
      "text/plain": [
       "['внедорожник 5 дв.',\n",
       " 'седан',\n",
       " 'лифтбек',\n",
       " 'хэтчбек 5 дв.',\n",
       " 'универсал 5 дв.',\n",
       " 'минивэн',\n",
       " 'купе',\n",
       " 'компактвэн',\n",
       " 'хэтчбек 3 дв.',\n",
       " 'седан long',\n",
       " 'пикап двойная кабина']"
      ]
     },
     "execution_count": 18,
     "metadata": {},
     "output_type": "execute_result"
    }
   ],
   "source": [
    "common_bodyType = (data['bodyType'].value_counts(\n",
    "\n",
    ")[data['bodyType'].value_counts(normalize=True) > 0.005]).to_dict() # словарь с наиболее часто встречающимися типами кузова\n",
    "\n",
    "list_bodyType = list(common_bodyType.keys()) \n",
    "\n",
    "list_bodyType # выделим наиболее распространенные значения типа кузова"
   ]
  },
  {
   "cell_type": "code",
   "execution_count": 19,
   "metadata": {
    "execution": {
     "iopub.execute_input": "2022-01-07T09:59:04.258529Z",
     "iopub.status.busy": "2022-01-07T09:59:04.237825Z",
     "iopub.status.idle": "2022-01-07T09:59:04.622378Z",
     "shell.execute_reply": "2022-01-07T09:59:04.621759Z",
     "shell.execute_reply.started": "2022-01-07T09:52:24.127768Z"
    },
    "papermill": {
     "duration": 0.509943,
     "end_time": "2022-01-07T09:59:04.622509",
     "exception": false,
     "start_time": "2022-01-07T09:59:04.112566",
     "status": "completed"
    },
    "tags": []
   },
   "outputs": [
    {
     "data": {
      "image/png": "[encoded data removed]",
      "text/plain": [
       "<Figure size 576x396 with 1 Axes>"
      ]
     },
     "metadata": {},
     "output_type": "display_data"
    }
   ],
   "source": [
    "# редкие заменим на 'other'\n",
    "\n",
    "data.bodyType = data.bodyType.apply(lambda x: x if x in list_bodyType else 'other') \n",
    "\n",
    "data.bodyType.value_counts().plot.barh()\n",
    "\n",
    "#пропусков нет, добавим признак к категоральным\n",
    "\n",
    "cat_cols.append('bodyType')"
   ]
  },
  {
   "cell_type": "markdown",
   "metadata": {
    "papermill": {
     "duration": 0.122106,
     "end_time": "2022-01-07T09:59:04.863806",
     "exception": false,
     "start_time": "2022-01-07T09:59:04.741700",
     "status": "completed"
    },
    "tags": []
   },
   "source": [
    "## brand"
   ]
  },
  {
   "cell_type": "code",
   "execution_count": 20,
   "metadata": {
    "execution": {
     "iopub.execute_input": "2022-01-07T09:59:05.109274Z",
     "iopub.status.busy": "2022-01-07T09:59:05.108658Z",
     "iopub.status.idle": "2022-01-07T09:59:05.406013Z",
     "shell.execute_reply": "2022-01-07T09:59:05.406629Z",
     "shell.execute_reply.started": "2022-01-07T09:52:24.527513Z"
    },
    "papermill": {
     "duration": 0.421687,
     "end_time": "2022-01-07T09:59:05.406780",
     "exception": false,
     "start_time": "2022-01-07T09:59:04.985093",
     "status": "completed"
    },
    "tags": []
   },
   "outputs": [
    {
     "data": {
      "text/plain": [
       "<matplotlib.axes._subplots.AxesSubplot at 0x7f146afccd50>"
      ]
     },
     "execution_count": 20,
     "metadata": {},
     "output_type": "execute_result"
    },
    {
     "data": {
      "image/png": "[encoded data removed]",
      "text/plain": [
       "<Figure size 576x396 with 1 Axes>"
      ]
     },
     "metadata": {},
     "output_type": "display_data"
    }
   ],
   "source": [
    "\n",
    "data.brand.value_counts().plot.barh()"
   ]
  },
  {
   "cell_type": "code",
   "execution_count": 21,
   "metadata": {
    "execution": {
     "iopub.execute_input": "2022-01-07T09:59:05.652309Z",
     "iopub.status.busy": "2022-01-07T09:59:05.651695Z",
     "iopub.status.idle": "2022-01-07T09:59:05.656884Z",
     "shell.execute_reply": "2022-01-07T09:59:05.656208Z",
     "shell.execute_reply.started": "2022-01-07T09:52:24.957313Z"
    },
    "papermill": {
     "duration": 0.128958,
     "end_time": "2022-01-07T09:59:05.657003",
     "exception": false,
     "start_time": "2022-01-07T09:59:05.528045",
     "status": "completed"
    },
    "tags": []
   },
   "outputs": [],
   "source": [
    "cat_cols.append('brand') # признак не имеет пропусков, добавим в наш список"
   ]
  },
  {
   "cell_type": "code",
   "execution_count": 22,
   "metadata": {
    "execution": {
     "iopub.execute_input": "2022-01-07T09:59:05.906531Z",
     "iopub.status.busy": "2022-01-07T09:59:05.905430Z",
     "iopub.status.idle": "2022-01-07T09:59:05.907847Z",
     "shell.execute_reply": "2022-01-07T09:59:05.908439Z",
     "shell.execute_reply.started": "2022-01-07T09:52:24.964788Z"
    },
    "papermill": {
     "duration": 0.129803,
     "end_time": "2022-01-07T09:59:05.908604",
     "exception": false,
     "start_time": "2022-01-07T09:59:05.778801",
     "status": "completed"
    },
    "tags": []
   },
   "outputs": [],
   "source": [
    "# можно выделитть дорогие бренды автомобилей в бинарный признак\n",
    "exp_brand = ['MERCEDES', 'BMW', 'AUDI', 'LEXUS', \"INFINITI\", 'VOLVO']"
   ]
  },
  {
   "cell_type": "code",
   "execution_count": 23,
   "metadata": {
    "execution": {
     "iopub.execute_input": "2022-01-07T09:59:06.155857Z",
     "iopub.status.busy": "2022-01-07T09:59:06.154843Z",
     "iopub.status.idle": "2022-01-07T09:59:06.217358Z",
     "shell.execute_reply": "2022-01-07T09:59:06.217922Z",
     "shell.execute_reply.started": "2022-01-07T09:52:24.975804Z"
    },
    "papermill": {
     "duration": 0.188764,
     "end_time": "2022-01-07T09:59:06.218078",
     "exception": false,
     "start_time": "2022-01-07T09:59:06.029314",
     "status": "completed"
    },
    "tags": []
   },
   "outputs": [],
   "source": [
    "data['exp_brand'] = data.brand.apply(lambda x: 1 if x in exp_brand else 0)"
   ]
  },
  {
   "cell_type": "code",
   "execution_count": 24,
   "metadata": {
    "execution": {
     "iopub.execute_input": "2022-01-07T09:59:06.463678Z",
     "iopub.status.busy": "2022-01-07T09:59:06.462686Z",
     "iopub.status.idle": "2022-01-07T09:59:06.466803Z",
     "shell.execute_reply": "2022-01-07T09:59:06.467262Z",
     "shell.execute_reply.started": "2022-01-07T09:52:25.044251Z"
    },
    "papermill": {
     "duration": 0.128675,
     "end_time": "2022-01-07T09:59:06.467408",
     "exception": false,
     "start_time": "2022-01-07T09:59:06.338733",
     "status": "completed"
    },
    "tags": []
   },
   "outputs": [],
   "source": [
    "bin_cols.append('exp_brand')"
   ]
  },
  {
   "cell_type": "markdown",
   "metadata": {
    "papermill": {
     "duration": 0.120789,
     "end_time": "2022-01-07T09:59:06.713186",
     "exception": false,
     "start_time": "2022-01-07T09:59:06.592397",
     "status": "completed"
    },
    "tags": []
   },
   "source": [
    "## color"
   ]
  },
  {
   "cell_type": "code",
   "execution_count": 25,
   "metadata": {
    "execution": {
     "iopub.execute_input": "2022-01-07T09:59:06.960524Z",
     "iopub.status.busy": "2022-01-07T09:59:06.959514Z",
     "iopub.status.idle": "2022-01-07T09:59:06.989417Z",
     "shell.execute_reply": "2022-01-07T09:59:06.989989Z",
     "shell.execute_reply.started": "2022-01-07T09:52:25.049317Z"
    },
    "papermill": {
     "duration": 0.155466,
     "end_time": "2022-01-07T09:59:06.990141",
     "exception": false,
     "start_time": "2022-01-07T09:59:06.834675",
     "status": "completed"
    },
    "tags": []
   },
   "outputs": [
    {
     "data": {
      "text/plain": [
       "чёрный         0.307034\n",
       "белый          0.200183\n",
       "серый          0.127099\n",
       "серебристый    0.107056\n",
       "синий          0.093055\n",
       "красный        0.042988\n",
       "коричневый     0.042675\n",
       "зелёный        0.023715\n",
       "бежевый        0.017973\n",
       "голубой        0.010955\n",
       "пурпурный      0.006705\n",
       "золотистый     0.006200\n",
       "фиолетовый     0.005465\n",
       "жёлтый         0.004875\n",
       "оранжевый      0.003744\n",
       "розовый        0.000277\n",
       "Name: color, dtype: float64"
      ]
     },
     "execution_count": 25,
     "metadata": {},
     "output_type": "execute_result"
    }
   ],
   "source": [
    "data.color.value_counts(normalize=True) # по отчету пропусков тоже нет, добавим в список"
   ]
  },
  {
   "cell_type": "code",
   "execution_count": 26,
   "metadata": {
    "execution": {
     "iopub.execute_input": "2022-01-07T09:59:07.238596Z",
     "iopub.status.busy": "2022-01-07T09:59:07.237873Z",
     "iopub.status.idle": "2022-01-07T09:59:07.240689Z",
     "shell.execute_reply": "2022-01-07T09:59:07.241160Z",
     "shell.execute_reply.started": "2022-01-07T09:52:25.088448Z"
    },
    "papermill": {
     "duration": 0.129031,
     "end_time": "2022-01-07T09:59:07.241317",
     "exception": false,
     "start_time": "2022-01-07T09:59:07.112286",
     "status": "completed"
    },
    "tags": []
   },
   "outputs": [],
   "source": [
    "cat_cols.append('color')"
   ]
  },
  {
   "cell_type": "code",
   "execution_count": 27,
   "metadata": {
    "execution": {
     "iopub.execute_input": "2022-01-07T09:59:07.490076Z",
     "iopub.status.busy": "2022-01-07T09:59:07.489348Z",
     "iopub.status.idle": "2022-01-07T09:59:07.492448Z",
     "shell.execute_reply": "2022-01-07T09:59:07.491949Z",
     "shell.execute_reply.started": "2022-01-07T09:52:25.096665Z"
    },
    "papermill": {
     "duration": 0.129554,
     "end_time": "2022-01-07T09:59:07.492581",
     "exception": false,
     "start_time": "2022-01-07T09:59:07.363027",
     "status": "completed"
    },
    "tags": []
   },
   "outputs": [],
   "source": [
    "common_color = ['чёрный', 'белый', 'серый', 'серебристый']"
   ]
  },
  {
   "cell_type": "code",
   "execution_count": 28,
   "metadata": {
    "execution": {
     "iopub.execute_input": "2022-01-07T09:59:07.744890Z",
     "iopub.status.busy": "2022-01-07T09:59:07.739625Z",
     "iopub.status.idle": "2022-01-07T09:59:07.800336Z",
     "shell.execute_reply": "2022-01-07T09:59:07.800871Z",
     "shell.execute_reply.started": "2022-01-07T09:52:25.106699Z"
    },
    "papermill": {
     "duration": 0.187522,
     "end_time": "2022-01-07T09:59:07.801037",
     "exception": false,
     "start_time": "2022-01-07T09:59:07.613515",
     "status": "completed"
    },
    "tags": []
   },
   "outputs": [],
   "source": [
    "data['common_color'] = data.color.apply(lambda x: 1 if x in common_color else 0)"
   ]
  },
  {
   "cell_type": "code",
   "execution_count": 29,
   "metadata": {
    "execution": {
     "iopub.execute_input": "2022-01-07T09:59:08.050047Z",
     "iopub.status.busy": "2022-01-07T09:59:08.049243Z",
     "iopub.status.idle": "2022-01-07T09:59:08.051880Z",
     "shell.execute_reply": "2022-01-07T09:59:08.052334Z",
     "shell.execute_reply.started": "2022-01-07T09:52:25.178624Z"
    },
    "papermill": {
     "duration": 0.130021,
     "end_time": "2022-01-07T09:59:08.052496",
     "exception": false,
     "start_time": "2022-01-07T09:59:07.922475",
     "status": "completed"
    },
    "tags": []
   },
   "outputs": [],
   "source": [
    "bin_cols.append('common_color')"
   ]
  },
  {
   "cell_type": "markdown",
   "metadata": {
    "papermill": {
     "duration": 0.126133,
     "end_time": "2022-01-07T09:59:08.300417",
     "exception": false,
     "start_time": "2022-01-07T09:59:08.174284",
     "status": "completed"
    },
    "tags": []
   },
   "source": [
    "## description"
   ]
  },
  {
   "cell_type": "code",
   "execution_count": 30,
   "metadata": {
    "execution": {
     "iopub.execute_input": "2022-01-07T09:59:08.556872Z",
     "iopub.status.busy": "2022-01-07T09:59:08.555816Z",
     "iopub.status.idle": "2022-01-07T09:59:08.560369Z",
     "shell.execute_reply": "2022-01-07T09:59:08.559738Z",
     "shell.execute_reply.started": "2022-01-07T09:52:25.185349Z"
    },
    "papermill": {
     "duration": 0.135368,
     "end_time": "2022-01-07T09:59:08.560500",
     "exception": false,
     "start_time": "2022-01-07T09:59:08.425132",
     "status": "completed"
    },
    "tags": []
   },
   "outputs": [
    {
     "data": {
      "text/plain": [
       "0        Все автомобили, представленные в продаже, прох...\n",
       "1        ЛОТ: 01217195\\nАвтопрага Север\\nДанный автомоб...\n",
       "2        Все автомобили, представленные в продаже, прох...\n",
       "3        КОМПЛЕКТ ЗИМНЕЙ (ЛЕТНЕЙ) РЕЗИНЫ ПО СЕЗОНУ В ПО...\n",
       "4        ЛОТ: 01220889\\nАвтопрага Север\\n\\nВы можете по...\n",
       "                               ...                        \n",
       "83064    Продам. В отличном состоянии! С машиной отдам ...\n",
       "83065    Пробег 80 500 км. подтвержденный. \\n\\nЭто макс...\n",
       "83066    Автомобиль полностью исправен, в хорошем состо...\n",
       "83067    Автомобиль в отличном состоянии, как по кузову...\n",
       "83068    Автомобиль отс.крашен бампер. Двигатель отс. М...\n",
       "Name: description, Length: 83069, dtype: object"
      ]
     },
     "execution_count": 30,
     "metadata": {},
     "output_type": "execute_result"
    }
   ],
   "source": [
    "data.description # описание машин, пока оставим"
   ]
  },
  {
   "cell_type": "code",
   "execution_count": 31,
   "metadata": {
    "execution": {
     "iopub.execute_input": "2022-01-07T09:59:08.813555Z",
     "iopub.status.busy": "2022-01-07T09:59:08.812472Z",
     "iopub.status.idle": "2022-01-07T09:59:08.815689Z",
     "shell.execute_reply": "2022-01-07T09:59:08.815041Z",
     "shell.execute_reply.started": "2022-01-07T09:52:25.200792Z"
    },
    "papermill": {
     "duration": 0.132207,
     "end_time": "2022-01-07T09:59:08.815807",
     "exception": false,
     "start_time": "2022-01-07T09:59:08.683600",
     "status": "completed"
    },
    "tags": []
   },
   "outputs": [],
   "source": [
    "unknown_cols.append('description')"
   ]
  },
  {
   "cell_type": "markdown",
   "metadata": {
    "papermill": {
     "duration": 0.123931,
     "end_time": "2022-01-07T09:59:09.064744",
     "exception": false,
     "start_time": "2022-01-07T09:59:08.940813",
     "status": "completed"
    },
    "tags": []
   },
   "source": [
    "можно добавить длину описания"
   ]
  },
  {
   "cell_type": "code",
   "execution_count": 32,
   "metadata": {
    "execution": {
     "iopub.execute_input": "2022-01-07T09:59:09.325468Z",
     "iopub.status.busy": "2022-01-07T09:59:09.323876Z",
     "iopub.status.idle": "2022-01-07T09:59:16.476230Z",
     "shell.execute_reply": "2022-01-07T09:59:16.475671Z",
     "shell.execute_reply.started": "2022-01-07T09:52:25.222376Z"
    },
    "papermill": {
     "duration": 7.28266,
     "end_time": "2022-01-07T09:59:16.476354",
     "exception": false,
     "start_time": "2022-01-07T09:59:09.193694",
     "status": "completed"
    },
    "tags": []
   },
   "outputs": [
    {
     "name": "stderr",
     "output_type": "stream",
     "text": [
      "/opt/conda/lib/python3.7/site-packages/ipykernel_launcher.py:3: SettingWithCopyWarning: \n",
      "A value is trying to be set on a copy of a slice from a DataFrame\n",
      "\n",
      "See the caveats in the documentation: https://pandas.pydata.org/pandas-docs/stable/user_guide/indexing.html#returning-a-view-versus-a-copy\n",
      "  This is separate from the ipykernel package so we can avoid doing imports until\n"
     ]
    }
   ],
   "source": [
    "data['len_descr'] = 0\n",
    "for i in range(0, len(data.description)):\n",
    "    data['len_descr'][i] = len(data.description[i])"
   ]
  },
  {
   "cell_type": "code",
   "execution_count": 33,
   "metadata": {
    "execution": {
     "iopub.execute_input": "2022-01-07T09:59:16.728517Z",
     "iopub.status.busy": "2022-01-07T09:59:16.727848Z",
     "iopub.status.idle": "2022-01-07T09:59:17.107780Z",
     "shell.execute_reply": "2022-01-07T09:59:17.107149Z",
     "shell.execute_reply.started": "2022-01-07T09:52:32.480055Z"
    },
    "papermill": {
     "duration": 0.506926,
     "end_time": "2022-01-07T09:59:17.107912",
     "exception": false,
     "start_time": "2022-01-07T09:59:16.600986",
     "status": "completed"
    },
    "tags": []
   },
   "outputs": [
    {
     "data": {
      "image/png": "[encoded data removed]",
      "text/plain": [
       "<Figure size 576x396 with 1 Axes>"
      ]
     },
     "metadata": {},
     "output_type": "display_data"
    }
   ],
   "source": [
    "plt.figure()\n",
    "\n",
    "sns.distplot(data['len_descr'], kde = False, rug=False)\n",
    "\n",
    "plt.title('len_descr')\n",
    "\n",
    "plt.show()"
   ]
  },
  {
   "cell_type": "code",
   "execution_count": 34,
   "metadata": {
    "execution": {
     "iopub.execute_input": "2022-01-07T09:59:17.361183Z",
     "iopub.status.busy": "2022-01-07T09:59:17.360171Z",
     "iopub.status.idle": "2022-01-07T09:59:17.368338Z",
     "shell.execute_reply": "2022-01-07T09:59:17.367658Z",
     "shell.execute_reply.started": "2022-01-07T09:52:32.862327Z"
    },
    "papermill": {
     "duration": 0.136413,
     "end_time": "2022-01-07T09:59:17.368455",
     "exception": false,
     "start_time": "2022-01-07T09:59:17.232042",
     "status": "completed"
    },
    "tags": []
   },
   "outputs": [],
   "source": [
    "data['len_descr'] = np.log(data.len_descr + 1)"
   ]
  },
  {
   "cell_type": "code",
   "execution_count": 35,
   "metadata": {
    "execution": {
     "iopub.execute_input": "2022-01-07T09:59:17.627067Z",
     "iopub.status.busy": "2022-01-07T09:59:17.626003Z",
     "iopub.status.idle": "2022-01-07T09:59:17.985364Z",
     "shell.execute_reply": "2022-01-07T09:59:17.985922Z",
     "shell.execute_reply.started": "2022-01-07T09:52:32.874599Z"
    },
    "papermill": {
     "duration": 0.49451,
     "end_time": "2022-01-07T09:59:17.986080",
     "exception": false,
     "start_time": "2022-01-07T09:59:17.491570",
     "status": "completed"
    },
    "tags": []
   },
   "outputs": [
    {
     "data": {
      "image/png": "[encoded data removed]",
      "text/plain": [
       "<Figure size 576x396 with 1 Axes>"
      ]
     },
     "metadata": {},
     "output_type": "display_data"
    }
   ],
   "source": [
    "plt.figure()\n",
    "\n",
    "sns.distplot(data['len_descr'], kde = False, rug=False)\n",
    "\n",
    "plt.title('len_descr')\n",
    "\n",
    "plt.show()"
   ]
  },
  {
   "cell_type": "code",
   "execution_count": 36,
   "metadata": {
    "execution": {
     "iopub.execute_input": "2022-01-07T09:59:18.243687Z",
     "iopub.status.busy": "2022-01-07T09:59:18.242650Z",
     "iopub.status.idle": "2022-01-07T09:59:18.246145Z",
     "shell.execute_reply": "2022-01-07T09:59:18.245469Z",
     "shell.execute_reply.started": "2022-01-07T09:52:33.243144Z"
    },
    "papermill": {
     "duration": 0.132473,
     "end_time": "2022-01-07T09:59:18.246265",
     "exception": false,
     "start_time": "2022-01-07T09:59:18.113792",
     "status": "completed"
    },
    "tags": []
   },
   "outputs": [],
   "source": [
    "num_cols.append('len_descr')"
   ]
  },
  {
   "cell_type": "markdown",
   "metadata": {
    "papermill": {
     "duration": 0.1298,
     "end_time": "2022-01-07T09:59:18.507420",
     "exception": false,
     "start_time": "2022-01-07T09:59:18.377620",
     "status": "completed"
    },
    "tags": []
   },
   "source": [
    "## engineDisplacement"
   ]
  },
  {
   "cell_type": "code",
   "execution_count": 37,
   "metadata": {
    "execution": {
     "iopub.execute_input": "2022-01-07T09:59:18.784064Z",
     "iopub.status.busy": "2022-01-07T09:59:18.782906Z",
     "iopub.status.idle": "2022-01-07T09:59:18.801077Z",
     "shell.execute_reply": "2022-01-07T09:59:18.800435Z",
     "shell.execute_reply.started": "2022-01-07T09:52:33.248123Z"
    },
    "papermill": {
     "duration": 0.163932,
     "end_time": "2022-01-07T09:59:18.801212",
     "exception": false,
     "start_time": "2022-01-07T09:59:18.637280",
     "status": "completed"
    },
    "tags": []
   },
   "outputs": [
    {
     "data": {
      "text/plain": [
       "2.0 LTR    19966\n",
       "1.6 LTR    10796\n",
       "3.0 LTR    10023\n",
       "1.8 LTR     6073\n",
       "2.5 LTR     5511\n",
       "1.4 LTR     4082\n",
       "3.5 LTR     3706\n",
       "2.4 LTR     3348\n",
       "1.5 LTR     2117\n",
       "4.0 LTR     1246\n",
       "1.2 LTR     1220\n",
       "4.4 LTR     1044\n",
       "2.1 LTR     1035\n",
       "2.2 LTR      949\n",
       "1.3 LTR      909\n",
       "2.8 LTR      873\n",
       "5.5 LTR      860\n",
       "4.7 LTR      800\n",
       "4.5 LTR      795\n",
       "1.9 LTR      704\n",
       "3.2 LTR      683\n",
       "2.7 LTR      656\n",
       "4.2 LTR      531\n",
       "2.3 LTR      454\n",
       "2.9 LTR      449\n",
       "3.6 LTR      399\n",
       "3.7 LTR      379\n",
       "5.6 LTR      346\n",
       "5.7 LTR      336\n",
       "5.0 LTR      333\n",
       "4.6 LTR      317\n",
       "1.0 LTR      277\n",
       "6.0 LTR      174\n",
       "4.8 LTR      161\n",
       "4.1 LTR      152\n",
       "0.7 LTR      140\n",
       "3.3 LTR      137\n",
       "3.4 LTR      133\n",
       "2.6 LTR      120\n",
       "3.8 LTR      119\n",
       "3.1 LTR      116\n",
       "1.7 LTR      114\n",
       "0.0 LTR       92\n",
       "4.3 LTR       72\n",
       "6.2 LTR       56\n",
       "5.4 LTR       55\n",
       " LTR          55\n",
       "5.9 LTR       28\n",
       "4.9 LTR       26\n",
       "6.3 LTR       25\n",
       "5.2 LTR       19\n",
       "1.1 LTR       15\n",
       "6.6 LTR       15\n",
       "5.8 LTR       14\n",
       "3.9 LTR        9\n",
       "9.0 LTR        2\n",
       "0.5 LTR        1\n",
       "7.0 LTR        1\n",
       "5.3 LTR        1\n",
       "Name: engineDisplacement, dtype: int64"
      ]
     },
     "execution_count": 37,
     "metadata": {},
     "output_type": "execute_result"
    }
   ],
   "source": [
    "data.engineDisplacement.value_counts() "
   ]
  },
  {
   "cell_type": "markdown",
   "metadata": {
    "papermill": {
     "duration": 0.124387,
     "end_time": "2022-01-07T09:59:19.052336",
     "exception": false,
     "start_time": "2022-01-07T09:59:18.927949",
     "status": "completed"
    },
    "tags": []
   },
   "source": [
    "Есть пустое значение, заменим его на самое частое"
   ]
  },
  {
   "cell_type": "code",
   "execution_count": 38,
   "metadata": {
    "execution": {
     "iopub.execute_input": "2022-01-07T09:59:19.311204Z",
     "iopub.status.busy": "2022-01-07T09:59:19.310513Z",
     "iopub.status.idle": "2022-01-07T09:59:21.707960Z",
     "shell.execute_reply": "2022-01-07T09:59:21.707386Z",
     "shell.execute_reply.started": "2022-01-07T09:52:33.289193Z"
    },
    "papermill": {
     "duration": 2.530467,
     "end_time": "2022-01-07T09:59:21.708093",
     "exception": false,
     "start_time": "2022-01-07T09:59:19.177626",
     "status": "completed"
    },
    "tags": []
   },
   "outputs": [
    {
     "name": "stderr",
     "output_type": "stream",
     "text": [
      "/opt/conda/lib/python3.7/site-packages/ipykernel_launcher.py:5: SettingWithCopyWarning: \n",
      "A value is trying to be set on a copy of a slice from a DataFrame\n",
      "\n",
      "See the caveats in the documentation: https://pandas.pydata.org/pandas-docs/stable/user_guide/indexing.html#returning-a-view-versus-a-copy\n",
      "  \"\"\"\n"
     ]
    }
   ],
   "source": [
    "for i in range(0, len(data.engineDisplacement)):\n",
    "\n",
    "    if len(data.engineDisplacement[i]) < 7:\n",
    "\n",
    "        data.engineDisplacement[i] = data.engineDisplacement.value_counts().keys()[0]"
   ]
  },
  {
   "cell_type": "code",
   "execution_count": 39,
   "metadata": {
    "execution": {
     "iopub.execute_input": "2022-01-07T09:59:21.961111Z",
     "iopub.status.busy": "2022-01-07T09:59:21.960399Z",
     "iopub.status.idle": "2022-01-07T09:59:21.964272Z",
     "shell.execute_reply": "2022-01-07T09:59:21.964825Z",
     "shell.execute_reply.started": "2022-01-07T09:52:35.695495Z"
    },
    "papermill": {
     "duration": 0.132197,
     "end_time": "2022-01-07T09:59:21.964975",
     "exception": false,
     "start_time": "2022-01-07T09:59:21.832778",
     "status": "completed"
    },
    "tags": []
   },
   "outputs": [],
   "source": [
    "cat_cols.append('engineDisplacement')"
   ]
  },
  {
   "cell_type": "markdown",
   "metadata": {
    "papermill": {
     "duration": 0.125499,
     "end_time": "2022-01-07T09:59:22.217732",
     "exception": false,
     "start_time": "2022-01-07T09:59:22.092233",
     "status": "completed"
    },
    "tags": []
   },
   "source": [
    "## enginePower"
   ]
  },
  {
   "cell_type": "code",
   "execution_count": 40,
   "metadata": {
    "execution": {
     "iopub.execute_input": "2022-01-07T09:59:22.472642Z",
     "iopub.status.busy": "2022-01-07T09:59:22.471927Z",
     "iopub.status.idle": "2022-01-07T09:59:22.497288Z",
     "shell.execute_reply": "2022-01-07T09:59:22.497821Z",
     "shell.execute_reply.started": "2022-01-07T09:52:35.701280Z"
    },
    "papermill": {
     "duration": 0.153613,
     "end_time": "2022-01-07T09:59:22.497969",
     "exception": false,
     "start_time": "2022-01-07T09:59:22.344356",
     "status": "completed"
    },
    "tags": []
   },
   "outputs": [
    {
     "data": {
      "text/plain": [
       "150.0      3405\n",
       "249.0      2327\n",
       "110.0      1882\n",
       "249 N12    1708\n",
       "150 N12    1699\n",
       "           ... \n",
       "301 N12       1\n",
       "303 N12       1\n",
       "349.0         1\n",
       "338 N12       1\n",
       "34.0          1\n",
       "Name: enginePower, Length: 653, dtype: int64"
      ]
     },
     "execution_count": 40,
     "metadata": {},
     "output_type": "execute_result"
    }
   ],
   "source": [
    "data.enginePower.value_counts()\n",
    "\n",
    "# сделаем из мощности двигателя номинальный признак"
   ]
  },
  {
   "cell_type": "code",
   "execution_count": 41,
   "metadata": {
    "execution": {
     "iopub.execute_input": "2022-01-07T09:59:22.757470Z",
     "iopub.status.busy": "2022-01-07T09:59:22.756833Z",
     "iopub.status.idle": "2022-01-07T09:59:34.320030Z",
     "shell.execute_reply": "2022-01-07T09:59:34.320624Z",
     "shell.execute_reply.started": "2022-01-07T09:52:35.738325Z"
    },
    "papermill": {
     "duration": 11.695848,
     "end_time": "2022-01-07T09:59:34.320778",
     "exception": false,
     "start_time": "2022-01-07T09:59:22.624930",
     "status": "completed"
    },
    "tags": []
   },
   "outputs": [
    {
     "name": "stderr",
     "output_type": "stream",
     "text": [
      "/opt/conda/lib/python3.7/site-packages/ipykernel_launcher.py:5: SettingWithCopyWarning: \n",
      "A value is trying to be set on a copy of a slice from a DataFrame\n",
      "\n",
      "See the caveats in the documentation: https://pandas.pydata.org/pandas-docs/stable/user_guide/indexing.html#returning-a-view-versus-a-copy\n",
      "  \"\"\"\n"
     ]
    }
   ],
   "source": [
    "for i in range(0, len(data.enginePower)):\n",
    "\n",
    "    if type(data.enginePower[i]) is not float:\n",
    "\n",
    "        data.enginePower[i] = float(data.enginePower[i][:3])"
   ]
  },
  {
   "cell_type": "code",
   "execution_count": 42,
   "metadata": {
    "execution": {
     "iopub.execute_input": "2022-01-07T09:59:34.579819Z",
     "iopub.status.busy": "2022-01-07T09:59:34.579113Z",
     "iopub.status.idle": "2022-01-07T09:59:34.918619Z",
     "shell.execute_reply": "2022-01-07T09:59:34.917762Z",
     "shell.execute_reply.started": "2022-01-07T09:52:47.483311Z"
    },
    "papermill": {
     "duration": 0.471428,
     "end_time": "2022-01-07T09:59:34.918867",
     "exception": false,
     "start_time": "2022-01-07T09:59:34.447439",
     "status": "completed"
    },
    "tags": []
   },
   "outputs": [],
   "source": [
    "data['enginePower'] = data['enginePower'].apply(pd.to_numeric, errors='coerce')"
   ]
  },
  {
   "cell_type": "code",
   "execution_count": 43,
   "metadata": {
    "execution": {
     "iopub.execute_input": "2022-01-07T09:59:35.200771Z",
     "iopub.status.busy": "2022-01-07T09:59:35.199994Z",
     "iopub.status.idle": "2022-01-07T09:59:35.210918Z",
     "shell.execute_reply": "2022-01-07T09:59:35.211548Z",
     "shell.execute_reply.started": "2022-01-07T09:52:47.807612Z"
    },
    "papermill": {
     "duration": 0.149916,
     "end_time": "2022-01-07T09:59:35.211694",
     "exception": false,
     "start_time": "2022-01-07T09:59:35.061778",
     "status": "completed"
    },
    "tags": []
   },
   "outputs": [],
   "source": [
    "data.loc[data['enginePower'].isna(), 'enginePower'] = data.enginePower.median() #заменим пропущенные значения медианой"
   ]
  },
  {
   "cell_type": "code",
   "execution_count": 44,
   "metadata": {
    "execution": {
     "iopub.execute_input": "2022-01-07T09:59:35.468896Z",
     "iopub.status.busy": "2022-01-07T09:59:35.468234Z",
     "iopub.status.idle": "2022-01-07T09:59:35.473024Z",
     "shell.execute_reply": "2022-01-07T09:59:35.473694Z",
     "shell.execute_reply.started": "2022-01-07T09:52:47.819293Z"
    },
    "papermill": {
     "duration": 0.134428,
     "end_time": "2022-01-07T09:59:35.473842",
     "exception": false,
     "start_time": "2022-01-07T09:59:35.339414",
     "status": "completed"
    },
    "tags": []
   },
   "outputs": [],
   "source": [
    "num_cols.append('enginePower')"
   ]
  },
  {
   "cell_type": "markdown",
   "metadata": {
    "papermill": {
     "duration": 0.125837,
     "end_time": "2022-01-07T09:59:35.727665",
     "exception": false,
     "start_time": "2022-01-07T09:59:35.601828",
     "status": "completed"
    },
    "tags": []
   },
   "source": [
    "## equipment_dict"
   ]
  },
  {
   "cell_type": "code",
   "execution_count": 45,
   "metadata": {
    "execution": {
     "iopub.execute_input": "2022-01-07T09:59:35.983377Z",
     "iopub.status.busy": "2022-01-07T09:59:35.982764Z",
     "iopub.status.idle": "2022-01-07T09:59:35.989556Z",
     "shell.execute_reply": "2022-01-07T09:59:35.990190Z",
     "shell.execute_reply.started": "2022-01-07T09:52:47.827463Z"
    },
    "papermill": {
     "duration": 0.136807,
     "end_time": "2022-01-07T09:59:35.990391",
     "exception": false,
     "start_time": "2022-01-07T09:59:35.853584",
     "status": "completed"
    },
    "tags": []
   },
   "outputs": [
    {
     "data": {
      "text/plain": [
       "0        {\"engine-proof\":true,\"tinted-glass\":true,\"airb...\n",
       "1        {\"cruise-control\":true,\"asr\":true,\"esp\":true,\"...\n",
       "2        {\"cruise-control\":true,\"tinted-glass\":true,\"es...\n",
       "3        {\"cruise-control\":true,\"roller-blind-for-rear-...\n",
       "4        {\"cruise-control\":true,\"asr\":true,\"esp\":true,\"...\n",
       "                               ...                        \n",
       "83064    {'cruise-control': True, 'engine-proof': True,...\n",
       "83065    {'cruise-control': True, 'tinted-glass': True,...\n",
       "83066    {'cruise-control': True, 'engine-proof': True,...\n",
       "83067    {'engine-proof': True, 'roller-blind-for-rear-...\n",
       "83068                                                   {}\n",
       "Name: equipment_dict, Length: 83069, dtype: object"
      ]
     },
     "execution_count": 45,
     "metadata": {},
     "output_type": "execute_result"
    }
   ],
   "source": [
    "data.equipment_dict\n",
    "\n",
    "# тоже признак с доп. опциями, пока оставим"
   ]
  },
  {
   "cell_type": "code",
   "execution_count": 46,
   "metadata": {
    "execution": {
     "iopub.execute_input": "2022-01-07T09:59:36.250011Z",
     "iopub.status.busy": "2022-01-07T09:59:36.249191Z",
     "iopub.status.idle": "2022-01-07T09:59:36.253079Z",
     "shell.execute_reply": "2022-01-07T09:59:36.253767Z",
     "shell.execute_reply.started": "2022-01-07T09:52:47.845566Z"
    },
    "papermill": {
     "duration": 0.133726,
     "end_time": "2022-01-07T09:59:36.253920",
     "exception": false,
     "start_time": "2022-01-07T09:59:36.120194",
     "status": "completed"
    },
    "tags": []
   },
   "outputs": [],
   "source": [
    "unknown_cols.append('equipment_dict')"
   ]
  },
  {
   "cell_type": "markdown",
   "metadata": {
    "papermill": {
     "duration": 0.124494,
     "end_time": "2022-01-07T09:59:36.503923",
     "exception": false,
     "start_time": "2022-01-07T09:59:36.379429",
     "status": "completed"
    },
    "tags": []
   },
   "source": [
    "## fuelType"
   ]
  },
  {
   "cell_type": "code",
   "execution_count": 47,
   "metadata": {
    "execution": {
     "iopub.execute_input": "2022-01-07T09:59:36.762506Z",
     "iopub.status.busy": "2022-01-07T09:59:36.761861Z",
     "iopub.status.idle": "2022-01-07T09:59:36.790575Z",
     "shell.execute_reply": "2022-01-07T09:59:36.789920Z",
     "shell.execute_reply.started": "2022-01-07T09:52:47.855824Z"
    },
    "papermill": {
     "duration": 0.156383,
     "end_time": "2022-01-07T09:59:36.790691",
     "exception": false,
     "start_time": "2022-01-07T09:59:36.634308",
     "status": "completed"
    },
    "tags": []
   },
   "outputs": [
    {
     "data": {
      "text/plain": [
       "Бензин          32272\n",
       "бензин          28601\n",
       "Дизель          13691\n",
       "дизель           5800\n",
       "Гибрид           1209\n",
       "оборудование      557\n",
       "гибрид            223\n",
       "Электро           129\n",
       "Газ               110\n",
       "электро            55\n",
       "газ                 7\n",
       "Name: fuelType, dtype: int64"
      ]
     },
     "execution_count": 47,
     "metadata": {},
     "output_type": "execute_result"
    }
   ],
   "source": [
    "data.fuelType.value_counts()"
   ]
  },
  {
   "cell_type": "code",
   "execution_count": 48,
   "metadata": {
    "execution": {
     "iopub.execute_input": "2022-01-07T09:59:37.044014Z",
     "iopub.status.busy": "2022-01-07T09:59:37.043227Z",
     "iopub.status.idle": "2022-01-07T09:59:37.104621Z",
     "shell.execute_reply": "2022-01-07T09:59:37.105189Z",
     "shell.execute_reply.started": "2022-01-07T09:52:47.892336Z"
    },
    "papermill": {
     "duration": 0.189891,
     "end_time": "2022-01-07T09:59:37.105350",
     "exception": false,
     "start_time": "2022-01-07T09:59:36.915459",
     "status": "completed"
    },
    "tags": []
   },
   "outputs": [],
   "source": [
    "data.fuelType = data.fuelType.str.lower()"
   ]
  },
  {
   "cell_type": "code",
   "execution_count": 49,
   "metadata": {
    "execution": {
     "iopub.execute_input": "2022-01-07T09:59:37.363180Z",
     "iopub.status.busy": "2022-01-07T09:59:37.362334Z",
     "iopub.status.idle": "2022-01-07T09:59:37.379400Z",
     "shell.execute_reply": "2022-01-07T09:59:37.379979Z",
     "shell.execute_reply.started": "2022-01-07T09:52:47.957808Z"
    },
    "papermill": {
     "duration": 0.147712,
     "end_time": "2022-01-07T09:59:37.380138",
     "exception": false,
     "start_time": "2022-01-07T09:59:37.232426",
     "status": "completed"
    },
    "tags": []
   },
   "outputs": [],
   "source": [
    "data.fuelType = data.fuelType.fillna('бензин') # как самый распространенный тип топлива"
   ]
  },
  {
   "cell_type": "code",
   "execution_count": 50,
   "metadata": {
    "execution": {
     "iopub.execute_input": "2022-01-07T09:59:37.636237Z",
     "iopub.status.busy": "2022-01-07T09:59:37.635596Z",
     "iopub.status.idle": "2022-01-07T09:59:37.639120Z",
     "shell.execute_reply": "2022-01-07T09:59:37.639716Z",
     "shell.execute_reply.started": "2022-01-07T09:52:47.978251Z"
    },
    "papermill": {
     "duration": 0.132961,
     "end_time": "2022-01-07T09:59:37.639851",
     "exception": false,
     "start_time": "2022-01-07T09:59:37.506890",
     "status": "completed"
    },
    "tags": []
   },
   "outputs": [],
   "source": [
    "\n",
    "cat_cols.append('fuelType')"
   ]
  },
  {
   "cell_type": "markdown",
   "metadata": {
    "papermill": {
     "duration": 0.12677,
     "end_time": "2022-01-07T09:59:37.892589",
     "exception": false,
     "start_time": "2022-01-07T09:59:37.765819",
     "status": "completed"
    },
    "tags": []
   },
   "source": [
    "## mileage\n",
    "\n",
    "Распределение близко к нормальному, с правым хвостом, возможно, логарифмирование поможет приблизиться к нормальному распределению"
   ]
  },
  {
   "cell_type": "code",
   "execution_count": 51,
   "metadata": {
    "execution": {
     "iopub.execute_input": "2022-01-07T09:59:38.149160Z",
     "iopub.status.busy": "2022-01-07T09:59:38.148528Z",
     "iopub.status.idle": "2022-01-07T09:59:38.156261Z",
     "shell.execute_reply": "2022-01-07T09:59:38.156794Z",
     "shell.execute_reply.started": "2022-01-07T09:52:47.989333Z"
    },
    "papermill": {
     "duration": 0.137971,
     "end_time": "2022-01-07T09:59:38.156939",
     "exception": false,
     "start_time": "2022-01-07T09:59:38.018968",
     "status": "completed"
    },
    "tags": []
   },
   "outputs": [],
   "source": [
    "data.loc[data['mileage'].isna(), 'mileage'] = data.mileage.median()\n",
    "\n",
    "num_cols.append('mileage')"
   ]
  },
  {
   "cell_type": "code",
   "execution_count": 52,
   "metadata": {
    "execution": {
     "iopub.execute_input": "2022-01-07T09:59:38.413916Z",
     "iopub.status.busy": "2022-01-07T09:59:38.412964Z",
     "iopub.status.idle": "2022-01-07T09:59:38.418997Z",
     "shell.execute_reply": "2022-01-07T09:59:38.419627Z",
     "shell.execute_reply.started": "2022-01-07T09:52:48.004593Z"
    },
    "papermill": {
     "duration": 0.137262,
     "end_time": "2022-01-07T09:59:38.419776",
     "exception": false,
     "start_time": "2022-01-07T09:59:38.282514",
     "status": "completed"
    },
    "tags": []
   },
   "outputs": [],
   "source": [
    "data['mileage_log'] = np.log(data.mileage + 1)"
   ]
  },
  {
   "cell_type": "code",
   "execution_count": 53,
   "metadata": {
    "execution": {
     "iopub.execute_input": "2022-01-07T09:59:38.675097Z",
     "iopub.status.busy": "2022-01-07T09:59:38.674069Z",
     "iopub.status.idle": "2022-01-07T09:59:39.062494Z",
     "shell.execute_reply": "2022-01-07T09:59:39.063061Z",
     "shell.execute_reply.started": "2022-01-07T09:52:48.016329Z"
    },
    "papermill": {
     "duration": 0.51849,
     "end_time": "2022-01-07T09:59:39.063203",
     "exception": false,
     "start_time": "2022-01-07T09:59:38.544713",
     "status": "completed"
    },
    "tags": []
   },
   "outputs": [
    {
     "data": {
      "image/png": "[encoded data removed]",
      "text/plain": [
       "<Figure size 576x396 with 1 Axes>"
      ]
     },
     "metadata": {},
     "output_type": "display_data"
    }
   ],
   "source": [
    "plt.figure()\n",
    "\n",
    "sns.distplot(data['mileage'], kde = False, rug=False)\n",
    "\n",
    "plt.title('mileage')\n",
    "\n",
    "plt.show()\n"
   ]
  },
  {
   "cell_type": "code",
   "execution_count": 54,
   "metadata": {
    "execution": {
     "iopub.execute_input": "2022-01-07T09:59:39.321623Z",
     "iopub.status.busy": "2022-01-07T09:59:39.320582Z",
     "iopub.status.idle": "2022-01-07T09:59:39.699794Z",
     "shell.execute_reply": "2022-01-07T09:59:39.700423Z",
     "shell.execute_reply.started": "2022-01-07T09:52:48.404281Z"
    },
    "papermill": {
     "duration": 0.509218,
     "end_time": "2022-01-07T09:59:39.700585",
     "exception": false,
     "start_time": "2022-01-07T09:59:39.191367",
     "status": "completed"
    },
    "tags": []
   },
   "outputs": [
    {
     "data": {
      "image/png": "[encoded data removed]",
      "text/plain": [
       "<Figure size 576x396 with 1 Axes>"
      ]
     },
     "metadata": {},
     "output_type": "display_data"
    }
   ],
   "source": [
    "plt.figure()\n",
    "\n",
    "sns.distplot(data['mileage_log'], kde = False, rug=False)\n",
    "\n",
    "plt.title('mileage_log')\n",
    "\n",
    "plt.show()"
   ]
  },
  {
   "cell_type": "code",
   "execution_count": 55,
   "metadata": {
    "execution": {
     "iopub.execute_input": "2022-01-07T09:59:39.961880Z",
     "iopub.status.busy": "2022-01-07T09:59:39.960905Z",
     "iopub.status.idle": "2022-01-07T09:59:39.963659Z",
     "shell.execute_reply": "2022-01-07T09:59:39.963146Z",
     "shell.execute_reply.started": "2022-01-07T09:52:48.785061Z"
    },
    "papermill": {
     "duration": 0.136012,
     "end_time": "2022-01-07T09:59:39.963776",
     "exception": false,
     "start_time": "2022-01-07T09:59:39.827764",
     "status": "completed"
    },
    "tags": []
   },
   "outputs": [],
   "source": [
    "num_cols.append('mileage_log')"
   ]
  },
  {
   "cell_type": "markdown",
   "metadata": {
    "papermill": {
     "duration": 0.128071,
     "end_time": "2022-01-07T09:59:40.221720",
     "exception": false,
     "start_time": "2022-01-07T09:59:40.093649",
     "status": "completed"
    },
    "tags": []
   },
   "source": [
    "## modelDate"
   ]
  },
  {
   "cell_type": "code",
   "execution_count": 56,
   "metadata": {
    "execution": {
     "iopub.execute_input": "2022-01-07T09:59:40.482917Z",
     "iopub.status.busy": "2022-01-07T09:59:40.482196Z",
     "iopub.status.idle": "2022-01-07T09:59:40.485799Z",
     "shell.execute_reply": "2022-01-07T09:59:40.486347Z",
     "shell.execute_reply.started": "2022-01-07T09:52:48.791026Z"
    },
    "papermill": {
     "duration": 0.136339,
     "end_time": "2022-01-07T09:59:40.486509",
     "exception": false,
     "start_time": "2022-01-07T09:59:40.350170",
     "status": "completed"
    },
    "tags": []
   },
   "outputs": [],
   "source": [
    "#пропусков нет, добавим в список\n",
    "\n",
    "num_cols.append('modelDate')"
   ]
  },
  {
   "cell_type": "markdown",
   "metadata": {
    "papermill": {
     "duration": 0.130254,
     "end_time": "2022-01-07T09:59:40.748042",
     "exception": false,
     "start_time": "2022-01-07T09:59:40.617788",
     "status": "completed"
    },
    "tags": []
   },
   "source": [
    "## productionDate"
   ]
  },
  {
   "cell_type": "code",
   "execution_count": 57,
   "metadata": {
    "execution": {
     "iopub.execute_input": "2022-01-07T09:59:41.015366Z",
     "iopub.status.busy": "2022-01-07T09:59:41.014672Z",
     "iopub.status.idle": "2022-01-07T09:59:41.030639Z",
     "shell.execute_reply": "2022-01-07T09:59:41.029942Z",
     "shell.execute_reply.started": "2022-01-07T09:52:48.804719Z"
    },
    "papermill": {
     "duration": 0.15112,
     "end_time": "2022-01-07T09:59:41.030761",
     "exception": false,
     "start_time": "2022-01-07T09:59:40.879641",
     "status": "completed"
    },
    "tags": []
   },
   "outputs": [
    {
     "data": {
      "text/plain": [
       "25"
      ]
     },
     "execution_count": 57,
     "metadata": {},
     "output_type": "execute_result"
    }
   ],
   "source": [
    "# заменим слишком старые машины на год посвежее\n",
    "\n",
    "len(data[data['productionDate'] < 1960])\n",
    "#Всего 25 машин старше 1960 года"
   ]
  },
  {
   "cell_type": "code",
   "execution_count": 58,
   "metadata": {
    "execution": {
     "iopub.execute_input": "2022-01-07T09:59:41.307325Z",
     "iopub.status.busy": "2022-01-07T09:59:41.306547Z",
     "iopub.status.idle": "2022-01-07T09:59:41.310311Z",
     "shell.execute_reply": "2022-01-07T09:59:41.309735Z",
     "shell.execute_reply.started": "2022-01-07T09:52:48.826870Z"
    },
    "papermill": {
     "duration": 0.142495,
     "end_time": "2022-01-07T09:59:41.310425",
     "exception": false,
     "start_time": "2022-01-07T09:59:41.167930",
     "status": "completed"
    },
    "tags": []
   },
   "outputs": [],
   "source": [
    "data.loc[data['productionDate'] < 1960, 'productionDate'] = 1960"
   ]
  },
  {
   "cell_type": "code",
   "execution_count": 59,
   "metadata": {
    "execution": {
     "iopub.execute_input": "2022-01-07T09:59:41.569289Z",
     "iopub.status.busy": "2022-01-07T09:59:41.568648Z",
     "iopub.status.idle": "2022-01-07T09:59:41.572438Z",
     "shell.execute_reply": "2022-01-07T09:59:41.572953Z",
     "shell.execute_reply.started": "2022-01-07T09:52:48.835670Z"
    },
    "papermill": {
     "duration": 0.13476,
     "end_time": "2022-01-07T09:59:41.573094",
     "exception": false,
     "start_time": "2022-01-07T09:59:41.438334",
     "status": "completed"
    },
    "tags": []
   },
   "outputs": [],
   "source": [
    "num_cols.append('productionDate')"
   ]
  },
  {
   "cell_type": "markdown",
   "metadata": {
    "papermill": {
     "duration": 0.12658,
     "end_time": "2022-01-07T09:59:41.870023",
     "exception": false,
     "start_time": "2022-01-07T09:59:41.743443",
     "status": "completed"
    },
    "tags": []
   },
   "source": [
    "Распределение почти такое же как у modelDate, возможно, лучше будет оставить только один из признаков"
   ]
  },
  {
   "cell_type": "code",
   "execution_count": 60,
   "metadata": {
    "execution": {
     "iopub.execute_input": "2022-01-07T09:59:42.132248Z",
     "iopub.status.busy": "2022-01-07T09:59:42.131612Z",
     "iopub.status.idle": "2022-01-07T09:59:42.385596Z",
     "shell.execute_reply": "2022-01-07T09:59:42.384910Z",
     "shell.execute_reply.started": "2022-01-07T09:52:48.847161Z"
    },
    "papermill": {
     "duration": 0.38578,
     "end_time": "2022-01-07T09:59:42.385718",
     "exception": false,
     "start_time": "2022-01-07T09:59:41.999938",
     "status": "completed"
    },
    "tags": []
   },
   "outputs": [
    {
     "data": {
      "image/png": "[encoded data removed]",
      "text/plain": [
       "<Figure size 576x288 with 1 Axes>"
      ]
     },
     "metadata": {},
     "output_type": "display_data"
    }
   ],
   "source": [
    "#Посмотрим на boxplot\n",
    "\n",
    "plt.figure(figsize=(8, 4))\n",
    "\n",
    "sns.boxplot(data=data['productionDate'], orient=\"h\",\n",
    "\n",
    "                 palette=\"Set2\", whis=1.5);\n",
    "\n"
   ]
  },
  {
   "cell_type": "code",
   "execution_count": 61,
   "metadata": {
    "execution": {
     "iopub.execute_input": "2022-01-07T09:59:42.652041Z",
     "iopub.status.busy": "2022-01-07T09:59:42.651046Z",
     "iopub.status.idle": "2022-01-07T09:59:42.663737Z",
     "shell.execute_reply": "2022-01-07T09:59:42.664279Z",
     "shell.execute_reply.started": "2022-01-07T09:52:49.111082Z"
    },
    "papermill": {
     "duration": 0.150072,
     "end_time": "2022-01-07T09:59:42.664425",
     "exception": false,
     "start_time": "2022-01-07T09:59:42.514353",
     "status": "completed"
    },
    "tags": []
   },
   "outputs": [
    {
     "name": "stdout",
     "output_type": "stream",
     "text": [
      "2007.0 2016.0 1993.5\n"
     ]
    }
   ],
   "source": [
    "perc25 = data.productionDate.quantile(0.25)\n",
    "\n",
    "perc75 = data.productionDate.quantile(0.75)\n",
    "\n",
    "IQR = perc75 - perc25\n",
    "\n",
    "f=perc25 - 1.5*IQR\n",
    "\n",
    "print(perc25, perc75, f)"
   ]
  },
  {
   "cell_type": "markdown",
   "metadata": {
    "papermill": {
     "duration": 0.128191,
     "end_time": "2022-01-07T09:59:42.921084",
     "exception": false,
     "start_time": "2022-01-07T09:59:42.792893",
     "status": "completed"
    },
    "tags": []
   },
   "source": [
    "Хотела добавить новый признак, но он ухудшил качество модели, оставила как есть\n",
    "Добавим новый признак, младше 2016 - new, 2007-20016 - not_new, 1993-2007 old, младше 1993 - very old\n",
    "\n",
    "data['age']=0\n",
    "\n",
    "data.reset_index(inplace=True)\n",
    "\n",
    "for i in range(0, len(data.productionDate)):\n",
    "\n",
    "    if data.productionDate[i] >= 2016:\n",
    "\n",
    "        data['age'][i] = 'new'\n",
    "\n",
    "    elif data.productionDate[i] < 2016 and data.productionDate[i] >= 2007:\n",
    "\n",
    "        data['age'][i] = 'not_new'\n",
    "\n",
    "    elif data.productionDate[i] < 2007 and data.productionDate[i] >= 1993:\n",
    "\n",
    "        data['age'][i] = 'old'\n",
    "\n",
    "    elif data.productionDate[i] < 1993:\n",
    "\n",
    "        data['age'][i] = 'very_old'\n",
    "\n",
    "data['age'].value_counts()\n",
    "\n",
    "cat_cols.append('age')"
   ]
  },
  {
   "cell_type": "markdown",
   "metadata": {
    "papermill": {
     "duration": 0.129023,
     "end_time": "2022-01-07T09:59:43.178786",
     "exception": false,
     "start_time": "2022-01-07T09:59:43.049763",
     "status": "completed"
    },
    "tags": []
   },
   "source": [
    "## model_name"
   ]
  },
  {
   "cell_type": "code",
   "execution_count": 62,
   "metadata": {
    "execution": {
     "iopub.execute_input": "2022-01-07T09:59:43.440369Z",
     "iopub.status.busy": "2022-01-07T09:59:43.439349Z",
     "iopub.status.idle": "2022-01-07T09:59:43.443541Z",
     "shell.execute_reply": "2022-01-07T09:59:43.444103Z",
     "shell.execute_reply.started": "2022-01-07T09:52:49.128104Z"
    },
    "papermill": {
     "duration": 0.136153,
     "end_time": "2022-01-07T09:59:43.444247",
     "exception": false,
     "start_time": "2022-01-07T09:59:43.308094",
     "status": "completed"
    },
    "tags": []
   },
   "outputs": [],
   "source": [
    "cat_cols.append('model_name')"
   ]
  },
  {
   "cell_type": "markdown",
   "metadata": {
    "papermill": {
     "duration": 0.138455,
     "end_time": "2022-01-07T09:59:43.721313",
     "exception": false,
     "start_time": "2022-01-07T09:59:43.582858",
     "status": "completed"
    },
    "tags": []
   },
   "source": [
    "## numberOfDoors"
   ]
  },
  {
   "cell_type": "code",
   "execution_count": 63,
   "metadata": {
    "execution": {
     "iopub.execute_input": "2022-01-07T09:59:43.983135Z",
     "iopub.status.busy": "2022-01-07T09:59:43.982029Z",
     "iopub.status.idle": "2022-01-07T09:59:43.984289Z",
     "shell.execute_reply": "2022-01-07T09:59:43.984866Z",
     "shell.execute_reply.started": "2022-01-07T09:52:49.138359Z"
    },
    "papermill": {
     "duration": 0.135858,
     "end_time": "2022-01-07T09:59:43.985013",
     "exception": false,
     "start_time": "2022-01-07T09:59:43.849155",
     "status": "completed"
    },
    "tags": []
   },
   "outputs": [],
   "source": [
    "num_cols.append('numberOfDoors')"
   ]
  },
  {
   "cell_type": "markdown",
   "metadata": {
    "papermill": {
     "duration": 0.128472,
     "end_time": "2022-01-07T09:59:44.244097",
     "exception": false,
     "start_time": "2022-01-07T09:59:44.115625",
     "status": "completed"
    },
    "tags": []
   },
   "source": [
    "## parsing_unixtime"
   ]
  },
  {
   "cell_type": "code",
   "execution_count": 64,
   "metadata": {
    "execution": {
     "iopub.execute_input": "2022-01-07T09:59:44.504146Z",
     "iopub.status.busy": "2022-01-07T09:59:44.503116Z",
     "iopub.status.idle": "2022-01-07T09:59:44.507445Z",
     "shell.execute_reply": "2022-01-07T09:59:44.508074Z",
     "shell.execute_reply.started": "2022-01-07T09:52:49.154519Z"
    },
    "papermill": {
     "duration": 0.136119,
     "end_time": "2022-01-07T09:59:44.508220",
     "exception": false,
     "start_time": "2022-01-07T09:59:44.372101",
     "status": "completed"
    },
    "tags": []
   },
   "outputs": [],
   "source": [
    "num_cols.append('parsing_unixtime')"
   ]
  },
  {
   "cell_type": "markdown",
   "metadata": {
    "papermill": {
     "duration": 0.128007,
     "end_time": "2022-01-07T09:59:44.765810",
     "exception": false,
     "start_time": "2022-01-07T09:59:44.637803",
     "status": "completed"
    },
    "tags": []
   },
   "source": [
    "## super_gen"
   ]
  },
  {
   "cell_type": "code",
   "execution_count": 65,
   "metadata": {
    "execution": {
     "iopub.execute_input": "2022-01-07T09:59:45.031703Z",
     "iopub.status.busy": "2022-01-07T09:59:45.028569Z",
     "iopub.status.idle": "2022-01-07T09:59:45.048260Z",
     "shell.execute_reply": "2022-01-07T09:59:45.048842Z",
     "shell.execute_reply.started": "2022-01-07T09:52:49.166904Z"
    },
    "papermill": {
     "duration": 0.15368,
     "end_time": "2022-01-07T09:59:45.048990",
     "exception": false,
     "start_time": "2022-01-07T09:59:44.895310",
     "status": "completed"
    },
    "tags": []
   },
   "outputs": [
    {
     "data": {
      "text/plain": [
       "'{\"id\":\"10373605\",\"displacement\":1197,\"engine_type\":\"GASOLINE\",\"gear_type\":\"FORWARD_CONTROL\",\"transmission\":\"ROBOT\",\"power\":105,\"power_kvt\":77,\"human_name\":\"1.2 AMT (105 л.с.)\",\"acceleration\":10.5,\"clearance_min\":155,\"fuel_rate\":5}'"
      ]
     },
     "execution_count": 65,
     "metadata": {},
     "output_type": "execute_result"
    }
   ],
   "source": [
    "data[data['sample']==0]['super_gen'][0]"
   ]
  },
  {
   "cell_type": "code",
   "execution_count": 66,
   "metadata": {
    "execution": {
     "iopub.execute_input": "2022-01-07T09:59:45.311981Z",
     "iopub.status.busy": "2022-01-07T09:59:45.311355Z",
     "iopub.status.idle": "2022-01-07T09:59:45.337430Z",
     "shell.execute_reply": "2022-01-07T09:59:45.338039Z",
     "shell.execute_reply.started": "2022-01-07T09:52:49.196403Z"
    },
    "papermill": {
     "duration": 0.159587,
     "end_time": "2022-01-07T09:59:45.338185",
     "exception": false,
     "start_time": "2022-01-07T09:59:45.178598",
     "status": "completed"
    },
    "tags": []
   },
   "outputs": [
    {
     "data": {
      "text/plain": [
       "\"{'gear_type': 'FORWARD_CONTROL', 'engine_type': 'GASOLINE', 'transmission': 'ROBOT', 'id': '10373615', 'displacement': 1798, 'power': 180, 'power_kvt': 132, 'human_name': '1.8 AMT (180 л.с.)', 'acceleration': 7.4, 'clearance_min': 155, 'fuel_rate': 6.1}\""
      ]
     },
     "execution_count": 66,
     "metadata": {},
     "output_type": "execute_result"
    }
   ],
   "source": [
    "data[data['sample']==1]['super_gen'][35000]"
   ]
  },
  {
   "cell_type": "code",
   "execution_count": 67,
   "metadata": {
    "execution": {
     "iopub.execute_input": "2022-01-07T09:59:45.599373Z",
     "iopub.status.busy": "2022-01-07T09:59:45.598766Z",
     "iopub.status.idle": "2022-01-07T09:59:45.602653Z",
     "shell.execute_reply": "2022-01-07T09:59:45.603239Z",
     "shell.execute_reply.started": "2022-01-07T09:52:49.231337Z"
    },
    "papermill": {
     "duration": 0.136351,
     "end_time": "2022-01-07T09:59:45.603373",
     "exception": false,
     "start_time": "2022-01-07T09:59:45.467022",
     "status": "completed"
    },
    "tags": []
   },
   "outputs": [],
   "source": [
    "unknown_cols.append('super_gen')"
   ]
  },
  {
   "cell_type": "markdown",
   "metadata": {
    "papermill": {
     "duration": 0.129549,
     "end_time": "2022-01-07T09:59:45.863398",
     "exception": false,
     "start_time": "2022-01-07T09:59:45.733849",
     "status": "completed"
    },
    "tags": []
   },
   "source": [
    "## vehicleTransmission"
   ]
  },
  {
   "cell_type": "code",
   "execution_count": 68,
   "metadata": {
    "execution": {
     "iopub.execute_input": "2022-01-07T09:59:46.155930Z",
     "iopub.status.busy": "2022-01-07T09:59:46.129718Z",
     "iopub.status.idle": "2022-01-07T09:59:46.160369Z",
     "shell.execute_reply": "2022-01-07T09:59:46.159743Z",
     "shell.execute_reply.started": "2022-01-07T09:52:49.238025Z"
    },
    "papermill": {
     "duration": 0.16679,
     "end_time": "2022-01-07T09:59:46.160497",
     "exception": false,
     "start_time": "2022-01-07T09:59:45.993707",
     "status": "completed"
    },
    "tags": []
   },
   "outputs": [
    {
     "data": {
      "text/plain": [
       "автоматическая      43913\n",
       "механическая        20815\n",
       "роботизированная     9060\n",
       "вариатор             8866\n",
       "Name: vehicleTransmission, dtype: int64"
      ]
     },
     "execution_count": 68,
     "metadata": {},
     "output_type": "execute_result"
    }
   ],
   "source": [
    "data['vehicleTransmission'].value_counts()"
   ]
  },
  {
   "cell_type": "code",
   "execution_count": 69,
   "metadata": {
    "execution": {
     "iopub.execute_input": "2022-01-07T09:59:46.423603Z",
     "iopub.status.busy": "2022-01-07T09:59:46.422926Z",
     "iopub.status.idle": "2022-01-07T09:59:46.438414Z",
     "shell.execute_reply": "2022-01-07T09:59:46.439009Z",
     "shell.execute_reply.started": "2022-01-07T09:52:49.278717Z"
    },
    "papermill": {
     "duration": 0.147861,
     "end_time": "2022-01-07T09:59:46.439172",
     "exception": false,
     "start_time": "2022-01-07T09:59:46.291311",
     "status": "completed"
    },
    "tags": []
   },
   "outputs": [],
   "source": [
    "data['vehicleTransmission']=data['vehicleTransmission'].fillna('автоматическая')"
   ]
  },
  {
   "cell_type": "code",
   "execution_count": 70,
   "metadata": {
    "execution": {
     "iopub.execute_input": "2022-01-07T09:59:46.705020Z",
     "iopub.status.busy": "2022-01-07T09:59:46.704292Z",
     "iopub.status.idle": "2022-01-07T09:59:46.708061Z",
     "shell.execute_reply": "2022-01-07T09:59:46.708702Z",
     "shell.execute_reply.started": "2022-01-07T09:52:49.300001Z"
    },
    "papermill": {
     "duration": 0.136812,
     "end_time": "2022-01-07T09:59:46.708849",
     "exception": false,
     "start_time": "2022-01-07T09:59:46.572037",
     "status": "completed"
    },
    "tags": []
   },
   "outputs": [],
   "source": [
    "cat_cols.append('vehicleTransmission')"
   ]
  },
  {
   "cell_type": "markdown",
   "metadata": {
    "papermill": {
     "duration": 0.129713,
     "end_time": "2022-01-07T09:59:46.968517",
     "exception": false,
     "start_time": "2022-01-07T09:59:46.838804",
     "status": "completed"
    },
    "tags": []
   },
   "source": [
    "## Владельцы"
   ]
  },
  {
   "cell_type": "code",
   "execution_count": 71,
   "metadata": {
    "execution": {
     "iopub.execute_input": "2022-01-07T09:59:47.254013Z",
     "iopub.status.busy": "2022-01-07T09:59:47.248100Z",
     "iopub.status.idle": "2022-01-07T09:59:47.261471Z",
     "shell.execute_reply": "2022-01-07T09:59:47.260851Z",
     "shell.execute_reply.started": "2022-01-07T09:52:49.311132Z"
    },
    "papermill": {
     "duration": 0.162011,
     "end_time": "2022-01-07T09:59:47.261601",
     "exception": false,
     "start_time": "2022-01-07T09:59:47.099590",
     "status": "completed"
    },
    "tags": []
   },
   "outputs": [
    {
     "data": {
      "text/plain": [
       "3 или более    15957\n",
       "1.0            15526\n",
       "2.0            11547\n",
       "4.0            10839\n",
       "3.0            10055\n",
       "1 владелец      9459\n",
       "2 владельца     9270\n",
       "Name: Владельцы, dtype: int64"
      ]
     },
     "execution_count": 71,
     "metadata": {},
     "output_type": "execute_result"
    }
   ],
   "source": [
    "data['Владельцы'].value_counts()"
   ]
  },
  {
   "cell_type": "code",
   "execution_count": 72,
   "metadata": {
    "execution": {
     "iopub.execute_input": "2022-01-07T09:59:47.524513Z",
     "iopub.status.busy": "2022-01-07T09:59:47.523860Z",
     "iopub.status.idle": "2022-01-07T09:59:47.529695Z",
     "shell.execute_reply": "2022-01-07T09:59:47.530234Z",
     "shell.execute_reply.started": "2022-01-07T09:52:49.344341Z"
    },
    "papermill": {
     "duration": 0.138743,
     "end_time": "2022-01-07T09:59:47.530378",
     "exception": false,
     "start_time": "2022-01-07T09:59:47.391635",
     "status": "completed"
    },
    "tags": []
   },
   "outputs": [],
   "source": [
    "def convert_to_int(data):\n",
    "\n",
    "    for s in re.findall('\\d', str(data)):\n",
    "\n",
    "        s = int(s)\n",
    "\n",
    "        return s"
   ]
  },
  {
   "cell_type": "code",
   "execution_count": 73,
   "metadata": {
    "execution": {
     "iopub.execute_input": "2022-01-07T09:59:47.798289Z",
     "iopub.status.busy": "2022-01-07T09:59:47.797267Z",
     "iopub.status.idle": "2022-01-07T09:59:48.078532Z",
     "shell.execute_reply": "2022-01-07T09:59:48.077955Z",
     "shell.execute_reply.started": "2022-01-07T09:52:49.351732Z"
    },
    "papermill": {
     "duration": 0.415245,
     "end_time": "2022-01-07T09:59:48.078660",
     "exception": false,
     "start_time": "2022-01-07T09:59:47.663415",
     "status": "completed"
    },
    "tags": []
   },
   "outputs": [
    {
     "data": {
      "text/plain": [
       "3.0    26012\n",
       "1.0    24985\n",
       "2.0    20817\n",
       "4.0    10839\n",
       "Name: Владельцы, dtype: int64"
      ]
     },
     "execution_count": 73,
     "metadata": {},
     "output_type": "execute_result"
    }
   ],
   "source": [
    "data['Владельцы'] = data['Владельцы'].apply(convert_to_int)\n",
    "\n",
    "data['Владельцы'].value_counts()"
   ]
  },
  {
   "cell_type": "code",
   "execution_count": 74,
   "metadata": {
    "execution": {
     "iopub.execute_input": "2022-01-07T09:59:48.346213Z",
     "iopub.status.busy": "2022-01-07T09:59:48.345529Z",
     "iopub.status.idle": "2022-01-07T09:59:48.360381Z",
     "shell.execute_reply": "2022-01-07T09:59:48.360976Z",
     "shell.execute_reply.started": "2022-01-07T09:52:49.643538Z"
    },
    "papermill": {
     "duration": 0.152398,
     "end_time": "2022-01-07T09:59:48.361152",
     "exception": false,
     "start_time": "2022-01-07T09:59:48.208754",
     "status": "completed"
    },
    "tags": []
   },
   "outputs": [],
   "source": [
    "# если не указано предполагаем худшее\n",
    "\n",
    "data['Владельцы'] = data['Владельцы'].fillna(3)\n",
    "\n",
    "data.loc[data['Владельцы'] > 3, 'Владельцы'] = 3"
   ]
  },
  {
   "cell_type": "code",
   "execution_count": 75,
   "metadata": {
    "execution": {
     "iopub.execute_input": "2022-01-07T09:59:48.628224Z",
     "iopub.status.busy": "2022-01-07T09:59:48.627468Z",
     "iopub.status.idle": "2022-01-07T09:59:48.631527Z",
     "shell.execute_reply": "2022-01-07T09:59:48.632189Z",
     "shell.execute_reply.started": "2022-01-07T09:52:49.660313Z"
    },
    "papermill": {
     "duration": 0.14021,
     "end_time": "2022-01-07T09:59:48.632347",
     "exception": false,
     "start_time": "2022-01-07T09:59:48.492137",
     "status": "completed"
    },
    "tags": []
   },
   "outputs": [],
   "source": [
    "num_cols.append('Владельцы')"
   ]
  },
  {
   "cell_type": "markdown",
   "metadata": {
    "papermill": {
     "duration": 0.130037,
     "end_time": "2022-01-07T09:59:48.893355",
     "exception": false,
     "start_time": "2022-01-07T09:59:48.763318",
     "status": "completed"
    },
    "tags": []
   },
   "source": [
    "## Привод"
   ]
  },
  {
   "cell_type": "code",
   "execution_count": 76,
   "metadata": {
    "execution": {
     "iopub.execute_input": "2022-01-07T09:59:49.162224Z",
     "iopub.status.busy": "2022-01-07T09:59:49.161553Z",
     "iopub.status.idle": "2022-01-07T09:59:49.177069Z",
     "shell.execute_reply": "2022-01-07T09:59:49.176547Z",
     "shell.execute_reply.started": "2022-01-07T09:52:49.666038Z"
    },
    "papermill": {
     "duration": 0.148079,
     "end_time": "2022-01-07T09:59:49.177203",
     "exception": false,
     "start_time": "2022-01-07T09:59:49.029124",
     "status": "completed"
    },
    "tags": []
   },
   "outputs": [],
   "source": [
    "data['Привод'] = data['Привод'].fillna('полный') "
   ]
  },
  {
   "cell_type": "code",
   "execution_count": 77,
   "metadata": {
    "execution": {
     "iopub.execute_input": "2022-01-07T09:59:49.443714Z",
     "iopub.status.busy": "2022-01-07T09:59:49.443042Z",
     "iopub.status.idle": "2022-01-07T09:59:49.446656Z",
     "shell.execute_reply": "2022-01-07T09:59:49.446127Z",
     "shell.execute_reply.started": "2022-01-07T09:52:49.691282Z"
    },
    "papermill": {
     "duration": 0.138373,
     "end_time": "2022-01-07T09:59:49.446779",
     "exception": false,
     "start_time": "2022-01-07T09:59:49.308406",
     "status": "completed"
    },
    "tags": []
   },
   "outputs": [],
   "source": [
    "cat_cols.append('Привод')"
   ]
  },
  {
   "cell_type": "markdown",
   "metadata": {
    "papermill": {
     "duration": 0.129675,
     "end_time": "2022-01-07T09:59:49.707167",
     "exception": false,
     "start_time": "2022-01-07T09:59:49.577492",
     "status": "completed"
    },
    "tags": []
   },
   "source": [
    "## vendor"
   ]
  },
  {
   "cell_type": "code",
   "execution_count": 78,
   "metadata": {
    "execution": {
     "iopub.execute_input": "2022-01-07T09:59:49.996144Z",
     "iopub.status.busy": "2022-01-07T09:59:49.986457Z",
     "iopub.status.idle": "2022-01-07T09:59:50.002088Z",
     "shell.execute_reply": "2022-01-07T09:59:50.002734Z",
     "shell.execute_reply.started": "2022-01-07T09:52:49.701015Z"
    },
    "papermill": {
     "duration": 0.16536,
     "end_time": "2022-01-07T09:59:50.002896",
     "exception": false,
     "start_time": "2022-01-07T09:59:49.837536",
     "status": "completed"
    },
    "tags": []
   },
   "outputs": [
    {
     "data": {
      "text/plain": [
       "EUROPEAN    49531\n",
       "JAPANESE    33531\n",
       "AMERICAN        7\n",
       "Name: vendor, dtype: int64"
      ]
     },
     "execution_count": 78,
     "metadata": {},
     "output_type": "execute_result"
    }
   ],
   "source": [
    "\n",
    "data['vendor'].value_counts() "
   ]
  },
  {
   "cell_type": "code",
   "execution_count": 79,
   "metadata": {
    "execution": {
     "iopub.execute_input": "2022-01-07T09:59:50.273169Z",
     "iopub.status.busy": "2022-01-07T09:59:50.272415Z",
     "iopub.status.idle": "2022-01-07T09:59:50.276135Z",
     "shell.execute_reply": "2022-01-07T09:59:50.276761Z",
     "shell.execute_reply.started": "2022-01-07T09:52:49.739963Z"
    },
    "papermill": {
     "duration": 0.139108,
     "end_time": "2022-01-07T09:59:50.276919",
     "exception": false,
     "start_time": "2022-01-07T09:59:50.137811",
     "status": "completed"
    },
    "tags": []
   },
   "outputs": [],
   "source": [
    "cat_cols.append('vendor')"
   ]
  },
  {
   "cell_type": "markdown",
   "metadata": {
    "papermill": {
     "duration": 0.130592,
     "end_time": "2022-01-07T09:59:50.538601",
     "exception": false,
     "start_time": "2022-01-07T09:59:50.408009",
     "status": "completed"
    },
    "tags": []
   },
   "source": [
    "## ПТС"
   ]
  },
  {
   "cell_type": "code",
   "execution_count": 80,
   "metadata": {
    "execution": {
     "iopub.execute_input": "2022-01-07T09:59:50.803629Z",
     "iopub.status.busy": "2022-01-07T09:59:50.802953Z",
     "iopub.status.idle": "2022-01-07T09:59:50.818465Z",
     "shell.execute_reply": "2022-01-07T09:59:50.819089Z",
     "shell.execute_reply.started": "2022-01-07T09:52:49.745724Z"
    },
    "papermill": {
     "duration": 0.149967,
     "end_time": "2022-01-07T09:59:50.819248",
     "exception": false,
     "start_time": "2022-01-07T09:59:50.669281",
     "status": "completed"
    },
    "tags": []
   },
   "outputs": [],
   "source": [
    "data['ПТС'] = data['ПТС'].fillna(\"Оригинал\")"
   ]
  },
  {
   "cell_type": "code",
   "execution_count": 81,
   "metadata": {
    "execution": {
     "iopub.execute_input": "2022-01-07T09:59:51.085966Z",
     "iopub.status.busy": "2022-01-07T09:59:51.085261Z",
     "iopub.status.idle": "2022-01-07T09:59:51.089133Z",
     "shell.execute_reply": "2022-01-07T09:59:51.089713Z",
     "shell.execute_reply.started": "2022-01-07T09:52:49.769622Z"
    },
    "papermill": {
     "duration": 0.139238,
     "end_time": "2022-01-07T09:59:51.089858",
     "exception": false,
     "start_time": "2022-01-07T09:59:50.950620",
     "status": "completed"
    },
    "tags": []
   },
   "outputs": [],
   "source": [
    "bin_cols.append('ПТС')"
   ]
  },
  {
   "cell_type": "markdown",
   "metadata": {
    "papermill": {
     "duration": 0.131382,
     "end_time": "2022-01-07T09:59:51.351978",
     "exception": false,
     "start_time": "2022-01-07T09:59:51.220596",
     "status": "completed"
    },
    "tags": []
   },
   "source": [
    "## Руль"
   ]
  },
  {
   "cell_type": "code",
   "execution_count": 82,
   "metadata": {
    "execution": {
     "iopub.execute_input": "2022-01-07T09:59:51.630637Z",
     "iopub.status.busy": "2022-01-07T09:59:51.628066Z",
     "iopub.status.idle": "2022-01-07T09:59:51.633161Z",
     "shell.execute_reply": "2022-01-07T09:59:51.633689Z",
     "shell.execute_reply.started": "2022-01-07T09:52:49.780974Z"
    },
    "papermill": {
     "duration": 0.151118,
     "end_time": "2022-01-07T09:59:51.633839",
     "exception": false,
     "start_time": "2022-01-07T09:59:51.482721",
     "status": "completed"
    },
    "tags": []
   },
   "outputs": [],
   "source": [
    "data['Руль'] = data['Руль'].fillna(\"Левый\")"
   ]
  },
  {
   "cell_type": "code",
   "execution_count": 83,
   "metadata": {
    "execution": {
     "iopub.execute_input": "2022-01-07T09:59:51.900288Z",
     "iopub.status.busy": "2022-01-07T09:59:51.898407Z",
     "iopub.status.idle": "2022-01-07T09:59:51.902668Z",
     "shell.execute_reply": "2022-01-07T09:59:51.903157Z",
     "shell.execute_reply.started": "2022-01-07T09:52:49.804761Z"
    },
    "papermill": {
     "duration": 0.138094,
     "end_time": "2022-01-07T09:59:51.903302",
     "exception": false,
     "start_time": "2022-01-07T09:59:51.765208",
     "status": "completed"
    },
    "tags": []
   },
   "outputs": [],
   "source": [
    "bin_cols.append('Руль')"
   ]
  },
  {
   "cell_type": "markdown",
   "metadata": {
    "papermill": {
     "duration": 0.129803,
     "end_time": "2022-01-07T09:59:52.165073",
     "exception": false,
     "start_time": "2022-01-07T09:59:52.035270",
     "status": "completed"
    },
    "tags": []
   },
   "source": [
    "## city"
   ]
  },
  {
   "cell_type": "code",
   "execution_count": 84,
   "metadata": {
    "execution": {
     "iopub.execute_input": "2022-01-07T09:59:52.432934Z",
     "iopub.status.busy": "2022-01-07T09:59:52.432198Z",
     "iopub.status.idle": "2022-01-07T09:59:52.434848Z",
     "shell.execute_reply": "2022-01-07T09:59:52.434337Z",
     "shell.execute_reply.started": "2022-01-07T09:52:49.814563Z"
    },
    "papermill": {
     "duration": 0.138555,
     "end_time": "2022-01-07T09:59:52.434964",
     "exception": false,
     "start_time": "2022-01-07T09:59:52.296409",
     "status": "completed"
    },
    "tags": []
   },
   "outputs": [],
   "source": [
    "cat_cols.append('city')\n",
    "\n",
    "cols = ['sample', 'sell_id', 'price']"
   ]
  },
  {
   "cell_type": "markdown",
   "metadata": {
    "papermill": {
     "duration": 0.129408,
     "end_time": "2022-01-07T09:59:52.695261",
     "exception": false,
     "start_time": "2022-01-07T09:59:52.565853",
     "status": "completed"
    },
    "tags": []
   },
   "source": [
    "## price\n",
    "Ценана машины за год изменилась в среднем на 25-30%"
   ]
  },
  {
   "cell_type": "code",
   "execution_count": 85,
   "metadata": {
    "execution": {
     "iopub.execute_input": "2022-01-07T09:59:52.962627Z",
     "iopub.status.busy": "2022-01-07T09:59:52.961800Z",
     "iopub.status.idle": "2022-01-07T09:59:55.487820Z",
     "shell.execute_reply": "2022-01-07T09:59:55.487181Z",
     "shell.execute_reply.started": "2022-01-07T09:52:49.826463Z"
    },
    "papermill": {
     "duration": 2.66255,
     "end_time": "2022-01-07T09:59:55.487954",
     "exception": false,
     "start_time": "2022-01-07T09:59:52.825404",
     "status": "completed"
    },
    "tags": []
   },
   "outputs": [],
   "source": [
    "data.price = data.apply(lambda x: x.price if x.price == 0 else x.price * 0.8, axis=1)"
   ]
  },
  {
   "cell_type": "markdown",
   "metadata": {
    "papermill": {
     "duration": 0.130511,
     "end_time": "2022-01-07T09:59:55.757662",
     "exception": false,
     "start_time": "2022-01-07T09:59:55.627151",
     "status": "completed"
    },
    "tags": []
   },
   "source": [
    "## Посмотрим на значимость колонок в списках (cat_cols, bin_cols, num_cols)"
   ]
  },
  {
   "cell_type": "code",
   "execution_count": 86,
   "metadata": {
    "execution": {
     "iopub.execute_input": "2022-01-07T09:59:56.029019Z",
     "iopub.status.busy": "2022-01-07T09:59:56.028014Z",
     "iopub.status.idle": "2022-01-07T09:59:56.159999Z",
     "shell.execute_reply": "2022-01-07T09:59:56.159426Z",
     "shell.execute_reply.started": "2022-01-07T09:52:52.338118Z"
    },
    "papermill": {
     "duration": 0.265965,
     "end_time": "2022-01-07T09:59:56.160131",
     "exception": false,
     "start_time": "2022-01-07T09:59:55.894166",
     "status": "completed"
    },
    "tags": []
   },
   "outputs": [
    {
     "name": "stdout",
     "output_type": "stream",
     "text": [
      "<class 'pandas.core.frame.DataFrame'>\n",
      "Int64Index: 48383 entries, 34686 to 83068\n",
      "Data columns (total 33 columns):\n",
      " #   Column               Non-Null Count  Dtype  \n",
      "---  ------               --------------  -----  \n",
      " 0   car_url              48383 non-null  object \n",
      " 1   brand                48383 non-null  object \n",
      " 2   bodyType             48383 non-null  object \n",
      " 3   color                48383 non-null  object \n",
      " 4   description          48383 non-null  object \n",
      " 5   engineDisplacement   48383 non-null  object \n",
      " 6   enginePower          48383 non-null  float64\n",
      " 7   equipment_dict       48383 non-null  object \n",
      " 8   fuelType             48383 non-null  object \n",
      " 9   mileage              48383 non-null  float64\n",
      " 10  modelDate            48383 non-null  float64\n",
      " 11  model_name           48383 non-null  object \n",
      " 12  numberOfDoors        48383 non-null  float64\n",
      " 13  parsing_unixtime     48383 non-null  float64\n",
      " 14  priceCurrency        48383 non-null  object \n",
      " 15  productionDate       48383 non-null  float64\n",
      " 16  super_gen            48383 non-null  object \n",
      " 17  vehicleTransmission  48383 non-null  object \n",
      " 18  vendor               48383 non-null  object \n",
      " 19  Владельцы            48383 non-null  float64\n",
      " 20  ПТС                  48383 non-null  object \n",
      " 21  Привод               48383 non-null  object \n",
      " 22  Руль                 48383 non-null  object \n",
      " 23  Состояние            47968 non-null  object \n",
      " 24  Таможня              47968 non-null  object \n",
      " 25  price                48383 non-null  float64\n",
      " 26  city                 48383 non-null  object \n",
      " 27  sample               48383 non-null  int64  \n",
      " 28  sell_id              48383 non-null  int64  \n",
      " 29  exp_brand            48383 non-null  int64  \n",
      " 30  common_color         48383 non-null  int64  \n",
      " 31  len_descr            48383 non-null  float64\n",
      " 32  mileage_log          48383 non-null  float64\n",
      "dtypes: float64(10), int64(4), object(19)\n",
      "memory usage: 12.6+ MB\n"
     ]
    }
   ],
   "source": [
    "train_1=data[data['sample'] == 1]\n",
    "train_1.info()"
   ]
  },
  {
   "cell_type": "code",
   "execution_count": 87,
   "metadata": {
    "execution": {
     "iopub.execute_input": "2022-01-07T09:59:56.429300Z",
     "iopub.status.busy": "2022-01-07T09:59:56.428291Z",
     "iopub.status.idle": "2022-01-07T09:59:56.954709Z",
     "shell.execute_reply": "2022-01-07T09:59:56.955344Z",
     "shell.execute_reply.started": "2022-01-07T09:52:52.469304Z"
    },
    "papermill": {
     "duration": 0.663453,
     "end_time": "2022-01-07T09:59:56.955501",
     "exception": false,
     "start_time": "2022-01-07T09:59:56.292048",
     "status": "completed"
    },
    "tags": []
   },
   "outputs": [
    {
     "data": {
      "text/plain": [
       "Text(0.5, 1.0, 'Significance of num variables')"
      ]
     },
     "execution_count": 87,
     "metadata": {},
     "output_type": "execute_result"
    },
    {
     "data": {
      "image/png": "[encoded data removed]",
      "text/plain": [
       "<Figure size 1080x216 with 1 Axes>"
      ]
     },
     "metadata": {},
     "output_type": "display_data"
    }
   ],
   "source": [
    "num_cols = pd.Series(\n",
    "    f_classif(\n",
    "        train_1[num_cols],\n",
    "        train_1[\"price\"],\n",
    "    )[0],\n",
    "    index=num_cols,\n",
    ")\n",
    "num_cols.sort_values(inplace=True, ascending=False)\n",
    "num_cols.plot(kind=\"bar\", figsize=(15, 3))\n",
    "plt.title(\"Significance of num variables\")"
   ]
  },
  {
   "cell_type": "markdown",
   "metadata": {
    "papermill": {
     "duration": 0.135701,
     "end_time": "2022-01-07T09:59:57.226500",
     "exception": false,
     "start_time": "2022-01-07T09:59:57.090799",
     "status": "completed"
    },
    "tags": []
   },
   "source": [
    "т.к. коррелция между modelDate и productionDate по отчету большая, оставим признак, который больше влияет на модель\n",
    "еще большая корреляция между mileage и productionDate, что логично, чем старше машина, тем больше пробег, \n",
    "попробовала создать признак на основе этих двух, качество модели нне улучшилось"
   ]
  },
  {
   "cell_type": "code",
   "execution_count": 88,
   "metadata": {
    "_kg_hide-input": true,
    "execution": {
     "iopub.execute_input": "2022-01-07T09:59:57.505218Z",
     "iopub.status.busy": "2022-01-07T09:59:57.503129Z",
     "iopub.status.idle": "2022-01-07T09:59:57.507638Z",
     "shell.execute_reply": "2022-01-07T09:59:57.508107Z",
     "shell.execute_reply.started": "2022-01-07T09:52:52.976741Z"
    },
    "papermill": {
     "duration": 0.144251,
     "end_time": "2022-01-07T09:59:57.508264",
     "exception": false,
     "start_time": "2022-01-07T09:59:57.364013",
     "status": "completed"
    },
    "tags": []
   },
   "outputs": [],
   "source": [
    "#data['mileage_year'] = 0\n",
    "\n",
    "#data['mileage_per_year'] = 0\n",
    "\n",
    "#for i in range(0, len(data.productionDate)):\n",
    "#\n",
    "#    data['mileage_year'][i] = data.mileage[i]/(data.productionDate[i])\n",
    "#\n",
    "#for i in range(0, len(data.productionDate)):\n",
    "#\n",
    "#    if data.productionDate[i] != 2021:\n",
    "#\n",
    "#        data['mileage_per_year'][i] = data.mileage[i]/(2021.0 - data.productionDate[i])\n",
    "#\n",
    "#    else:\n",
    "#\n",
    "#        data['mileage_per_year'][i] = data.mileage[i]"
   ]
  },
  {
   "cell_type": "code",
   "execution_count": 89,
   "metadata": {
    "execution": {
     "iopub.execute_input": "2022-01-07T09:59:57.779472Z",
     "iopub.status.busy": "2022-01-07T09:59:57.778415Z",
     "iopub.status.idle": "2022-01-07T09:59:57.929505Z",
     "shell.execute_reply": "2022-01-07T09:59:57.928831Z",
     "shell.execute_reply.started": "2022-01-07T09:52:52.983621Z"
    },
    "papermill": {
     "duration": 0.288398,
     "end_time": "2022-01-07T09:59:57.929624",
     "exception": false,
     "start_time": "2022-01-07T09:59:57.641226",
     "status": "completed"
    },
    "tags": []
   },
   "outputs": [
    {
     "name": "stderr",
     "output_type": "stream",
     "text": [
      "/opt/conda/lib/python3.7/site-packages/ipykernel_launcher.py:2: SettingWithCopyWarning: \n",
      "A value is trying to be set on a copy of a slice from a DataFrame.\n",
      "Try using .loc[row_indexer,col_indexer] = value instead\n",
      "\n",
      "See the caveats in the documentation: https://pandas.pydata.org/pandas-docs/stable/user_guide/indexing.html#returning-a-view-versus-a-copy\n",
      "  \n"
     ]
    }
   ],
   "source": [
    "for colum in cat_cols:\n",
    "    train_1[colum] = train_1[colum].astype('category').cat.codes"
   ]
  },
  {
   "cell_type": "code",
   "execution_count": 90,
   "metadata": {
    "execution": {
     "iopub.execute_input": "2022-01-07T09:59:58.205733Z",
     "iopub.status.busy": "2022-01-07T09:59:58.205010Z",
     "iopub.status.idle": "2022-01-07T09:59:58.263633Z",
     "shell.execute_reply": "2022-01-07T09:59:58.262772Z",
     "shell.execute_reply.started": "2022-01-07T09:52:53.145345Z"
    },
    "papermill": {
     "duration": 0.198139,
     "end_time": "2022-01-07T09:59:58.263779",
     "exception": false,
     "start_time": "2022-01-07T09:59:58.065640",
     "status": "completed"
    },
    "tags": []
   },
   "outputs": [
    {
     "name": "stdout",
     "output_type": "stream",
     "text": [
      "{0: 0, 1: 1}\n",
      "{0: 0, 1: 1}\n",
      "{0: 'Дубликат', 1: 'Оригинал'}\n",
      "{0: 'Левый', 1: 'Правый'}\n"
     ]
    },
    {
     "name": "stderr",
     "output_type": "stream",
     "text": [
      "/opt/conda/lib/python3.7/site-packages/ipykernel_launcher.py:3: SettingWithCopyWarning: \n",
      "A value is trying to be set on a copy of a slice from a DataFrame.\n",
      "Try using .loc[row_indexer,col_indexer] = value instead\n",
      "\n",
      "See the caveats in the documentation: https://pandas.pydata.org/pandas-docs/stable/user_guide/indexing.html#returning-a-view-versus-a-copy\n",
      "  This is separate from the ipykernel package so we can avoid doing imports until\n"
     ]
    }
   ],
   "source": [
    "label_encoder = LabelEncoder()\n",
    "for column in bin_cols:\n",
    "    train_1[column] = label_encoder.fit_transform(train_1[column])\n",
    "    print(dict(enumerate(label_encoder.classes_)))"
   ]
  },
  {
   "cell_type": "code",
   "execution_count": 91,
   "metadata": {
    "execution": {
     "iopub.execute_input": "2022-01-07T09:59:58.543965Z",
     "iopub.status.busy": "2022-01-07T09:59:58.543126Z",
     "iopub.status.idle": "2022-01-07T09:59:59.052777Z",
     "shell.execute_reply": "2022-01-07T09:59:59.052160Z",
     "shell.execute_reply.started": "2022-01-07T09:52:53.205994Z"
    },
    "papermill": {
     "duration": 0.65285,
     "end_time": "2022-01-07T09:59:59.052898",
     "exception": false,
     "start_time": "2022-01-07T09:59:58.400048",
     "status": "completed"
    },
    "tags": []
   },
   "outputs": [
    {
     "data": {
      "text/plain": [
       "<matplotlib.axes._subplots.AxesSubplot at 0x7f1469d23d50>"
      ]
     },
     "execution_count": 91,
     "metadata": {},
     "output_type": "execute_result"
    },
    {
     "data": {
      "image/png": "[encoded data removed]",
      "text/plain": [
       "<Figure size 576x396 with 1 Axes>"
      ]
     },
     "metadata": {},
     "output_type": "display_data"
    }
   ],
   "source": [
    "imp_cat = Series(mutual_info_classif(train_1[bin_cols + cat_cols], train_1['price'],\n",
    "                                     discrete_features =True), index = bin_cols + cat_cols)\n",
    "imp_cat.sort_values(inplace = True)\n",
    "imp_cat.plot(kind = 'barh')"
   ]
  },
  {
   "cell_type": "code",
   "execution_count": 92,
   "metadata": {
    "execution": {
     "iopub.execute_input": "2022-01-07T09:59:59.330540Z",
     "iopub.status.busy": "2022-01-07T09:59:59.329441Z",
     "iopub.status.idle": "2022-01-07T09:59:59.332583Z",
     "shell.execute_reply": "2022-01-07T09:59:59.331926Z",
     "shell.execute_reply.started": "2022-01-07T09:52:53.742800Z"
    },
    "papermill": {
     "duration": 0.14497,
     "end_time": "2022-01-07T09:59:59.332703",
     "exception": false,
     "start_time": "2022-01-07T09:59:59.187733",
     "status": "completed"
    },
    "tags": []
   },
   "outputs": [],
   "source": [
    "cat_cols = ['model_name', 'engineDisplacement',\n",
    " 'bodyType',\n",
    " 'brand',\n",
    " 'color',\n",
    " 'vehicleTransmission', 'Привод', 'fuelType','exp_brand']"
   ]
  },
  {
   "cell_type": "code",
   "execution_count": 93,
   "metadata": {
    "execution": {
     "iopub.execute_input": "2022-01-07T09:59:59.613109Z",
     "iopub.status.busy": "2022-01-07T09:59:59.612211Z",
     "iopub.status.idle": "2022-01-07T09:59:59.615775Z",
     "shell.execute_reply": "2022-01-07T09:59:59.615227Z",
     "shell.execute_reply.started": "2022-01-07T09:52:53.749122Z"
    },
    "papermill": {
     "duration": 0.144689,
     "end_time": "2022-01-07T09:59:59.615887",
     "exception": false,
     "start_time": "2022-01-07T09:59:59.471198",
     "status": "completed"
    },
    "tags": []
   },
   "outputs": [],
   "source": [
    "columns = ['model_name',\n",
    " 'engineDisplacement',\n",
    " 'productionDate',\n",
    " 'bodyType',\n",
    " 'brand',\n",
    " 'color',\n",
    " 'vehicleTransmission',\n",
    " 'Привод',\n",
    " 'fuelType',\n",
    " 'mileage_log',\n",
    " 'enginePower',\n",
    " 'exp_brand',\n",
    " 'len_descr',\n",
    " 'sample',\n",
    " 'sell_id',\n",
    " 'price']"
   ]
  },
  {
   "cell_type": "code",
   "execution_count": 94,
   "metadata": {
    "execution": {
     "iopub.execute_input": "2022-01-07T09:59:59.933836Z",
     "iopub.status.busy": "2022-01-07T09:59:59.933049Z",
     "iopub.status.idle": "2022-01-07T09:59:59.936267Z",
     "shell.execute_reply": "2022-01-07T09:59:59.935628Z",
     "shell.execute_reply.started": "2022-01-07T09:52:53.761991Z"
    },
    "papermill": {
     "duration": 0.144234,
     "end_time": "2022-01-07T09:59:59.936380",
     "exception": false,
     "start_time": "2022-01-07T09:59:59.792146",
     "status": "completed"
    },
    "tags": []
   },
   "outputs": [],
   "source": [
    "num_cols = ['productionDate', 'mileage_log', 'enginePower', 'len_descr']"
   ]
  },
  {
   "cell_type": "markdown",
   "metadata": {
    "papermill": {
     "duration": 0.134916,
     "end_time": "2022-01-07T10:00:00.207141",
     "exception": false,
     "start_time": "2022-01-07T10:00:00.072225",
     "status": "completed"
    },
    "tags": []
   },
   "source": [
    "Полиноминальные признаки ничего не дали."
   ]
  },
  {
   "cell_type": "code",
   "execution_count": 95,
   "metadata": {
    "execution": {
     "iopub.execute_input": "2022-01-07T10:00:00.491955Z",
     "iopub.status.busy": "2022-01-07T10:00:00.491244Z",
     "iopub.status.idle": "2022-01-07T10:00:00.494642Z",
     "shell.execute_reply": "2022-01-07T10:00:00.493746Z",
     "shell.execute_reply.started": "2022-01-07T09:52:53.774059Z"
    },
    "papermill": {
     "duration": 0.148833,
     "end_time": "2022-01-07T10:00:00.494777",
     "exception": false,
     "start_time": "2022-01-07T10:00:00.345944",
     "status": "completed"
    },
    "tags": []
   },
   "outputs": [],
   "source": [
    "train_1 = train_1[columns]"
   ]
  },
  {
   "cell_type": "code",
   "execution_count": 96,
   "metadata": {
    "execution": {
     "iopub.execute_input": "2022-01-07T10:00:00.778039Z",
     "iopub.status.busy": "2022-01-07T10:00:00.777279Z",
     "iopub.status.idle": "2022-01-07T10:00:01.713799Z",
     "shell.execute_reply": "2022-01-07T10:00:01.714344Z",
     "shell.execute_reply.started": "2022-01-07T09:52:53.792461Z"
    },
    "papermill": {
     "duration": 1.083109,
     "end_time": "2022-01-07T10:00:01.714503",
     "exception": false,
     "start_time": "2022-01-07T10:00:00.631394",
     "status": "completed"
    },
    "tags": []
   },
   "outputs": [
    {
     "data": {
      "text/plain": [
       "<matplotlib.axes._subplots.AxesSubplot at 0x7f146a804450>"
      ]
     },
     "execution_count": 96,
     "metadata": {},
     "output_type": "execute_result"
    },
    {
     "data": {
      "image/png": "[encoded data removed]",
      "text/plain": [
       "<Figure size 864x864 with 1 Axes>"
      ]
     },
     "metadata": {},
     "output_type": "display_data"
    }
   ],
   "source": [
    "plt.rcParams['figure.figsize'] = (12,12)\n",
    "sns.heatmap(train_1.drop(['sample'], axis=1).corr().abs(),annot=True, fmt=\".2f\", linewidths=0.1, cbar=False)"
   ]
  },
  {
   "cell_type": "code",
   "execution_count": 97,
   "metadata": {
    "execution": {
     "iopub.execute_input": "2022-01-07T10:00:02.000738Z",
     "iopub.status.busy": "2022-01-07T10:00:01.999673Z",
     "iopub.status.idle": "2022-01-07T10:00:02.004415Z",
     "shell.execute_reply": "2022-01-07T10:00:02.004931Z",
     "shell.execute_reply.started": "2022-01-07T09:52:54.722672Z"
    },
    "papermill": {
     "duration": 0.149917,
     "end_time": "2022-01-07T10:00:02.005095",
     "exception": false,
     "start_time": "2022-01-07T10:00:01.855178",
     "status": "completed"
    },
    "tags": []
   },
   "outputs": [],
   "source": [
    "columns.remove('engineDisplacement')"
   ]
  },
  {
   "cell_type": "code",
   "execution_count": 98,
   "metadata": {
    "execution": {
     "iopub.execute_input": "2022-01-07T10:00:02.292103Z",
     "iopub.status.busy": "2022-01-07T10:00:02.291064Z",
     "iopub.status.idle": "2022-01-07T10:00:02.295338Z",
     "shell.execute_reply": "2022-01-07T10:00:02.295836Z",
     "shell.execute_reply.started": "2022-01-07T09:52:54.730562Z"
    },
    "papermill": {
     "duration": 0.150154,
     "end_time": "2022-01-07T10:00:02.295989",
     "exception": false,
     "start_time": "2022-01-07T10:00:02.145835",
     "status": "completed"
    },
    "tags": []
   },
   "outputs": [],
   "source": [
    "cat_cols.remove('engineDisplacement')"
   ]
  },
  {
   "cell_type": "markdown",
   "metadata": {
    "papermill": {
     "duration": 0.138847,
     "end_time": "2022-01-07T10:00:02.574696",
     "exception": false,
     "start_time": "2022-01-07T10:00:02.435849",
     "status": "completed"
    },
    "tags": []
   },
   "source": [
    "## Data Preprocessing"
   ]
  },
  {
   "cell_type": "code",
   "execution_count": 99,
   "metadata": {
    "execution": {
     "iopub.execute_input": "2022-01-07T10:00:02.860033Z",
     "iopub.status.busy": "2022-01-07T10:00:02.858906Z",
     "iopub.status.idle": "2022-01-07T10:00:02.877619Z",
     "shell.execute_reply": "2022-01-07T10:00:02.878181Z",
     "shell.execute_reply.started": "2022-01-07T09:52:54.743253Z"
    },
    "papermill": {
     "duration": 0.162923,
     "end_time": "2022-01-07T10:00:02.878327",
     "exception": false,
     "start_time": "2022-01-07T10:00:02.715404",
     "status": "completed"
    },
    "tags": []
   },
   "outputs": [],
   "source": [
    "data = data[cat_cols+num_cols+cols]"
   ]
  },
  {
   "cell_type": "code",
   "execution_count": 100,
   "metadata": {
    "execution": {
     "iopub.execute_input": "2022-01-07T10:00:03.163523Z",
     "iopub.status.busy": "2022-01-07T10:00:03.162441Z",
     "iopub.status.idle": "2022-01-07T10:00:03.179816Z",
     "shell.execute_reply": "2022-01-07T10:00:03.180347Z",
     "shell.execute_reply.started": "2022-01-07T09:52:54.772567Z"
    },
    "papermill": {
     "duration": 0.161581,
     "end_time": "2022-01-07T10:00:03.180506",
     "exception": false,
     "start_time": "2022-01-07T10:00:03.018925",
     "status": "completed"
    },
    "tags": []
   },
   "outputs": [],
   "source": [
    "train = data[data['sample'] == 1] # помечаем где у нас трейн\n",
    "test = data[data['sample'] == 0] # помечаем где у нас тест"
   ]
  },
  {
   "cell_type": "code",
   "execution_count": 101,
   "metadata": {
    "execution": {
     "iopub.execute_input": "2022-01-07T10:00:03.470692Z",
     "iopub.status.busy": "2022-01-07T10:00:03.469846Z",
     "iopub.status.idle": "2022-01-07T10:00:03.488255Z",
     "shell.execute_reply": "2022-01-07T10:00:03.487611Z",
     "shell.execute_reply.started": "2022-01-07T09:52:54.795989Z"
    },
    "papermill": {
     "duration": 0.167937,
     "end_time": "2022-01-07T10:00:03.488369",
     "exception": false,
     "start_time": "2022-01-07T10:00:03.320432",
     "status": "completed"
    },
    "tags": []
   },
   "outputs": [
    {
     "name": "stderr",
     "output_type": "stream",
     "text": [
      "/opt/conda/lib/python3.7/site-packages/ipykernel_launcher.py:1: SettingWithCopyWarning: \n",
      "A value is trying to be set on a copy of a slice from a DataFrame\n",
      "\n",
      "See the caveats in the documentation: https://pandas.pydata.org/pandas-docs/stable/user_guide/indexing.html#returning-a-view-versus-a-copy\n",
      "  \"\"\"Entry point for launching an IPython kernel.\n",
      "/opt/conda/lib/python3.7/site-packages/ipykernel_launcher.py:2: SettingWithCopyWarning: \n",
      "A value is trying to be set on a copy of a slice from a DataFrame\n",
      "\n",
      "See the caveats in the documentation: https://pandas.pydata.org/pandas-docs/stable/user_guide/indexing.html#returning-a-view-versus-a-copy\n",
      "  \n"
     ]
    }
   ],
   "source": [
    "train.dropna(subset=['productionDate','mileage_log'], inplace=True)\n",
    "train.dropna(subset=['price'], inplace=True)"
   ]
  },
  {
   "cell_type": "code",
   "execution_count": 102,
   "metadata": {
    "execution": {
     "iopub.execute_input": "2022-01-07T10:00:03.774846Z",
     "iopub.status.busy": "2022-01-07T10:00:03.774148Z",
     "iopub.status.idle": "2022-01-07T10:00:03.785248Z",
     "shell.execute_reply": "2022-01-07T10:00:03.784565Z",
     "shell.execute_reply.started": "2022-01-07T09:52:54.824119Z"
    },
    "papermill": {
     "duration": 0.157165,
     "end_time": "2022-01-07T10:00:03.785364",
     "exception": false,
     "start_time": "2022-01-07T10:00:03.628199",
     "status": "completed"
    },
    "tags": []
   },
   "outputs": [],
   "source": [
    "# для baseline просто возьму пару схожих признаков без полной обработки\n",
    "columns = columns\n",
    "df_train = train[columns]\n",
    "df_test = test[columns]"
   ]
  },
  {
   "cell_type": "code",
   "execution_count": 103,
   "metadata": {
    "execution": {
     "iopub.execute_input": "2022-01-07T10:00:04.076142Z",
     "iopub.status.busy": "2022-01-07T10:00:04.075226Z",
     "iopub.status.idle": "2022-01-07T10:00:04.078463Z",
     "shell.execute_reply": "2022-01-07T10:00:04.077910Z",
     "shell.execute_reply.started": "2022-01-07T09:52:54.839879Z"
    },
    "papermill": {
     "duration": 0.149031,
     "end_time": "2022-01-07T10:00:04.078602",
     "exception": false,
     "start_time": "2022-01-07T10:00:03.929571",
     "status": "completed"
    },
    "tags": []
   },
   "outputs": [],
   "source": [
    "y = train['price']"
   ]
  },
  {
   "cell_type": "markdown",
   "metadata": {
    "papermill": {
     "duration": 0.139988,
     "end_time": "2022-01-07T10:00:04.358687",
     "exception": false,
     "start_time": "2022-01-07T10:00:04.218699",
     "status": "completed"
    },
    "tags": []
   },
   "source": [
    "## Label Encoding"
   ]
  },
  {
   "cell_type": "code",
   "execution_count": 104,
   "metadata": {
    "execution": {
     "iopub.execute_input": "2022-01-07T10:00:04.648202Z",
     "iopub.status.busy": "2022-01-07T10:00:04.647518Z",
     "iopub.status.idle": "2022-01-07T10:00:04.677401Z",
     "shell.execute_reply": "2022-01-07T10:00:04.677949Z",
     "shell.execute_reply.started": "2022-01-07T09:52:54.848561Z"
    },
    "papermill": {
     "duration": 0.175752,
     "end_time": "2022-01-07T10:00:04.678095",
     "exception": false,
     "start_time": "2022-01-07T10:00:04.502343",
     "status": "completed"
    },
    "tags": []
   },
   "outputs": [],
   "source": [
    "# ВАЖНО! дря корректной обработки признаков объединяем трейн и тест в один датасет\n",
    "df_train['sample'] = 1 # помечаем где у нас трейн\n",
    "df_test['sample'] = 0 # помечаем где у нас тест\n",
    "\n",
    "data = df_test.append(df_train, sort=False).reset_index(drop=True) # объединяем"
   ]
  },
  {
   "cell_type": "code",
   "execution_count": 105,
   "metadata": {
    "execution": {
     "iopub.execute_input": "2022-01-07T10:00:04.972009Z",
     "iopub.status.busy": "2022-01-07T10:00:04.970939Z",
     "iopub.status.idle": "2022-01-07T10:00:05.054152Z",
     "shell.execute_reply": "2022-01-07T10:00:05.053387Z",
     "shell.execute_reply.started": "2022-01-07T09:52:54.994470Z"
    },
    "papermill": {
     "duration": 0.234884,
     "end_time": "2022-01-07T10:00:05.054274",
     "exception": false,
     "start_time": "2022-01-07T10:00:04.819390",
     "status": "completed"
    },
    "tags": []
   },
   "outputs": [],
   "source": [
    "for colum in cat_cols:\n",
    "    data[colum] = data[colum].astype('category').cat.codes"
   ]
  },
  {
   "cell_type": "code",
   "execution_count": 106,
   "metadata": {
    "execution": {
     "iopub.execute_input": "2022-01-07T10:00:05.343707Z",
     "iopub.status.busy": "2022-01-07T10:00:05.343023Z",
     "iopub.status.idle": "2022-01-07T10:00:05.370732Z",
     "shell.execute_reply": "2022-01-07T10:00:05.370025Z",
     "shell.execute_reply.started": "2022-01-07T09:52:55.086122Z"
    },
    "papermill": {
     "duration": 0.174055,
     "end_time": "2022-01-07T10:00:05.370858",
     "exception": false,
     "start_time": "2022-01-07T10:00:05.196803",
     "status": "completed"
    },
    "tags": []
   },
   "outputs": [
    {
     "data": {
      "text/html": [
       "<div>\n",
       "<style scoped>\n",
       "    .dataframe tbody tr th:only-of-type {\n",
       "        vertical-align: middle;\n",
       "    }\n",
       "\n",
       "    .dataframe tbody tr th {\n",
       "        vertical-align: top;\n",
       "    }\n",
       "\n",
       "    .dataframe thead th {\n",
       "        text-align: right;\n",
       "    }\n",
       "</style>\n",
       "<table border=\"1\" class=\"dataframe\">\n",
       "  <thead>\n",
       "    <tr style=\"text-align: right;\">\n",
       "      <th></th>\n",
       "      <th>model_name</th>\n",
       "      <th>productionDate</th>\n",
       "      <th>bodyType</th>\n",
       "      <th>brand</th>\n",
       "      <th>color</th>\n",
       "      <th>vehicleTransmission</th>\n",
       "      <th>Привод</th>\n",
       "      <th>fuelType</th>\n",
       "      <th>mileage_log</th>\n",
       "      <th>enginePower</th>\n",
       "      <th>exp_brand</th>\n",
       "      <th>len_descr</th>\n",
       "      <th>sample</th>\n",
       "      <th>sell_id</th>\n",
       "      <th>price</th>\n",
       "    </tr>\n",
       "  </thead>\n",
       "  <tbody>\n",
       "    <tr>\n",
       "      <th>0</th>\n",
       "      <td>360</td>\n",
       "      <td>2014.0</td>\n",
       "      <td>4</td>\n",
       "      <td>8</td>\n",
       "      <td>13</td>\n",
       "      <td>3</td>\n",
       "      <td>1</td>\n",
       "      <td>0</td>\n",
       "      <td>11.211834</td>\n",
       "      <td>105.0</td>\n",
       "      <td>0</td>\n",
       "      <td>6.909753</td>\n",
       "      <td>0</td>\n",
       "      <td>1100575026</td>\n",
       "      <td>0.0</td>\n",
       "    </tr>\n",
       "    <tr>\n",
       "      <th>1</th>\n",
       "      <td>360</td>\n",
       "      <td>2017.0</td>\n",
       "      <td>4</td>\n",
       "      <td>8</td>\n",
       "      <td>15</td>\n",
       "      <td>2</td>\n",
       "      <td>1</td>\n",
       "      <td>0</td>\n",
       "      <td>11.011456</td>\n",
       "      <td>110.0</td>\n",
       "      <td>0</td>\n",
       "      <td>7.867106</td>\n",
       "      <td>0</td>\n",
       "      <td>1100549428</td>\n",
       "      <td>0.0</td>\n",
       "    </tr>\n",
       "    <tr>\n",
       "      <th>2</th>\n",
       "      <td>519</td>\n",
       "      <td>2014.0</td>\n",
       "      <td>4</td>\n",
       "      <td>8</td>\n",
       "      <td>12</td>\n",
       "      <td>3</td>\n",
       "      <td>1</td>\n",
       "      <td>0</td>\n",
       "      <td>11.385103</td>\n",
       "      <td>152.0</td>\n",
       "      <td>0</td>\n",
       "      <td>6.909753</td>\n",
       "      <td>0</td>\n",
       "      <td>1100658222</td>\n",
       "      <td>0.0</td>\n",
       "    </tr>\n",
       "    <tr>\n",
       "      <th>3</th>\n",
       "      <td>360</td>\n",
       "      <td>2014.0</td>\n",
       "      <td>4</td>\n",
       "      <td>8</td>\n",
       "      <td>6</td>\n",
       "      <td>0</td>\n",
       "      <td>1</td>\n",
       "      <td>0</td>\n",
       "      <td>11.461643</td>\n",
       "      <td>110.0</td>\n",
       "      <td>0</td>\n",
       "      <td>7.424762</td>\n",
       "      <td>0</td>\n",
       "      <td>1100937408</td>\n",
       "      <td>0.0</td>\n",
       "    </tr>\n",
       "    <tr>\n",
       "      <th>4</th>\n",
       "      <td>360</td>\n",
       "      <td>2012.0</td>\n",
       "      <td>4</td>\n",
       "      <td>8</td>\n",
       "      <td>1</td>\n",
       "      <td>0</td>\n",
       "      <td>1</td>\n",
       "      <td>0</td>\n",
       "      <td>10.977414</td>\n",
       "      <td>152.0</td>\n",
       "      <td>0</td>\n",
       "      <td>7.768956</td>\n",
       "      <td>0</td>\n",
       "      <td>1101037972</td>\n",
       "      <td>0.0</td>\n",
       "    </tr>\n",
       "    <tr>\n",
       "      <th>...</th>\n",
       "      <td>...</td>\n",
       "      <td>...</td>\n",
       "      <td>...</td>\n",
       "      <td>...</td>\n",
       "      <td>...</td>\n",
       "      <td>...</td>\n",
       "      <td>...</td>\n",
       "      <td>...</td>\n",
       "      <td>...</td>\n",
       "      <td>...</td>\n",
       "      <td>...</td>\n",
       "      <td>...</td>\n",
       "      <td>...</td>\n",
       "      <td>...</td>\n",
       "      <td>...</td>\n",
       "    </tr>\n",
       "    <tr>\n",
       "      <th>83064</th>\n",
       "      <td>294</td>\n",
       "      <td>2008.0</td>\n",
       "      <td>7</td>\n",
       "      <td>6</td>\n",
       "      <td>0</td>\n",
       "      <td>0</td>\n",
       "      <td>1</td>\n",
       "      <td>0</td>\n",
       "      <td>12.170451</td>\n",
       "      <td>109.0</td>\n",
       "      <td>0</td>\n",
       "      <td>6.481577</td>\n",
       "      <td>1</td>\n",
       "      <td>0</td>\n",
       "      <td>416000.0</td>\n",
       "    </tr>\n",
       "    <tr>\n",
       "      <th>83065</th>\n",
       "      <td>374</td>\n",
       "      <td>2014.0</td>\n",
       "      <td>1</td>\n",
       "      <td>6</td>\n",
       "      <td>11</td>\n",
       "      <td>0</td>\n",
       "      <td>2</td>\n",
       "      <td>3</td>\n",
       "      <td>11.302217</td>\n",
       "      <td>178.0</td>\n",
       "      <td>0</td>\n",
       "      <td>6.872128</td>\n",
       "      <td>1</td>\n",
       "      <td>0</td>\n",
       "      <td>1512000.0</td>\n",
       "    </tr>\n",
       "    <tr>\n",
       "      <th>83066</th>\n",
       "      <td>368</td>\n",
       "      <td>2007.0</td>\n",
       "      <td>1</td>\n",
       "      <td>6</td>\n",
       "      <td>12</td>\n",
       "      <td>2</td>\n",
       "      <td>2</td>\n",
       "      <td>3</td>\n",
       "      <td>12.487489</td>\n",
       "      <td>156.0</td>\n",
       "      <td>0</td>\n",
       "      <td>5.934894</td>\n",
       "      <td>1</td>\n",
       "      <td>0</td>\n",
       "      <td>720000.0</td>\n",
       "    </tr>\n",
       "    <tr>\n",
       "      <th>83067</th>\n",
       "      <td>225</td>\n",
       "      <td>1989.0</td>\n",
       "      <td>11</td>\n",
       "      <td>6</td>\n",
       "      <td>11</td>\n",
       "      <td>0</td>\n",
       "      <td>1</td>\n",
       "      <td>0</td>\n",
       "      <td>12.694656</td>\n",
       "      <td>86.0</td>\n",
       "      <td>0</td>\n",
       "      <td>5.393628</td>\n",
       "      <td>1</td>\n",
       "      <td>0</td>\n",
       "      <td>64000.0</td>\n",
       "    </tr>\n",
       "    <tr>\n",
       "      <th>83068</th>\n",
       "      <td>172</td>\n",
       "      <td>2002.0</td>\n",
       "      <td>7</td>\n",
       "      <td>6</td>\n",
       "      <td>15</td>\n",
       "      <td>0</td>\n",
       "      <td>1</td>\n",
       "      <td>0</td>\n",
       "      <td>12.049425</td>\n",
       "      <td>230.0</td>\n",
       "      <td>0</td>\n",
       "      <td>4.605170</td>\n",
       "      <td>1</td>\n",
       "      <td>0</td>\n",
       "      <td>392000.0</td>\n",
       "    </tr>\n",
       "  </tbody>\n",
       "</table>\n",
       "<p>83069 rows × 15 columns</p>\n",
       "</div>"
      ],
      "text/plain": [
       "       model_name  productionDate  bodyType  brand  color  \\\n",
       "0             360          2014.0         4      8     13   \n",
       "1             360          2017.0         4      8     15   \n",
       "2             519          2014.0         4      8     12   \n",
       "3             360          2014.0         4      8      6   \n",
       "4             360          2012.0         4      8      1   \n",
       "...           ...             ...       ...    ...    ...   \n",
       "83064         294          2008.0         7      6      0   \n",
       "83065         374          2014.0         1      6     11   \n",
       "83066         368          2007.0         1      6     12   \n",
       "83067         225          1989.0        11      6     11   \n",
       "83068         172          2002.0         7      6     15   \n",
       "\n",
       "       vehicleTransmission  Привод  fuelType  mileage_log  enginePower  \\\n",
       "0                        3       1         0    11.211834        105.0   \n",
       "1                        2       1         0    11.011456        110.0   \n",
       "2                        3       1         0    11.385103        152.0   \n",
       "3                        0       1         0    11.461643        110.0   \n",
       "4                        0       1         0    10.977414        152.0   \n",
       "...                    ...     ...       ...          ...          ...   \n",
       "83064                    0       1         0    12.170451        109.0   \n",
       "83065                    0       2         3    11.302217        178.0   \n",
       "83066                    2       2         3    12.487489        156.0   \n",
       "83067                    0       1         0    12.694656         86.0   \n",
       "83068                    0       1         0    12.049425        230.0   \n",
       "\n",
       "       exp_brand  len_descr  sample     sell_id      price  \n",
       "0              0   6.909753       0  1100575026        0.0  \n",
       "1              0   7.867106       0  1100549428        0.0  \n",
       "2              0   6.909753       0  1100658222        0.0  \n",
       "3              0   7.424762       0  1100937408        0.0  \n",
       "4              0   7.768956       0  1101037972        0.0  \n",
       "...          ...        ...     ...         ...        ...  \n",
       "83064          0   6.481577       1           0   416000.0  \n",
       "83065          0   6.872128       1           0  1512000.0  \n",
       "83066          0   5.934894       1           0   720000.0  \n",
       "83067          0   5.393628       1           0    64000.0  \n",
       "83068          0   4.605170       1           0   392000.0  \n",
       "\n",
       "[83069 rows x 15 columns]"
      ]
     },
     "execution_count": 106,
     "metadata": {},
     "output_type": "execute_result"
    }
   ],
   "source": [
    "data"
   ]
  },
  {
   "cell_type": "code",
   "execution_count": 107,
   "metadata": {
    "execution": {
     "iopub.execute_input": "2022-01-07T10:00:05.670333Z",
     "iopub.status.busy": "2022-01-07T10:00:05.669686Z",
     "iopub.status.idle": "2022-01-07T10:00:05.695766Z",
     "shell.execute_reply": "2022-01-07T10:00:05.696325Z",
     "shell.execute_reply.started": "2022-01-07T09:52:55.117670Z"
    },
    "papermill": {
     "duration": 0.185118,
     "end_time": "2022-01-07T10:00:05.696478",
     "exception": false,
     "start_time": "2022-01-07T10:00:05.511360",
     "status": "completed"
    },
    "tags": []
   },
   "outputs": [],
   "source": [
    "X = data.query('sample == 1').drop(['sample','price'], axis=1)\n",
    "X_sub = data.query('sample == 0').drop(['sample', 'price'], axis=1)"
   ]
  },
  {
   "cell_type": "markdown",
   "metadata": {
    "papermill": {
     "duration": 0.139485,
     "end_time": "2022-01-07T10:00:05.975413",
     "exception": false,
     "start_time": "2022-01-07T10:00:05.835928",
     "status": "completed"
    },
    "tags": []
   },
   "source": [
    "## Train Split"
   ]
  },
  {
   "cell_type": "code",
   "execution_count": 108,
   "metadata": {
    "execution": {
     "iopub.execute_input": "2022-01-07T10:00:06.258838Z",
     "iopub.status.busy": "2022-01-07T10:00:06.258187Z",
     "iopub.status.idle": "2022-01-07T10:00:06.270467Z",
     "shell.execute_reply": "2022-01-07T10:00:06.271058Z",
     "shell.execute_reply.started": "2022-01-07T09:52:55.146710Z"
    },
    "papermill": {
     "duration": 0.15516,
     "end_time": "2022-01-07T10:00:06.271265",
     "exception": false,
     "start_time": "2022-01-07T10:00:06.116105",
     "status": "completed"
    },
    "tags": []
   },
   "outputs": [],
   "source": [
    "X_train, X_test, y_train, y_test = train_test_split(X, y, test_size=VAL_SIZE, shuffle=True, random_state=RANDOM_SEED)"
   ]
  },
  {
   "cell_type": "code",
   "execution_count": null,
   "metadata": {
    "papermill": {
     "duration": 0.143451,
     "end_time": "2022-01-07T10:00:06.556821",
     "exception": false,
     "start_time": "2022-01-07T10:00:06.413370",
     "status": "completed"
    },
    "tags": []
   },
   "outputs": [],
   "source": []
  },
  {
   "cell_type": "markdown",
   "metadata": {
    "papermill": {
     "duration": 0.139055,
     "end_time": "2022-01-07T10:00:06.835148",
     "exception": false,
     "start_time": "2022-01-07T10:00:06.696093",
     "status": "completed"
    },
    "tags": []
   },
   "source": [
    "# Model 1: Создадим \"наивную\" модель \n",
    "Эта модель будет предсказывать среднюю цену по модели двигателя (engineDisplacement). \n",
    "C ней будем сравнивать другие модели.\n",
    "\n",
    "\n"
   ]
  },
  {
   "cell_type": "code",
   "execution_count": 109,
   "metadata": {
    "execution": {
     "iopub.execute_input": "2022-01-07T10:00:07.119471Z",
     "iopub.status.busy": "2022-01-07T10:00:07.118836Z",
     "iopub.status.idle": "2022-01-07T10:00:07.121643Z",
     "shell.execute_reply": "2022-01-07T10:00:07.122125Z",
     "shell.execute_reply.started": "2022-01-07T09:52:55.163903Z"
    },
    "papermill": {
     "duration": 0.146305,
     "end_time": "2022-01-07T10:00:07.122268",
     "exception": false,
     "start_time": "2022-01-07T10:00:06.975963",
     "status": "completed"
    },
    "tags": []
   },
   "outputs": [],
   "source": [
    "#tmp_train = X_train.copy()\n",
    "#tmp_train['price'] = y_train"
   ]
  },
  {
   "cell_type": "code",
   "execution_count": 110,
   "metadata": {
    "execution": {
     "iopub.execute_input": "2022-01-07T10:00:07.405751Z",
     "iopub.status.busy": "2022-01-07T10:00:07.405046Z",
     "iopub.status.idle": "2022-01-07T10:00:07.408102Z",
     "shell.execute_reply": "2022-01-07T10:00:07.408643Z",
     "shell.execute_reply.started": "2022-01-07T09:52:55.170002Z"
    },
    "papermill": {
     "duration": 0.147379,
     "end_time": "2022-01-07T10:00:07.408790",
     "exception": false,
     "start_time": "2022-01-07T10:00:07.261411",
     "status": "completed"
    },
    "tags": []
   },
   "outputs": [],
   "source": [
    "# Находим median по экземплярам engineDisplacement в трейне и размечаем тест\n",
    "#predict = X_test['engineDisplacement'].map(tmp_train.groupby('engineDisplacement')['price'].median())\n",
    "\n",
    "#оцениваем точность\n",
    "#print(f\"Точность наивной модели по метрике MAPE: {(mape(y_test, predict.values))*100:0.2f}%\")"
   ]
  },
  {
   "cell_type": "markdown",
   "metadata": {
    "papermill": {
     "duration": 0.13922,
     "end_time": "2022-01-07T10:00:07.687503",
     "exception": false,
     "start_time": "2022-01-07T10:00:07.548283",
     "status": "completed"
    },
    "tags": []
   },
   "source": [
    "# # Model 2 : CatBoost\n",
    "![](https://pbs.twimg.com/media/DP-jUCyXcAArRTo.png:large)   \n",
    "\n",
    "\n",
    "У нас в данных практически все признаки категориальные. Специально для работы с такими данными была создана очень удобная библиотека CatBoost от Яндекса. [https://catboost.ai](http://)     \n",
    "На данный момент **CatBoost является одной из лучших библиотек для табличных данных!**\n",
    "\n",
    "#### Полезные видео о CatBoost (на русском):\n",
    "* [Доклад про CatBoost](https://youtu.be/9ZrfErvm97M)\n",
    "* [Свежий Туториал от команды CatBoost (практическая часть)](https://youtu.be/wQt4kgAOgV0) "
   ]
  },
  {
   "cell_type": "markdown",
   "metadata": {
    "papermill": {
     "duration": 0.163534,
     "end_time": "2022-01-07T10:00:07.991117",
     "exception": false,
     "start_time": "2022-01-07T10:00:07.827583",
     "status": "completed"
    },
    "tags": []
   },
   "source": [
    "## Fit"
   ]
  },
  {
   "cell_type": "code",
   "execution_count": 111,
   "metadata": {
    "execution": {
     "iopub.execute_input": "2022-01-07T10:00:08.326651Z",
     "iopub.status.busy": "2022-01-07T10:00:08.325800Z",
     "iopub.status.idle": "2022-01-07T10:00:39.709640Z",
     "shell.execute_reply": "2022-01-07T10:00:39.710152Z",
     "shell.execute_reply.started": "2022-01-07T09:52:55.183031Z"
    },
    "papermill": {
     "duration": 31.542619,
     "end_time": "2022-01-07T10:00:39.710314",
     "exception": false,
     "start_time": "2022-01-07T10:00:08.167695",
     "status": "completed"
    },
    "tags": []
   },
   "outputs": [],
   "source": [
    "model = CatBoostRegressor(iterations = 5000,\n",
    "                          random_seed = RANDOM_SEED,\n",
    "                          eval_metric='MAPE',\n",
    "                          custom_metric=['R2', 'MAE'],\n",
    "                          silent=True,\n",
    "                         )\n",
    "model.fit(X_train, y_train,\n",
    "         #cat_features=cat_features_ids,\n",
    "         eval_set=(X_test, y_test),\n",
    "         verbose_eval=0,\n",
    "         use_best_model=True,\n",
    "         #plot=True\n",
    "         )\n",
    "\n",
    "model.save_model('catboost_single_model_baseline.model')"
   ]
  },
  {
   "cell_type": "code",
   "execution_count": 112,
   "metadata": {
    "execution": {
     "iopub.execute_input": "2022-01-07T10:00:39.997565Z",
     "iopub.status.busy": "2022-01-07T10:00:39.996879Z",
     "iopub.status.idle": "2022-01-07T10:00:40.032394Z",
     "shell.execute_reply": "2022-01-07T10:00:40.031825Z",
     "shell.execute_reply.started": "2022-01-07T09:53:27.227596Z"
    },
    "papermill": {
     "duration": 0.179997,
     "end_time": "2022-01-07T10:00:40.032546",
     "exception": false,
     "start_time": "2022-01-07T10:00:39.852549",
     "status": "completed"
    },
    "tags": []
   },
   "outputs": [
    {
     "name": "stdout",
     "output_type": "stream",
     "text": [
      "Точность модели по метрике MAPE: 18.29%\n"
     ]
    }
   ],
   "source": [
    "# оцениваем точность\n",
    "predict = model.predict(X_test)\n",
    "print(f\"Точность модели по метрике MAPE: {(mape(y_test, predict))*100:0.2f}%\")"
   ]
  },
  {
   "cell_type": "markdown",
   "metadata": {
    "papermill": {
     "duration": 0.160277,
     "end_time": "2022-01-07T10:00:40.341754",
     "exception": false,
     "start_time": "2022-01-07T10:00:40.181477",
     "status": "completed"
    },
    "tags": []
   },
   "source": [
    "Вот так просто со старта, даже не трогая сами данные и не подбирая настройки catboosta, получаем модель с уровнем ошибки в 18%!"
   ]
  },
  {
   "cell_type": "markdown",
   "metadata": {
    "papermill": {
     "duration": 0.139489,
     "end_time": "2022-01-07T10:00:40.643538",
     "exception": false,
     "start_time": "2022-01-07T10:00:40.504049",
     "status": "completed"
    },
    "tags": []
   },
   "source": [
    "### Log Traget\n",
    "Попробуем взять таргет в логорифм - это позволит уменьшить влияние выбросов на обучение модели (используем для этого np.log и np.exp).    \n",
    "В принциепе мы можем использовать любое приобразование на целевую переменную. Например деление на курс доллара, евро или гречки :) в дату сбора данных, смотрим дату парсинга в тесте в **parsing_unixtime**"
   ]
  },
  {
   "cell_type": "code",
   "execution_count": 113,
   "metadata": {
    "execution": {
     "iopub.execute_input": "2022-01-07T10:00:40.934000Z",
     "iopub.status.busy": "2022-01-07T10:00:40.933246Z",
     "iopub.status.idle": "2022-01-07T10:00:40.941683Z",
     "shell.execute_reply": "2022-01-07T10:00:40.941011Z",
     "shell.execute_reply.started": "2022-01-07T09:53:27.264778Z"
    },
    "papermill": {
     "duration": 0.157147,
     "end_time": "2022-01-07T10:00:40.941802",
     "exception": false,
     "start_time": "2022-01-07T10:00:40.784655",
     "status": "completed"
    },
    "tags": []
   },
   "outputs": [
    {
     "data": {
      "text/plain": [
       "44532    13.631588\n",
       "56268    13.714585\n",
       "73071    13.114331\n",
       "38036    11.982929\n",
       "47039    13.235692\n",
       "           ...    \n",
       "45970    13.530492\n",
       "79418    13.847009\n",
       "72844    12.994530\n",
       "35546    14.105191\n",
       "50481    14.319916\n",
       "Name: price, Length: 38706, dtype: float64"
      ]
     },
     "execution_count": 113,
     "metadata": {},
     "output_type": "execute_result"
    }
   ],
   "source": [
    "np.log(y_train)"
   ]
  },
  {
   "cell_type": "code",
   "execution_count": 114,
   "metadata": {
    "execution": {
     "iopub.execute_input": "2022-01-07T10:00:41.243500Z",
     "iopub.status.busy": "2022-01-07T10:00:41.242521Z",
     "iopub.status.idle": "2022-01-07T10:01:13.458627Z",
     "shell.execute_reply": "2022-01-07T10:01:13.457975Z",
     "shell.execute_reply.started": "2022-01-07T09:53:27.283123Z"
    },
    "papermill": {
     "duration": 32.370439,
     "end_time": "2022-01-07T10:01:13.458794",
     "exception": false,
     "start_time": "2022-01-07T10:00:41.088355",
     "status": "completed"
    },
    "tags": []
   },
   "outputs": [],
   "source": [
    "model = CatBoostRegressor(iterations = 5000,\n",
    "                          random_seed = RANDOM_SEED,\n",
    "                          eval_metric='MAPE',\n",
    "                          custom_metric=['R2', 'MAE'],\n",
    "                          silent=True,\n",
    "                         )\n",
    "model.fit(X_train, np.log(y_train),\n",
    "         #cat_features=cat_features_ids,\n",
    "         eval_set=(X_test, np.log(y_test)),\n",
    "         verbose_eval=0,\n",
    "         use_best_model=True,\n",
    "         #plot=True\n",
    "         )\n",
    "\n",
    "model.save_model('catboost_single_model_2_baseline.model')"
   ]
  },
  {
   "cell_type": "code",
   "execution_count": 115,
   "metadata": {
    "execution": {
     "iopub.execute_input": "2022-01-07T10:01:13.751650Z",
     "iopub.status.busy": "2022-01-07T10:01:13.750616Z",
     "iopub.status.idle": "2022-01-07T10:01:13.789781Z",
     "shell.execute_reply": "2022-01-07T10:01:13.788205Z",
     "shell.execute_reply.started": "2022-01-07T09:53:59.748616Z"
    },
    "papermill": {
     "duration": 0.186898,
     "end_time": "2022-01-07T10:01:13.789963",
     "exception": false,
     "start_time": "2022-01-07T10:01:13.603065",
     "status": "completed"
    },
    "tags": []
   },
   "outputs": [],
   "source": [
    "predict_test = np.exp(model.predict(X_test))\n",
    "#predict_submission = np.exp(model.predict(X_sub))"
   ]
  },
  {
   "cell_type": "code",
   "execution_count": 116,
   "metadata": {
    "execution": {
     "iopub.execute_input": "2022-01-07T10:01:14.089549Z",
     "iopub.status.busy": "2022-01-07T10:01:14.088830Z",
     "iopub.status.idle": "2022-01-07T10:01:14.094302Z",
     "shell.execute_reply": "2022-01-07T10:01:14.093573Z",
     "shell.execute_reply.started": "2022-01-07T09:53:59.781017Z"
    },
    "papermill": {
     "duration": 0.153824,
     "end_time": "2022-01-07T10:01:14.094465",
     "exception": false,
     "start_time": "2022-01-07T10:01:13.940641",
     "status": "completed"
    },
    "tags": []
   },
   "outputs": [
    {
     "name": "stdout",
     "output_type": "stream",
     "text": [
      "Точность модели по метрике MAPE: 15.55%\n"
     ]
    }
   ],
   "source": [
    "print(f\"Точность модели по метрике MAPE: {(mape(y_test, predict_test))*100:0.2f}%\")"
   ]
  },
  {
   "cell_type": "markdown",
   "metadata": {
    "papermill": {
     "duration": 0.140902,
     "end_time": "2022-01-07T10:01:14.378854",
     "exception": false,
     "start_time": "2022-01-07T10:01:14.237952",
     "status": "completed"
    },
    "tags": []
   },
   "source": [
    "Как видим точность возросла до 15%"
   ]
  },
  {
   "cell_type": "markdown",
   "metadata": {
    "_kg_hide-input": true,
    "papermill": {
     "duration": 0.141074,
     "end_time": "2022-01-07T10:01:14.660730",
     "exception": false,
     "start_time": "2022-01-07T10:01:14.519656",
     "status": "completed"
    },
    "tags": []
   },
   "source": [
    "ExtraTreesRegressor\n",
    "\n",
    "reg = ExtraTreesRegressor(n_estimators=100, random_state=42).fit(X_train, np.log(y_train))\n",
    "\n",
    "predict = np.exp(reg.predict(X_test))\n",
    "\n",
    "print(f\"Точность модели по метрике MAPE: {(mape(y_test, predict))*100:0.2f}%\")\n",
    "\n",
    "Точность модели по метрике MAPE: 21.66%\n",
    "\n",
    "from sklearn.model_selection import RandomizedSearchCV\n",
    "\n",
    "n_estimators = [100, 150, 200, 250, 300, 350, 400, 450, 500]\n",
    "\n",
    "max_features = ['auto', 'sqrt']\n",
    "\n",
    "max_depth = [10, 15, 20, 25]\n",
    "\n",
    "max_depth.append(None)\n",
    "\n",
    "min_samples_split = [2,3,4,5,6,7,8,9,10]\n",
    "\n",
    "min_samples_leaf = [1,2,3,4]\n",
    "\n",
    "bootstrap = [True, False]\n",
    "\n",
    "random_grid = {'n_estimators': n_estimators,\n",
    "\n",
    "               'max_features': max_features,\n",
    "\n",
    "               'max_depth': max_depth,\n",
    "\n",
    "               'min_samples_split': min_samples_split,\n",
    "\n",
    "               'min_samples_leaf': min_samples_leaf,\n",
    "\n",
    "               'bootstrap': bootstrap}\n",
    "\n",
    "​\n",
    "\n",
    "model_random = RandomizedSearchCV(estimator=reg, param_distributions=random_grid, n_iter=10, \n",
    "\n",
    "                               cv=3, verbose=2, random_state=42, n_jobs=-1)\n",
    "\n",
    "model_random.fit(X_train, y_train)\n",
    "\n",
    "​\n",
    "\n",
    "model_random.best_params_\n",
    "\n",
    "​\n",
    "\n",
    "​\n",
    "\n",
    "Fitting 3 folds for each of 10 candidates, totalling 30 fits\n",
    "\n",
    "[Parallel(n_jobs=-1)]: Using backend LokyBackend with 4 concurrent workers.\n",
    "[Parallel(n_jobs=-1)]: Done  30 out of  30 | elapsed:  1.2min finished\n",
    "\n",
    "{'n_estimators': 400,\n",
    " 'min_samples_split': 9,\n",
    " 'min_samples_leaf': 2,\n",
    " 'max_features': 'auto',\n",
    " 'max_depth': 25,\n",
    " 'bootstrap': False}\n",
    "\n",
    "reg = ExtraTreesRegressor(random_state=RANDOM_SEED, \n",
    "\n",
    "                            n_jobs=-1, \n",
    "\n",
    "                            verbose=1, \n",
    "\n",
    "                            n_estimators = 400, \n",
    "\n",
    "                            min_samples_split = 9, \n",
    "\n",
    "                            min_samples_leaf = 2, \n",
    "\n",
    "                            max_features = 'auto', \n",
    "\n",
    "                            max_depth = 25, \n",
    "\n",
    "                            bootstrap = False)\n",
    "\n",
    "reg.fit(X_train, y_train)\n",
    "\n",
    "y_pred = reg.predict(X_test)\n",
    "\n",
    "print(f\"Точность модели по метрике MAPE: {(mape(y_test, y_pred))*100:0.2f}%\")\n",
    "\n",
    "​\n",
    "\n",
    "​\n",
    "\n",
    "[Parallel(n_jobs=-1)]: Using backend ThreadingBackend with 4 concurrent workers.\n",
    "[Parallel(n_jobs=-1)]: Done  42 tasks      | elapsed:    0.4s\n",
    "[Parallel(n_jobs=-1)]: Done 192 tasks      | elapsed:    2.0s\n",
    "[Parallel(n_jobs=-1)]: Done 400 out of 400 | elapsed:    4.1s finished\n",
    "[Parallel(n_jobs=4)]: Using backend ThreadingBackend with 4 concurrent workers.\n",
    "[Parallel(n_jobs=4)]: Done  42 tasks      | elapsed:    0.0s\n",
    "[Parallel(n_jobs=4)]: Done 192 tasks      | elapsed:    0.0s\n",
    "\n",
    "Точность модели по метрике MAPE: 21.60%\n",
    "\n",
    "[Parallel(n_jobs=4)]: Done 400 out of 400 | elapsed:    0.1s finished\n",
    "\n",
    "reg.fit(X_train, np.log(y_train))\n",
    "\n",
    "y_pred = np.exp(reg.predict(X_test))\n",
    "\n",
    "print(f\"Точность модели по метрике MAPE: {(mape(y_test, y_pred))*100:0.2f}%\")\n",
    "\n",
    "[Parallel(n_jobs=-1)]: Using backend ThreadingBackend with 4 concurrent workers.\n",
    "[Parallel(n_jobs=-1)]: Done  42 tasks      | elapsed:    0.3s\n",
    "[Parallel(n_jobs=-1)]: Done 192 tasks      | elapsed:    1.8s\n",
    "[Parallel(n_jobs=-1)]: Done 400 out of 400 | elapsed:    4.0s finished\n",
    "[Parallel(n_jobs=4)]: Using backend ThreadingBackend with 4 concurrent workers.\n",
    "[Parallel(n_jobs=4)]: Done  42 tasks      | elapsed:    0.0s\n",
    "[Parallel(n_jobs=4)]: Done 192 tasks      | elapsed:    0.0s\n",
    "\n",
    "Точность модели по метрике MAPE: 18.62%\n",
    "\n",
    "[Parallel(n_jobs=4)]: Done 400 out of 400 | elapsed:    0.1s finished\n",
    "\n",
    "Не очень то настройка гиперпараметров помогла\n",
    "RandomForestRegressor\n",
    "\n",
    "rfr = RandomForestRegressor(random_state=RANDOM_SEED)\n",
    "\n",
    "rfr.fit(X_train, y_train)\n",
    "\n",
    "y_pred = rfr.predict(X_test)\n",
    "\n",
    "print(f\"Точность модели по метрике MAPE: {(mape(y_test, y_pred))*100:0.2f}%\")\n",
    "\n",
    "Точность модели по метрике MAPE: 23.40%\n",
    "\n",
    "rfr.fit(X_train, np.log(y_train))\n",
    "\n",
    "y_pred = np.exp(rfr.predict(X_test))\n",
    "\n",
    "print(f\"Точность модели по метрике MAPE: {(mape(y_test, y_pred))*100:0.2f}%\")\n",
    "\n",
    "Точность модели по метрике MAPE: 20.38%\n",
    "\n",
    "n_estimators = [100, 150, 200, 250, 300, 350, 400]\n",
    "\n",
    "max_features = ['auto', 'sqrt']\n",
    "\n",
    "max_depth = [10, 15, 20, 25]\n",
    "\n",
    "min_samples_split = [2, 4, 6, 8, 10]\n",
    "\n",
    "min_samples_leaf = [1, 2, 4]\n",
    "\n",
    "bootstrap = [True, False]\n",
    "\n",
    "random_grid = {'n_estimators': n_estimators,\n",
    "\n",
    "               'max_features': max_features,\n",
    "\n",
    "               'max_depth': max_depth,\n",
    "\n",
    "               'min_samples_split': min_samples_split,\n",
    "\n",
    "               'min_samples_leaf': min_samples_leaf,\n",
    "\n",
    "               'bootstrap': bootstrap}\n",
    "\n",
    "​\n",
    "\n",
    "​\n",
    "\n",
    "model_random = RandomizedSearchCV(estimator=rfr, param_distributions=random_grid, n_iter=10, \n",
    "\n",
    "                               cv=3, verbose=2, random_state=42, n_jobs=-1)\n",
    "\n",
    "model_random.fit(X_train, y_train)\n",
    "\n",
    "​\n",
    "\n",
    "​\n",
    "\n",
    "Fitting 3 folds for each of 10 candidates, totalling 30 fits\n",
    "\n",
    "[Parallel(n_jobs=-1)]: Using backend LokyBackend with 4 concurrent workers.\n",
    "[Parallel(n_jobs=-1)]: Done  30 out of  30 | elapsed:  1.6min finished\n",
    "\n",
    "RandomizedSearchCV(cv=3, estimator=RandomForestRegressor(random_state=42),\n",
    "                   n_jobs=-1,\n",
    "                   param_distributions={'bootstrap': [True, False],\n",
    "                                        'max_depth': [10, 15, 20, 25],\n",
    "                                        'max_features': ['auto', 'sqrt'],\n",
    "                                        'min_samples_leaf': [1, 2, 4],\n",
    "                                        'min_samples_split': [2, 4, 6, 8, 10],\n",
    "                                        'n_estimators': [100, 150, 200, 250,\n",
    "                                                         300, 350, 400]},\n",
    "                   random_state=42, verbose=2)\n",
    "\n",
    "model_random.best_params_\n",
    "\n",
    "{'n_estimators': 100,\n",
    " 'min_samples_split': 10,\n",
    " 'min_samples_leaf': 2,\n",
    " 'max_features': 'sqrt',\n",
    " 'max_depth': 25,\n",
    " 'bootstrap': False}\n",
    "\n",
    "rfr = RandomForestRegressor(random_state=RANDOM_SEED, n_jobs=-1,verbose=1, n_estimators=100,\n",
    "\n",
    "                             min_samples_split=10, min_samples_leaf=2, max_features='sqrt',\n",
    "\n",
    "                             max_depth=25, bootstrap=False)\n",
    "\n",
    "​\n",
    "\n",
    "rfr.fit(X_train, np.log(y_train))\n",
    "\n",
    "​\n",
    "\n",
    "y_pred = np.exp(rfr.predict(X_test))\n",
    "\n",
    "​\n",
    "\n",
    "print(f\"Точность модели по метрике MAPE: {(mape(y_test, y_pred))*100:0.2f}%\")\n",
    "\n",
    "[Parallel(n_jobs=-1)]: Using backend ThreadingBackend with 4 concurrent workers.\n",
    "[Parallel(n_jobs=-1)]: Done  42 tasks      | elapsed:    0.4s\n",
    "\n",
    "Точность модели по метрике MAPE: 19.16%\n",
    "\n",
    "[Parallel(n_jobs=-1)]: Done 100 out of 100 | elapsed:    1.1s finished\n",
    "[Parallel(n_jobs=4)]: Using backend ThreadingBackend with 4 concurrent workers.\n",
    "[Parallel(n_jobs=4)]: Done  42 tasks      | elapsed:    0.0s\n",
    "[Parallel(n_jobs=4)]: Done 100 out of 100 | elapsed:    0.0s finished\n",
    "\n",
    "GradientBoostingRegressor\n",
    "\n",
    "from sklearn.ensemble import GradientBoostingRegressor\n",
    "\n",
    "model = GradientBoostingRegressor(random_state=RANDOM_SEED).fit(X_train, np.log(y_train))\n",
    "\n",
    "y_pred = np.exp(model.predict(X_test))\n",
    "\n",
    "print(f\"Точность модели по метрике MAPE: {(mape(y_test, y_pred))*100:0.2f}%\")\n",
    "\n",
    "Точность модели по метрике MAPE: 22.94%\n",
    "\n",
    "​\n",
    "\n",
    "BaggingRegressor\n",
    "\n",
    "from sklearn.ensemble import BaggingRegressor\n",
    "\n",
    "from sklearn.datasets import make_regression\n",
    "\n",
    "model = RandomForestRegressor(random_state=RANDOM_SEED).fit(X_train, np.log(y_train))\n",
    "\n",
    "y_pred = np.exp(model.predict(X_test))\n",
    "\n",
    "print(f\"Точность модели по метрике MAPE: {(mape(y_test, y_pred))*100:0.2f}%\")\n",
    "\n",
    "Точность модели по метрике MAPE: 20.38%\n"
   ]
  },
  {
   "cell_type": "markdown",
   "metadata": {
    "papermill": {
     "duration": 0.141757,
     "end_time": "2022-01-07T10:01:14.943311",
     "exception": false,
     "start_time": "2022-01-07T10:01:14.801554",
     "status": "completed"
    },
    "tags": []
   },
   "source": [
    "## Попытка стекинга"
   ]
  },
  {
   "cell_type": "code",
   "execution_count": 117,
   "metadata": {
    "execution": {
     "iopub.execute_input": "2022-01-07T10:01:15.241972Z",
     "iopub.status.busy": "2022-01-07T10:01:15.240900Z",
     "iopub.status.idle": "2022-01-07T10:05:19.299552Z",
     "shell.execute_reply": "2022-01-07T10:05:19.300196Z",
     "shell.execute_reply.started": "2022-01-07T09:53:59.788511Z"
    },
    "papermill": {
     "duration": 244.211305,
     "end_time": "2022-01-07T10:05:19.300416",
     "exception": false,
     "start_time": "2022-01-07T10:01:15.089111",
     "status": "completed"
    },
    "tags": []
   },
   "outputs": [
    {
     "name": "stderr",
     "output_type": "stream",
     "text": [
      "[Parallel(n_jobs=-1)]: Using backend LokyBackend with 4 concurrent workers.\n",
      "[Parallel(n_jobs=-1)]: Done  42 tasks      | elapsed:    3.2s\n",
      "[Parallel(n_jobs=-1)]: Done 192 tasks      | elapsed:    7.6s\n",
      "[Parallel(n_jobs=-1)]: Done 400 out of 400 | elapsed:   14.2s finished\n",
      "[Parallel(n_jobs=-1)]: Using backend LokyBackend with 4 concurrent workers.\n",
      "[Parallel(n_jobs=-1)]: Done  76 tasks      | elapsed:    1.9s\n",
      "[Parallel(n_jobs=-1)]: Done 376 tasks      | elapsed:    8.9s\n",
      "[Parallel(n_jobs=-1)]: Done 400 out of 400 | elapsed:    9.4s finished\n",
      "[Parallel(n_jobs=4)]: Using backend ThreadingBackend with 4 concurrent workers.\n",
      "[Parallel(n_jobs=4)]: Done  42 tasks      | elapsed:    0.0s\n",
      "[Parallel(n_jobs=4)]: Done 192 tasks      | elapsed:    0.2s\n",
      "[Parallel(n_jobs=4)]: Done 400 out of 400 | elapsed:    0.3s finished\n",
      "[Parallel(n_jobs=-1)]: Using backend LokyBackend with 4 concurrent workers.\n",
      "[Parallel(n_jobs=-1)]: Done  76 tasks      | elapsed:    2.2s\n",
      "[Parallel(n_jobs=-1)]: Done 376 tasks      | elapsed:    9.2s\n",
      "[Parallel(n_jobs=-1)]: Done 400 out of 400 | elapsed:    9.7s finished\n",
      "[Parallel(n_jobs=4)]: Using backend ThreadingBackend with 4 concurrent workers.\n",
      "[Parallel(n_jobs=4)]: Done  42 tasks      | elapsed:    0.0s\n",
      "[Parallel(n_jobs=4)]: Done 192 tasks      | elapsed:    0.2s\n",
      "[Parallel(n_jobs=4)]: Done 400 out of 400 | elapsed:    0.4s finished\n",
      "[Parallel(n_jobs=-1)]: Using backend LokyBackend with 4 concurrent workers.\n",
      "[Parallel(n_jobs=-1)]: Done  76 tasks      | elapsed:    1.9s\n",
      "[Parallel(n_jobs=-1)]: Done 376 tasks      | elapsed:    8.8s\n",
      "[Parallel(n_jobs=-1)]: Done 400 out of 400 | elapsed:    9.3s finished\n",
      "[Parallel(n_jobs=4)]: Using backend ThreadingBackend with 4 concurrent workers.\n",
      "[Parallel(n_jobs=4)]: Done  42 tasks      | elapsed:    0.0s\n",
      "[Parallel(n_jobs=4)]: Done 192 tasks      | elapsed:    0.2s\n",
      "[Parallel(n_jobs=4)]: Done 400 out of 400 | elapsed:    0.3s finished\n",
      "[Parallel(n_jobs=-1)]: Using backend LokyBackend with 4 concurrent workers.\n",
      "[Parallel(n_jobs=-1)]: Done  76 tasks      | elapsed:    1.9s\n",
      "[Parallel(n_jobs=-1)]: Done 376 tasks      | elapsed:    8.9s\n",
      "[Parallel(n_jobs=-1)]: Done 400 out of 400 | elapsed:    9.5s finished\n",
      "[Parallel(n_jobs=4)]: Using backend ThreadingBackend with 4 concurrent workers.\n",
      "[Parallel(n_jobs=4)]: Done  42 tasks      | elapsed:    0.0s\n",
      "[Parallel(n_jobs=4)]: Done 192 tasks      | elapsed:    0.2s\n",
      "[Parallel(n_jobs=4)]: Done 400 out of 400 | elapsed:    0.3s finished\n",
      "[Parallel(n_jobs=-1)]: Using backend LokyBackend with 4 concurrent workers.\n",
      "[Parallel(n_jobs=-1)]: Done  76 tasks      | elapsed:    1.9s\n",
      "[Parallel(n_jobs=-1)]: Done 376 tasks      | elapsed:    9.3s\n",
      "[Parallel(n_jobs=-1)]: Done 400 out of 400 | elapsed:    9.8s finished\n",
      "[Parallel(n_jobs=4)]: Using backend ThreadingBackend with 4 concurrent workers.\n",
      "[Parallel(n_jobs=4)]: Done  42 tasks      | elapsed:    0.0s\n",
      "[Parallel(n_jobs=4)]: Done 192 tasks      | elapsed:    0.1s\n",
      "[Parallel(n_jobs=4)]: Done 400 out of 400 | elapsed:    0.3s finished\n",
      "[Parallel(n_jobs=4)]: Using backend ThreadingBackend with 4 concurrent workers.\n",
      "[Parallel(n_jobs=4)]: Done  42 tasks      | elapsed:    0.1s\n",
      "[Parallel(n_jobs=4)]: Done 192 tasks      | elapsed:    0.3s\n",
      "[Parallel(n_jobs=4)]: Done 400 out of 400 | elapsed:    0.4s finished\n"
     ]
    },
    {
     "name": "stdout",
     "output_type": "stream",
     "text": [
      "Точность модели по метрике MAPE: 15.50%.\n"
     ]
    }
   ],
   "source": [
    "estimators = [\n",
    "    ('cat', CatBoostRegressor(iterations = 5000,\n",
    "                          random_seed = RANDOM_SEED,\n",
    "                          eval_metric='MAPE',\n",
    "                          custom_metric=['R2', 'MAE'],\n",
    "                          silent=True,\n",
    "                         )),\n",
    "    ('etr', ExtraTreesRegressor(random_state=RANDOM_SEED, \n",
    "                            n_jobs=-1, \n",
    "                            verbose=1, \n",
    "                            n_estimators = 400, \n",
    "                            min_samples_split = 9, \n",
    "                            min_samples_leaf = 2, \n",
    "                            max_features = 'auto', \n",
    "                            max_depth = 25, \n",
    "                            bootstrap = False)),\n",
    "    ('xgb', XGBRegressor(random_state=RANDOM_SEED)),\n",
    "    ]\n",
    "\n",
    "stack_log = StackingRegressor(estimators=estimators,\n",
    "                              final_estimator=LinearRegression()\n",
    "                              )\n",
    "\n",
    "stack_log.fit(X_train, np.log(y_train))\n",
    "\n",
    "y_pred = np.exp(stack_log.predict(X_test))\n",
    "\n",
    "print(f\"Точность модели по метрике MAPE: {(mape(y_test, y_pred) * 100):0.2f}%.\")"
   ]
  },
  {
   "cell_type": "code",
   "execution_count": 118,
   "metadata": {
    "execution": {
     "iopub.execute_input": "2022-01-07T10:05:19.657557Z",
     "iopub.status.busy": "2022-01-07T10:05:19.656702Z",
     "iopub.status.idle": "2022-01-07T10:05:20.845743Z",
     "shell.execute_reply": "2022-01-07T10:05:20.844712Z",
     "shell.execute_reply.started": "2022-01-07T09:58:07.865236Z"
    },
    "papermill": {
     "duration": 1.347657,
     "end_time": "2022-01-07T10:05:20.845941",
     "exception": false,
     "start_time": "2022-01-07T10:05:19.498284",
     "status": "completed"
    },
    "tags": []
   },
   "outputs": [
    {
     "name": "stderr",
     "output_type": "stream",
     "text": [
      "[Parallel(n_jobs=4)]: Using backend ThreadingBackend with 4 concurrent workers.\n",
      "[Parallel(n_jobs=4)]: Done  42 tasks      | elapsed:    0.1s\n",
      "[Parallel(n_jobs=4)]: Done 192 tasks      | elapsed:    0.4s\n",
      "[Parallel(n_jobs=4)]: Done 400 out of 400 | elapsed:    0.9s finished\n"
     ]
    }
   ],
   "source": [
    "predict_submission = np.exp(stack_log.predict(X_sub))"
   ]
  },
  {
   "cell_type": "markdown",
   "metadata": {
    "papermill": {
     "duration": 0.154129,
     "end_time": "2022-01-07T10:05:21.197370",
     "exception": false,
     "start_time": "2022-01-07T10:05:21.043241",
     "status": "completed"
    },
    "tags": []
   },
   "source": [
    "# Submission"
   ]
  },
  {
   "cell_type": "code",
   "execution_count": 119,
   "metadata": {
    "execution": {
     "iopub.execute_input": "2022-01-07T10:05:21.511793Z",
     "iopub.status.busy": "2022-01-07T10:05:21.511103Z",
     "iopub.status.idle": "2022-01-07T10:05:21.904565Z",
     "shell.execute_reply": "2022-01-07T10:05:21.903925Z",
     "shell.execute_reply.started": "2022-01-07T09:58:09.103793Z"
    },
    "papermill": {
     "duration": 0.553024,
     "end_time": "2022-01-07T10:05:21.904682",
     "exception": false,
     "start_time": "2022-01-07T10:05:21.351658",
     "status": "completed"
    },
    "tags": []
   },
   "outputs": [
    {
     "data": {
      "text/html": [
       "<div>\n",
       "<style scoped>\n",
       "    .dataframe tbody tr th:only-of-type {\n",
       "        vertical-align: middle;\n",
       "    }\n",
       "\n",
       "    .dataframe tbody tr th {\n",
       "        vertical-align: top;\n",
       "    }\n",
       "\n",
       "    .dataframe thead th {\n",
       "        text-align: right;\n",
       "    }\n",
       "</style>\n",
       "<table border=\"1\" class=\"dataframe\">\n",
       "  <thead>\n",
       "    <tr style=\"text-align: right;\">\n",
       "      <th></th>\n",
       "      <th>sell_id</th>\n",
       "      <th>price</th>\n",
       "    </tr>\n",
       "  </thead>\n",
       "  <tbody>\n",
       "    <tr>\n",
       "      <th>0</th>\n",
       "      <td>1100575026</td>\n",
       "      <td>8.405091e+05</td>\n",
       "    </tr>\n",
       "    <tr>\n",
       "      <th>1</th>\n",
       "      <td>1100549428</td>\n",
       "      <td>1.237893e+06</td>\n",
       "    </tr>\n",
       "    <tr>\n",
       "      <th>2</th>\n",
       "      <td>1100658222</td>\n",
       "      <td>1.017500e+06</td>\n",
       "    </tr>\n",
       "    <tr>\n",
       "      <th>3</th>\n",
       "      <td>1100937408</td>\n",
       "      <td>8.555543e+05</td>\n",
       "    </tr>\n",
       "    <tr>\n",
       "      <th>4</th>\n",
       "      <td>1101037972</td>\n",
       "      <td>8.187319e+05</td>\n",
       "    </tr>\n",
       "    <tr>\n",
       "      <th>5</th>\n",
       "      <td>1100912634</td>\n",
       "      <td>7.793264e+05</td>\n",
       "    </tr>\n",
       "    <tr>\n",
       "      <th>6</th>\n",
       "      <td>1101228730</td>\n",
       "      <td>7.268597e+05</td>\n",
       "    </tr>\n",
       "    <tr>\n",
       "      <th>7</th>\n",
       "      <td>1100165896</td>\n",
       "      <td>5.194862e+05</td>\n",
       "    </tr>\n",
       "    <tr>\n",
       "      <th>8</th>\n",
       "      <td>1100768262</td>\n",
       "      <td>2.392234e+06</td>\n",
       "    </tr>\n",
       "    <tr>\n",
       "      <th>9</th>\n",
       "      <td>1101218501</td>\n",
       "      <td>8.161550e+05</td>\n",
       "    </tr>\n",
       "  </tbody>\n",
       "</table>\n",
       "</div>"
      ],
      "text/plain": [
       "      sell_id         price\n",
       "0  1100575026  8.405091e+05\n",
       "1  1100549428  1.237893e+06\n",
       "2  1100658222  1.017500e+06\n",
       "3  1100937408  8.555543e+05\n",
       "4  1101037972  8.187319e+05\n",
       "5  1100912634  7.793264e+05\n",
       "6  1101228730  7.268597e+05\n",
       "7  1100165896  5.194862e+05\n",
       "8  1100768262  2.392234e+06\n",
       "9  1101218501  8.161550e+05"
      ]
     },
     "execution_count": 119,
     "metadata": {},
     "output_type": "execute_result"
    }
   ],
   "source": [
    "sample_submission['price'] = predict_submission\n",
    "sample_submission.to_csv(f'submission_2_v{VERSION}.csv', index=False)\n",
    "sample_submission.head(10)"
   ]
  },
  {
   "cell_type": "markdown",
   "metadata": {
    "papermill": {
     "duration": 0.154979,
     "end_time": "2022-01-07T10:05:22.215134",
     "exception": false,
     "start_time": "2022-01-07T10:05:22.060155",
     "status": "completed"
    },
    "tags": []
   },
   "source": [
    "В итоге получили **MAPE 20%** на ЛБ!\n"
   ]
  },
  {
   "cell_type": "markdown",
   "metadata": {
    "papermill": {
     "duration": 0.153727,
     "end_time": "2022-01-07T10:05:22.524772",
     "exception": false,
     "start_time": "2022-01-07T10:05:22.371045",
     "status": "completed"
    },
    "tags": []
   },
   "source": [
    "# What's next?\n",
    "Или что еще можно сделать, чтоб улучшить результат:\n",
    "\n",
    "* Спарсить свежие данные \n",
    "* Посмотреть, что можно извлечь из признаков или как еще можно обработать признаки\n",
    "* Сгенерировать новые признаки\n",
    "* Попробовать подобрать параметры модели\n",
    "* Попробовать другие алгоритмы и библиотеки ML\n",
    "* Сделать Ансамбль моделей, Blending, Stacking"
   ]
  },
  {
   "cell_type": "markdown",
   "metadata": {
    "papermill": {
     "duration": 0.152426,
     "end_time": "2022-01-07T10:05:22.830072",
     "exception": false,
     "start_time": "2022-01-07T10:05:22.677646",
     "status": "completed"
    },
    "tags": []
   },
   "source": [
    "Подробный чек лист: https://docs.google.com/spreadsheets/d/1I_ErM3U0Cs7Rs1obyZbIEGtVn-H47pHNCi4xdDgUmXY/edit?usp=sharing"
   ]
  },
  {
   "cell_type": "code",
   "execution_count": null,
   "metadata": {
    "papermill": {
     "duration": 0.153486,
     "end_time": "2022-01-07T10:05:23.137377",
     "exception": false,
     "start_time": "2022-01-07T10:05:22.983891",
     "status": "completed"
    },
    "tags": []
   },
   "outputs": [],
   "source": []
  },
  {
   "cell_type": "code",
   "execution_count": null,
   "metadata": {
    "papermill": {
     "duration": 0.154536,
     "end_time": "2022-01-07T10:05:23.446573",
     "exception": false,
     "start_time": "2022-01-07T10:05:23.292037",
     "status": "completed"
    },
    "tags": []
   },
   "outputs": [],
   "source": []
  },
  {
   "cell_type": "code",
   "execution_count": null,
   "metadata": {
    "papermill": {
     "duration": 0.152378,
     "end_time": "2022-01-07T10:05:23.754903",
     "exception": false,
     "start_time": "2022-01-07T10:05:23.602525",
     "status": "completed"
    },
    "tags": []
   },
   "outputs": [],
   "source": []
  }
 ],
 "metadata": {
  "kernelspec": {
   "display_name": "Python 3",
   "language": "python",
   "name": "python3"
  },
  "language_info": {
   "codemirror_mode": {
    "name": "ipython",
    "version": 3
   },
   "file_extension": ".py",
   "mimetype": "text/x-python",
   "name": "python",
   "nbconvert_exporter": "python",
   "pygments_lexer": "ipython3",
   "version": "3.8.5"
  },
  "papermill": {
   "duration": 404.07891,
   "end_time": "2022-01-07T10:05:24.120183",
   "environment_variables": {},
   "exception": null,
   "input_path": "__notebook__.ipynb",
   "output_path": "__notebook__.ipynb",
   "parameters": {},
   "start_time": "2022-01-07T09:58:40.041273",
   "version": "2.1.0"
  }
 },
 "nbformat": 4,
 "nbformat_minor": 4
}
